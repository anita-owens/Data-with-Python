{
 "cells": [
  {
   "cell_type": "markdown",
   "id": "6fc5c9a1",
   "metadata": {},
   "source": [
    "# Loops"
   ]
  },
  {
   "cell_type": "code",
   "execution_count": 14,
   "id": "30eff40c",
   "metadata": {},
   "outputs": [],
   "source": [
    "import pandas as pd\n",
    "import random\n",
    "import time"
   ]
  },
  {
   "cell_type": "code",
   "execution_count": 15,
   "id": "d1fb6f1d",
   "metadata": {},
   "outputs": [
    {
     "name": "stdout",
     "output_type": "stream",
     "text": [
      "0\n"
     ]
    }
   ],
   "source": [
    "word='high'\n",
    "letter='h'\n",
    "def find(word,letter):\n",
    "    index = 0\n",
    "    while index < len(word):\n",
    "        if word[index]== letter:\n",
    "            return index\n",
    "        index = index +1\n",
    "    return -1\n",
    "print(find(word,letter))"
   ]
  },
  {
   "cell_type": "code",
   "execution_count": 4,
   "id": "083a054f",
   "metadata": {},
   "outputs": [
    {
     "name": "stdout",
     "output_type": "stream",
     "text": [
      "3\n"
     ]
    }
   ],
   "source": [
    "#Print the occurences of the letter a in banana\n",
    "word = 'banana'\n",
    "count = 0\n",
    "for letter in word:\n",
    "    if letter == 'a':\n",
    "        count = count + 1\n",
    "print(count)"
   ]
  },
  {
   "cell_type": "code",
   "execution_count": 7,
   "id": "91b02fd1",
   "metadata": {},
   "outputs": [
    {
     "name": "stdout",
     "output_type": "stream",
     "text": [
      "3\n",
      "3\n",
      "1\n"
     ]
    }
   ],
   "source": [
    "#assign 8-5\n",
    "#Same as above but now a function\n",
    "def count(word,letter):\n",
    "    count = 0\n",
    "    for letter in word:\n",
    "        if letter == 'a':\n",
    "            count = count + 1\n",
    "    return count\n",
    "print(count(word,letter))\n",
    "\n",
    "print(count('banana',''))\n",
    "print(count('apples', ''))"
   ]
  },
  {
   "cell_type": "markdown",
   "id": "81afa014",
   "metadata": {},
   "source": [
    "## Range"
   ]
  },
  {
   "cell_type": "code",
   "execution_count": 2,
   "id": "f90bdbca",
   "metadata": {},
   "outputs": [
    {
     "name": "stdout",
     "output_type": "stream",
     "text": [
      "2 is a prime number\n",
      "3 is a prime number\n",
      "4 equals 2 * 2.0\n",
      "5 is a prime number\n",
      "6 equals 2 * 3.0\n",
      "7 is a prime number\n",
      "8 equals 2 * 4.0\n",
      "9 equals 3 * 3.0\n"
     ]
    }
   ],
   "source": [
    "for n in range(2, 10):\n",
    "    for x in range(2, n):\n",
    "        if n % x == 0:\n",
    "            print(n, 'equals', x, '*', n/x)\n",
    "            break\n",
    "    else:\n",
    "    # loop fell through without finding a factor\n",
    "        print(n, 'is a prime number')"
   ]
  },
  {
   "cell_type": "code",
   "execution_count": 8,
   "id": "c5c9353e",
   "metadata": {},
   "outputs": [
    {
     "name": "stdout",
     "output_type": "stream",
     "text": [
      "4\n",
      "6\n",
      "8\n"
     ]
    }
   ],
   "source": [
    "for i in range (4, 10, 2):\n",
    "    print(i)"
   ]
  },
  {
   "cell_type": "code",
   "execution_count": 9,
   "id": "f8cb9cd1",
   "metadata": {},
   "outputs": [
    {
     "name": "stdout",
     "output_type": "stream",
     "text": [
      "one\n",
      "two\n",
      "three\n",
      "four\n",
      "five\n"
     ]
    }
   ],
   "source": [
    "my_list = ['one', 'two', 'three', 'four', 'five']\n",
    "my_list_len = len(my_list)\n",
    "for i in range(0, my_list_len):\n",
    "    print(my_list[i])"
   ]
  },
  {
   "cell_type": "code",
   "execution_count": 13,
   "id": "be53963a",
   "metadata": {},
   "outputs": [
    {
     "name": "stdout",
     "output_type": "stream",
     "text": [
      "0\n",
      "1\n",
      "2\n",
      "3\n",
      "4\n",
      "5\n",
      "6\n",
      "7\n",
      "8\n",
      "9\n"
     ]
    }
   ],
   "source": [
    "def lots_of_numbers(max):\n",
    "    for x in range(0, max):\n",
    "        print(x)\n",
    "        \n",
    "lots_of_numbers(10)"
   ]
  },
  {
   "cell_type": "code",
   "execution_count": 23,
   "id": "1d6cd43c",
   "metadata": {},
   "outputs": [
    {
     "name": "stdout",
     "output_type": "stream",
     "text": [
      "Adam\n",
      "Alex\n",
      "Mariah\n",
      "Martine\n",
      "Columbus\n"
     ]
    }
   ],
   "source": [
    "names = [\"Adam\",\"Alex\",\"Mariah\",\"Martine\",\"Columbus\"]\n",
    "for name in names:\n",
    "    print(name)"
   ]
  },
  {
   "cell_type": "code",
   "execution_count": 26,
   "id": "d93e6f02",
   "metadata": {},
   "outputs": [
    {
     "name": "stdout",
     "output_type": "stream",
     "text": [
      "We printed even number 0\n",
      "We printed even number 2\n",
      "We printed even number 4\n",
      "We printed even number 6\n",
      "We printed even number 8\n",
      "We printed even number 10\n",
      "We printed even number 12\n"
     ]
    }
   ],
   "source": [
    "a = [0, 1, 2, 3, 4, 5, 6, 7, 8, 9, 10, 11, 12, 13]\n",
    "for number in a:\n",
    "    if number % 2 ==0:\n",
    "        #print(number)\n",
    "        print(\"We printed even number\", number)"
   ]
  },
  {
   "cell_type": "code",
   "execution_count": 27,
   "id": "27c779ce",
   "metadata": {},
   "outputs": [
    {
     "name": "stdout",
     "output_type": "stream",
     "text": [
      "2\n"
     ]
    }
   ],
   "source": [
    " #functions and for loops       \n",
    "def count_small(numbers):\n",
    "    total = 0\n",
    "    for n in numbers:\n",
    "        if n < 10:\n",
    "            total = total + 1\n",
    "    return total\n",
    "\n",
    "lost = [4, 8, 15, 16, 23, 42]\n",
    "small = count_small(lost)\n",
    "print(small)"
   ]
  },
  {
   "cell_type": "markdown",
   "id": "cd2e8467",
   "metadata": {},
   "source": [
    "# Exercises from Python for Kids"
   ]
  },
  {
   "cell_type": "code",
   "execution_count": 10,
   "id": "86e695f7",
   "metadata": {},
   "outputs": [],
   "source": [
    "import random\n",
    "import time"
   ]
  },
  {
   "cell_type": "code",
   "execution_count": 11,
   "id": "793d69b6",
   "metadata": {},
   "outputs": [
    {
     "name": "stdout",
     "output_type": "stream",
     "text": [
      "candy\n"
     ]
    }
   ],
   "source": [
    "desserts = ['ice cream', 'pancakes', 'brownies', 'cookies',\n",
    "'candy']\n",
    "\n",
    "print(random.choice(desserts))"
   ]
  },
  {
   "cell_type": "code",
   "execution_count": 19,
   "id": "5690c1f9",
   "metadata": {},
   "outputs": [
    {
     "name": "stdout",
     "output_type": "stream",
     "text": [
      "0\n",
      "1\n",
      "2\n",
      "3\n",
      "4\n",
      "5\n",
      "6\n",
      "7\n",
      "8\n",
      "9\n",
      "it took 0.0006768703460693359 seconds\n"
     ]
    }
   ],
   "source": [
    "def lots_of_numbers(max):\n",
    "    t1 = time.time()\n",
    "    for x in range(0, max):\n",
    "        print(x)\n",
    "    t2 = time.time()\n",
    "    t3=t2-t1\n",
    "    #print('it took %s seconds' % (t2-t1))\n",
    "    print(\"it took\", t3, \"seconds\")\n",
    "\n",
    "lots_of_numbers(10)"
   ]
  },
  {
   "cell_type": "code",
   "execution_count": 22,
   "id": "50e010f0",
   "metadata": {},
   "outputs": [
    {
     "name": "stdout",
     "output_type": "stream",
     "text": [
      "1\n",
      "all done\n"
     ]
    }
   ],
   "source": [
    "for x in range(1, 2):\n",
    "    print(x)\n",
    "    time.sleep(1)\n",
    "    print(\"all done\")"
   ]
  },
  {
   "cell_type": "code",
   "execution_count": 28,
   "id": "042760ea",
   "metadata": {},
   "outputs": [
    {
     "name": "stdout",
     "output_type": "stream",
     "text": [
      "A dollar makes me holla honeychild\n"
     ]
    }
   ],
   "source": [
    "print(\"A dollar makes me holla honeychild\")"
   ]
  },
  {
   "cell_type": "code",
   "execution_count": 3,
   "id": "2db8b72c",
   "metadata": {},
   "outputs": [
    {
     "name": "stdout",
     "output_type": "stream",
     "text": [
      "10\n"
     ]
    }
   ],
   "source": [
    "x = 'C'\n",
    "if x == 'A':\n",
    "    print(1)\n",
    "elif x == 'B':\n",
    "    print(6)\n",
    "else:\n",
    "    print(10)"
   ]
  },
  {
   "cell_type": "code",
   "execution_count": null,
   "id": "4dbced28",
   "metadata": {},
   "outputs": [],
   "source": []
  }
 ],
 "metadata": {
  "kernelspec": {
   "display_name": "Python 3 (ipykernel)",
   "language": "python",
   "name": "python3"
  },
  "language_info": {
   "codemirror_mode": {
    "name": "ipython",
    "version": 3
   },
   "file_extension": ".py",
   "mimetype": "text/x-python",
   "name": "python",
   "nbconvert_exporter": "python",
   "pygments_lexer": "ipython3",
   "version": "3.9.7"
  }
 },
 "nbformat": 4,
 "nbformat_minor": 5
}
