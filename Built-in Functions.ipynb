{
 "cells": [
  {
   "cell_type": "markdown",
   "id": "963bf9b7",
   "metadata": {},
   "source": [
    "# Typing lists of numbers"
   ]
  },
  {
   "cell_type": "code",
   "execution_count": 1,
   "id": "1914f01d",
   "metadata": {},
   "outputs": [
    {
     "name": "stdout",
     "output_type": "stream",
     "text": [
      "[1, 2, 3, 4, 5, 6, 7, 8, 9, 10]\n"
     ]
    }
   ],
   "source": [
    "nums = [1,2,3,4,5,6,7,8,9,10]\n",
    "print(nums)"
   ]
  },
  {
   "cell_type": "markdown",
   "id": "2b3cff23",
   "metadata": {},
   "source": [
    "Use range() instead"
   ]
  },
  {
   "cell_type": "code",
   "execution_count": 6,
   "id": "b75e01ae",
   "metadata": {},
   "outputs": [
    {
     "name": "stdout",
     "output_type": "stream",
     "text": [
      "[1, 2, 3, 4, 5, 6, 7, 8, 9, 10]\n"
     ]
    }
   ],
   "source": [
    "#range(start, stop)\n",
    "#stop excludes \n",
    "nums = range(1,11)\n",
    "\n",
    "nums_list = list(nums)\n",
    "print(nums_list)"
   ]
  },
  {
   "cell_type": "code",
   "execution_count": 7,
   "id": "e3e96395",
   "metadata": {},
   "outputs": [
    {
     "name": "stdout",
     "output_type": "stream",
     "text": [
      "[2, 4, 6, 8, 10]\n"
     ]
    }
   ],
   "source": [
    "#Even numbers\n",
    "#range(start, stop, step)\n",
    "even_nums = range(2,12,2)\n",
    "\n",
    "even_nums_list = list(even_nums)\n",
    "print(even_nums_list)"
   ]
  },
  {
   "cell_type": "markdown",
   "id": "bf6ebff5",
   "metadata": {},
   "source": [
    "# Enumerate"
   ]
  },
  {
   "cell_type": "markdown",
   "id": "65813d48",
   "metadata": {},
   "source": [
    "Creates an indexed list of objects"
   ]
  },
  {
   "cell_type": "code",
   "execution_count": 8,
   "id": "51c5017e",
   "metadata": {},
   "outputs": [
    {
     "name": "stdout",
     "output_type": "stream",
     "text": [
      "[(0, 'a'), (1, 'b'), (2, 'c'), (3, 'd')]\n"
     ]
    }
   ],
   "source": [
    "letters = ['a', 'b', 'c', 'd']\n",
    "\n",
    "indexed_letters = enumerate(letters)\n",
    "\n",
    "indexed_letters_list = list(indexed_letters)\n",
    "print(indexed_letters_list)"
   ]
  },
  {
   "cell_type": "code",
   "execution_count": 9,
   "id": "da09b479",
   "metadata": {},
   "outputs": [
    {
     "name": "stdout",
     "output_type": "stream",
     "text": [
      "[(5, 'a'), (6, 'b'), (7, 'c'), (8, 'd')]\n"
     ]
    }
   ],
   "source": [
    "#Can specifiy a start value\n",
    "letters = ['a', 'b', 'c', 'd']\n",
    "\n",
    "indexed_letters2 = enumerate(letters, start = 5)\n",
    "\n",
    "indexed_letters2_list = list(indexed_letters2)\n",
    "print(indexed_letters2_list)"
   ]
  },
  {
   "cell_type": "markdown",
   "id": "5af4df27",
   "metadata": {},
   "source": [
    "# Map"
   ]
  },
  {
   "cell_type": "markdown",
   "id": "984528cf",
   "metadata": {},
   "source": [
    "Applies a function over an object"
   ]
  },
  {
   "cell_type": "code",
   "execution_count": 11,
   "id": "c75719c7",
   "metadata": {},
   "outputs": [
    {
     "name": "stdout",
     "output_type": "stream",
     "text": [
      "[1, 2, 4, 4, 6]\n"
     ]
    }
   ],
   "source": [
    "nums = [1.2,2,3.8,4,5.9]\n",
    "\n",
    "round_nums = map(round, nums)\n",
    "\n",
    "#Returns each number in the list rounded to whole number\n",
    "print(list(round_nums))"
   ]
  },
  {
   "cell_type": "code",
   "execution_count": 13,
   "id": "eaabb8e7",
   "metadata": {},
   "outputs": [
    {
     "name": "stdout",
     "output_type": "stream",
     "text": [
      "[1, 4, 9, 16, 25]\n"
     ]
    }
   ],
   "source": [
    "#Map with a lambda (anonymous function\n",
    "#Better than running a for loop\n",
    "nums = [1,2,3,4,5]\n",
    "\n",
    "sqrd_nums = map(lambda x: x ** 2, nums)\n",
    "\n",
    "print(list(sqrd_nums))"
   ]
  }
 ],
 "metadata": {
  "kernelspec": {
   "display_name": "Python 3 (ipykernel)",
   "language": "python",
   "name": "python3"
  },
  "language_info": {
   "codemirror_mode": {
    "name": "ipython",
    "version": 3
   },
   "file_extension": ".py",
   "mimetype": "text/x-python",
   "name": "python",
   "nbconvert_exporter": "python",
   "pygments_lexer": "ipython3",
   "version": "3.9.7"
  }
 },
 "nbformat": 4,
 "nbformat_minor": 5
}
