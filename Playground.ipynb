{
 "cells": [
  {
   "cell_type": "code",
   "execution_count": 1,
   "id": "7d4235b5",
   "metadata": {},
   "outputs": [],
   "source": [
    "#import packages\n",
    "import pandas as pd\n",
    "import numpy as np\n",
    "import time\n",
    "import webbrowser\n",
    "import pickle\n",
    "from datetime import date\n",
    "import os"
   ]
  },
  {
   "cell_type": "code",
   "execution_count": null,
   "id": "eea4141c",
   "metadata": {},
   "outputs": [],
   "source": [
    "rotation_period = {\n",
    "    'earth': 1.0,\n",
    "    'jupiter': 0.415,\n",
    "    'saturn': 44}\n",
    "\n",
    "print(rotation_period)"
   ]
  },
  {
   "cell_type": "code",
   "execution_count": null,
   "id": "a4adf957",
   "metadata": {},
   "outputs": [],
   "source": [
    "rotation_period['saturn']  = 0.445\n",
    "print(rotation_period)"
   ]
  },
  {
   "cell_type": "code",
   "execution_count": null,
   "id": "fa43453c",
   "metadata": {},
   "outputs": [],
   "source": [
    "True and False"
   ]
  },
  {
   "cell_type": "code",
   "execution_count": null,
   "id": "011ebf9a",
   "metadata": {},
   "outputs": [],
   "source": [
    "True and True"
   ]
  },
  {
   "cell_type": "code",
   "execution_count": null,
   "id": "87f249f8",
   "metadata": {},
   "outputs": [],
   "source": [
    "False and False"
   ]
  },
  {
   "cell_type": "code",
   "execution_count": null,
   "id": "449bdcb7",
   "metadata": {},
   "outputs": [],
   "source": [
    "not True"
   ]
  },
  {
   "attachments": {},
   "cell_type": "markdown",
   "id": "2734b63f",
   "metadata": {},
   "source": [
    "##DataFrames"
   ]
  },
  {
   "cell_type": "code",
   "execution_count": 2,
   "id": "e69acb57",
   "metadata": {},
   "outputs": [
    {
     "name": "stdout",
     "output_type": "stream",
     "text": [
      "   A  B  C             D\n",
      "0  1  4  7      beginner\n",
      "1  2  5  8  intermediate\n",
      "2  3  6  9      advanced\n"
     ]
    }
   ],
   "source": [
    "df = pd.DataFrame({\n",
    "    'A': [1,2,3],\n",
    "    'B': [4,5,6],\n",
    "    'C': [7,8,9],\n",
    "    'D': [\"beginner\", \"intermediate\", \"advanced\"]})\n",
    "\n",
    "print(df)"
   ]
  },
  {
   "cell_type": "code",
   "execution_count": 4,
   "id": "7bf120cd",
   "metadata": {},
   "outputs": [
    {
     "name": "stdout",
     "output_type": "stream",
     "text": [
      "RangeIndex(start=0, stop=3, step=1)\n"
     ]
    }
   ],
   "source": [
    "# What is the correct way to display the row labels\n",
    "print(df.index)"
   ]
  },
  {
   "cell_type": "code",
   "execution_count": null,
   "id": "a9438007",
   "metadata": {},
   "outputs": [],
   "source": [
    "is_less = df['A'] < 3\n",
    "df[is_less]"
   ]
  },
  {
   "cell_type": "code",
   "execution_count": null,
   "id": "f78ca933",
   "metadata": {},
   "outputs": [],
   "source": [
    "import numpy as np\n",
    "x = np.array([0, 4, 4])\n",
    "for j in x:\n",
    "    print(str(j) + ' km')"
   ]
  },
  {
   "cell_type": "code",
   "execution_count": null,
   "id": "815f24e0",
   "metadata": {},
   "outputs": [],
   "source": [
    "def foo():\n",
    "    a = 5\n",
    "    def bar():\n",
    "        print(a)\n",
    "    return bar\n",
    "\n",
    "func = foo()\n",
    "func()\n",
    "\n",
    "type(func.__closure__)"
   ]
  },
  {
   "cell_type": "code",
   "execution_count": 5,
   "id": "feb3f6c4",
   "metadata": {},
   "outputs": [
    {
     "name": "stdout",
     "output_type": "stream",
     "text": [
      "{'name': ['Hill', 'Ohio'], 'age': [32, 43]}\n"
     ]
    }
   ],
   "source": [
    "dict_of_lists = {\"name\": [\"Hill\", \"Ohio\"], \"age\": [32,43]}\n",
    "print(dict_of_lists)"
   ]
  },
  {
   "cell_type": "code",
   "execution_count": 6,
   "id": "7ea95a5d",
   "metadata": {},
   "outputs": [
    {
     "name": "stdout",
     "output_type": "stream",
     "text": [
      "   name  age\n",
      "0  Hill   32\n",
      "1  Ohio   43\n"
     ]
    }
   ],
   "source": [
    "df = pd.DataFrame(dict_of_lists)\n",
    "print(df)"
   ]
  },
  {
   "cell_type": "code",
   "execution_count": 4,
   "id": "bfe94f53",
   "metadata": {},
   "outputs": [
    {
     "name": "stdout",
     "output_type": "stream",
     "text": [
      "[15, 10, 2, 84, 1, 4, 8, 7, 9]\n",
      "15\n",
      "<built-in method index of list object at 0x7fb1e2633b40>\n"
     ]
    },
    {
     "data": {
      "text/plain": [
       "4"
      ]
     },
     "execution_count": 4,
     "metadata": {},
     "output_type": "execute_result"
    }
   ],
   "source": [
    "x=[15,10,2,84] + [1,4,8,7,9]\n",
    "print(x)\n",
    "print(x[0])\n",
    "print(x.index)\n",
    "x.index(x.count(x[0]))"
   ]
  },
  {
   "cell_type": "code",
   "execution_count": 5,
   "id": "1a70cb83",
   "metadata": {},
   "outputs": [
    {
     "data": {
      "text/plain": [
       "'Python exercise'"
      ]
     },
     "execution_count": 5,
     "metadata": {},
     "output_type": "execute_result"
    }
   ],
   "source": [
    "x = \"python\" + \" exercise\"\n",
    "x.capitalize()"
   ]
  }
 ],
 "metadata": {
  "kernelspec": {
   "display_name": "base",
   "language": "python",
   "name": "python3"
  },
  "language_info": {
   "codemirror_mode": {
    "name": "ipython",
    "version": 3
   },
   "file_extension": ".py",
   "mimetype": "text/x-python",
   "name": "python",
   "nbconvert_exporter": "python",
   "pygments_lexer": "ipython3",
   "version": "3.9.7"
  },
  "vscode": {
   "interpreter": {
    "hash": "40d3a090f54c6569ab1632332b64b2c03c39dcf918b08424e98f38b5ae0af88f"
   }
  }
 },
 "nbformat": 4,
 "nbformat_minor": 5
}
