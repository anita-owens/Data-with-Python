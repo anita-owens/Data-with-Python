{
 "cells": [
  {
   "cell_type": "markdown",
   "id": "5be0509f",
   "metadata": {},
   "source": [
    "# Unpacking a dictionary"
   ]
  },
  {
   "cell_type": "code",
   "execution_count": 1,
   "id": "9fd122f7",
   "metadata": {},
   "outputs": [],
   "source": [
    "favorite_languages = {\n",
    "    'jen': 'python',\n",
    "    'sarah': 'c',\n",
    "    'edward': 'ruby',\n",
    "    'phil': 'python',\n",
    "    }"
   ]
  },
  {
   "cell_type": "code",
   "execution_count": 2,
   "id": "99f2e435",
   "metadata": {},
   "outputs": [
    {
     "name": "stdout",
     "output_type": "stream",
     "text": [
      "Looping through dic.items()\n",
      "jen\n",
      "python\n",
      "sarah\n",
      "c\n",
      "edward\n",
      "ruby\n",
      "phil\n",
      "python\n"
     ]
    }
   ],
   "source": [
    "#Looping through a dictionary\n",
    "print(\"Looping through dic.items()\")\n",
    "for key, value in favorite_languages.items():\n",
    "  print(key)\n",
    "  print(value)"
   ]
  },
  {
   "cell_type": "code",
   "execution_count": 3,
   "id": "91c2ce7d",
   "metadata": {},
   "outputs": [
    {
     "name": "stdout",
     "output_type": "stream",
     "text": [
      "found python\n"
     ]
    }
   ],
   "source": [
    "#Find a value in a dictionary\n",
    "if 'python' in favorite_languages.values():\n",
    "  print('found python')\n",
    "else:\n",
    "  print('did not find python')"
   ]
  },
  {
   "cell_type": "code",
   "execution_count": 4,
   "id": "15608b97",
   "metadata": {},
   "outputs": [
    {
     "name": "stdout",
     "output_type": "stream",
     "text": [
      "Sarah's favorite language is C.\n"
     ]
    }
   ],
   "source": [
    "#What is Sarah's favorite language?\n",
    "print(\"Sarah's favorite language is \" + favorite_languages['sarah'].title() + \".\")"
   ]
  },
  {
   "cell_type": "markdown",
   "id": "5868e758",
   "metadata": {},
   "source": [
    "# Keys"
   ]
  },
  {
   "cell_type": "code",
   "execution_count": 5,
   "id": "dbc286eb",
   "metadata": {},
   "outputs": [
    {
     "name": "stdout",
     "output_type": "stream",
     "text": [
      "jen\n",
      "sarah\n",
      "edward\n",
      "phil\n"
     ]
    }
   ],
   "source": [
    "#Looping through the keys\n",
    "for name in favorite_languages.keys():\n",
    "  #does the same as above\n",
    "#for name in favorite_languages:\n",
    "  print(name)"
   ]
  },
  {
   "cell_type": "code",
   "execution_count": null,
   "id": "52cc7cdc",
   "metadata": {},
   "outputs": [],
   "source": [
    "#Keys in alphabetical order\n",
    "print(\"The following are sorted keys ascending:\")\n",
    "for name in sorted(favorite_languages.keys()):\n",
    "  print(name.title())"
   ]
  },
  {
   "cell_type": "code",
   "execution_count": null,
   "id": "86947c84",
   "metadata": {},
   "outputs": [],
   "source": [
    "#Keys in reverse order\n",
    "print(\"The following are sorted keys descending:\")\n",
    "for name in sorted(favorite_languages.keys(), reverse=True):\n",
    "  print(name.title())"
   ]
  },
  {
   "cell_type": "markdown",
   "id": "9d3672ba",
   "metadata": {},
   "source": [
    "# Values"
   ]
  },
  {
   "cell_type": "code",
   "execution_count": 6,
   "id": "24054310",
   "metadata": {},
   "outputs": [
    {
     "name": "stdout",
     "output_type": "stream",
     "text": [
      "The following languages have been mentioned:\n",
      "Python\n",
      "C\n",
      "Ruby\n",
      "Python\n"
     ]
    }
   ],
   "source": [
    "#Looping through the values\n",
    "print(\"The following languages have been mentioned:\")\n",
    "for language in favorite_languages.values():\n",
    "    print(language.title())"
   ]
  },
  {
   "cell_type": "code",
   "execution_count": 7,
   "id": "93f5875b",
   "metadata": {},
   "outputs": [
    {
     "name": "stdout",
     "output_type": "stream",
     "text": [
      "The following unique languages have been mentioned:\n",
      "C\n",
      "Ruby\n",
      "Python\n"
     ]
    }
   ],
   "source": [
    "#Looping through unique values\n",
    "print(\"The following unique languages have been mentioned:\")\n",
    "for language in set(favorite_languages.values()):\n",
    "    print(language.title())"
   ]
  },
  {
   "cell_type": "markdown",
   "id": "844d8ec8",
   "metadata": {},
   "source": [
    "# Nested dictionary"
   ]
  },
  {
   "cell_type": "code",
   "execution_count": null,
   "id": "a7b01720",
   "metadata": {},
   "outputs": [],
   "source": []
  },
  {
   "cell_type": "code",
   "execution_count": 8,
   "id": "eb4ebaf3",
   "metadata": {},
   "outputs": [],
   "source": [
    "favorite_languages = {\n",
    "       'jen': ['python', 'ruby'],\n",
    "       'sarah': ['c'],\n",
    "       'edward': ['ruby', 'go'],\n",
    "       'phil': ['python', 'haskell'],\n",
    "       }"
   ]
  },
  {
   "cell_type": "markdown",
   "id": "ac623aa3",
   "metadata": {},
   "source": [
    "## Nested dictionary"
   ]
  },
  {
   "cell_type": "code",
   "execution_count": 9,
   "id": "87d9fcbe",
   "metadata": {},
   "outputs": [],
   "source": [
    "students = {\n",
    "    'Student 1': {'Name': 'Bobby', 'Id': 1, \"Age\": 20},\n",
    "    'Student 2': {'Name': 'ojaswi', 'Id': 2, \"Age\": 22},\n",
    "    'Student 3': {'Name': 'rohith', 'Id': 3, \"Age\": 20},\n",
    "}"
   ]
  },
  {
   "cell_type": "code",
   "execution_count": 10,
   "id": "bd9c0ee4",
   "metadata": {},
   "outputs": [
    {
     "name": "stdout",
     "output_type": "stream",
     "text": [
      "Looping through a nested dictionary\n",
      "Name\n",
      "Bobby\n",
      "Id\n",
      "1\n",
      "Age\n",
      "20\n"
     ]
    }
   ],
   "source": [
    "#Looping through a nested dictionary\n",
    "print(\"Looping through a nested dictionary\")\n",
    "for key, value in students['Student 1'].items():\n",
    "  print(key)\n",
    "  print(value)"
   ]
  },
  {
   "cell_type": "code",
   "execution_count": 11,
   "id": "6b47ea51",
   "metadata": {},
   "outputs": [
    {
     "name": "stdout",
     "output_type": "stream",
     "text": [
      "found student 1\n"
     ]
    }
   ],
   "source": [
    "#Find a key in dictionary\n",
    "if 'Student 1' in students:\n",
    "  print('found student 1')"
   ]
  },
  {
   "cell_type": "code",
   "execution_count": 12,
   "id": "69ab7cb2",
   "metadata": {},
   "outputs": [
    {
     "name": "stdout",
     "output_type": "stream",
     "text": [
      "Yes\n"
     ]
    }
   ],
   "source": [
    "#Find a nested key value in a nested dictionary\n",
    "if any(students['Name'] == 'Bobby' for students in students.values()):\n",
    "    print(\"Yes\")\n",
    "else:\n",
    "    print(\"No\")"
   ]
  },
  {
   "cell_type": "code",
   "execution_count": 13,
   "id": "6b1bc634",
   "metadata": {},
   "outputs": [
    {
     "name": "stdout",
     "output_type": "stream",
     "text": [
      "Bobby is found\n"
     ]
    }
   ],
   "source": [
    "if 'Student 1' in students:\n",
    "  print('Bobby is found')\n",
    "else:\n",
    "  print('Bobby is not found')"
   ]
  },
  {
   "cell_type": "code",
   "execution_count": 14,
   "id": "d883749a",
   "metadata": {},
   "outputs": [
    {
     "name": "stdout",
     "output_type": "stream",
     "text": [
      "dict_keys(['Student 1', 'Student 2', 'Student 3'])\n",
      "{'Name': 'rohith', 'Id': 3, 'Age': 20}\n",
      "Not found\n"
     ]
    }
   ],
   "source": [
    "#Safely finding by key\n",
    "print(students.keys())\n",
    "print(students.get('Student 3'))\n",
    "print(students.get('Student 4', 'Not found'))"
   ]
  }
 ],
 "metadata": {
  "kernelspec": {
   "display_name": "Python 3 (ipykernel)",
   "language": "python",
   "name": "python3"
  },
  "language_info": {
   "codemirror_mode": {
    "name": "ipython",
    "version": 3
   },
   "file_extension": ".py",
   "mimetype": "text/x-python",
   "name": "python",
   "nbconvert_exporter": "python",
   "pygments_lexer": "ipython3",
   "version": "3.9.7"
  }
 },
 "nbformat": 4,
 "nbformat_minor": 5
}
