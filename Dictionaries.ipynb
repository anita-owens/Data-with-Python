{
 "cells": [
  {
   "cell_type": "markdown",
   "id": "5be0509f",
   "metadata": {},
   "source": [
    "# Unpacking a dictionary"
   ]
  },
  {
   "cell_type": "code",
   "execution_count": 1,
   "id": "9fd122f7",
   "metadata": {},
   "outputs": [],
   "source": [
    "favorite_languages = {\n",
    "    'jen': 'python',\n",
    "    'sarah': 'c',\n",
    "    'edward': 'ruby',\n",
    "    'phil': 'python',\n",
    "    }"
   ]
  },
  {
   "cell_type": "code",
   "execution_count": 3,
   "id": "99f2e435",
   "metadata": {},
   "outputs": [
    {
     "name": "stdout",
     "output_type": "stream",
     "text": [
      "Looping through dic.items()\n",
      "jen\n",
      "python\n",
      "sarah\n",
      "c\n",
      "edward\n",
      "ruby\n",
      "phil\n",
      "python\n"
     ]
    }
   ],
   "source": [
    "#Looping through a dictionary\n",
    "print(\"Looping through dic.items()\")\n",
    "for key, value in favorite_languages.items():\n",
    "  print(key)\n",
    "  print(value)"
   ]
  },
  {
   "cell_type": "code",
   "execution_count": 4,
   "id": "91c2ce7d",
   "metadata": {},
   "outputs": [
    {
     "name": "stdout",
     "output_type": "stream",
     "text": [
      "found python\n"
     ]
    }
   ],
   "source": [
    "#Find a value in a dictionary\n",
    "if 'python' in favorite_languages.values():\n",
    "  print('found python')\n",
    "else:\n",
    "  print('did not find python')"
   ]
  },
  {
   "cell_type": "code",
   "execution_count": 4,
   "id": "15608b97",
   "metadata": {},
   "outputs": [
    {
     "name": "stdout",
     "output_type": "stream",
     "text": [
      "Sarah's favorite language is C.\n"
     ]
    }
   ],
   "source": [
    "#What is Sarah's favorite language?\n",
    "print(\"Sarah's favorite language is \" + favorite_languages['sarah'].title() + \".\")"
   ]
  },
  {
   "cell_type": "code",
   "execution_count": null,
   "id": "8f483b27",
   "metadata": {},
   "outputs": [],
   "source": [
    "#Looping through unique values\n",
    "print(\"The following unique languages have been mentioned:\")\n",
    "for language in set(favorite_languages.values()):\n",
    "    print(language.title())"
   ]
  },
  {
   "cell_type": "code",
   "execution_count": 14,
   "id": "8143b053",
   "metadata": {},
   "outputs": [
    {
     "data": {
      "text/plain": [
       "{'jen': 'python', 'sarah': 'c', 'edward': 'ruby'}"
      ]
     },
     "execution_count": 14,
     "metadata": {},
     "output_type": "execute_result"
    }
   ],
   "source": [
    "#Remove an entry - deleting from dictinaries\n",
    "del(favorite_languages['phil'])\n",
    "favorite_languages"
   ]
  },
  {
   "cell_type": "code",
   "execution_count": 15,
   "id": "1eccb74f",
   "metadata": {},
   "outputs": [
    {
     "name": "stdout",
     "output_type": "stream",
     "text": [
      "\n",
      "Jen's favorite languages are:\n",
      "\n",
      "Sarah's favorite languages are:\n",
      "\n",
      "Edward's favorite languages are:\n",
      "\n",
      "Phil's favorite languages are:\n",
      "\tPython\n",
      "\tHaskell\n"
     ]
    }
   ],
   "source": [
    "favorite_languages = {\n",
    "       'jen': ['python', 'ruby'],\n",
    "       'sarah': ['c'],\n",
    "       'edward': ['ruby', 'go'],\n",
    "       'phil': ['python', 'haskell'],\n",
    "       }\n",
    "\n",
    "for name, languages in favorite_languages.items():\n",
    "  print(\"\\n\" + name.title() + \"'s favorite languages are:\")\n",
    "  \n",
    "for language in languages:\n",
    "      print(\"\\t\" + language.title())"
   ]
  },
  {
   "cell_type": "code",
   "execution_count": 5,
   "id": "dbc286eb",
   "metadata": {},
   "outputs": [
    {
     "name": "stdout",
     "output_type": "stream",
     "text": [
      "jen\n",
      "sarah\n",
      "edward\n",
      "phil\n"
     ]
    }
   ],
   "source": [
    "#Looping through the keys\n",
    "for name in favorite_languages.keys():\n",
    "  #does the same as above\n",
    "#for name in favorite_languages:\n",
    "  print(name)"
   ]
  },
  {
   "cell_type": "code",
   "execution_count": null,
   "id": "52cc7cdc",
   "metadata": {},
   "outputs": [],
   "source": [
    "#Keys in alphabetical order\n",
    "print(\"The following are sorted keys ascending:\")\n",
    "for name in sorted(favorite_languages.keys()):\n",
    "  print(name.title())"
   ]
  },
  {
   "cell_type": "code",
   "execution_count": null,
   "id": "86947c84",
   "metadata": {},
   "outputs": [],
   "source": [
    "#Keys in reverse order\n",
    "print(\"The following are sorted keys descending:\")\n",
    "for name in sorted(favorite_languages.keys(), reverse=True):\n",
    "  print(name.title())"
   ]
  },
  {
   "cell_type": "code",
   "execution_count": 6,
   "id": "3cf6e7e4",
   "metadata": {},
   "outputs": [
    {
     "name": "stdout",
     "output_type": "stream",
     "text": [
      "dict_keys(['jen', 'sarah', 'edward', 'phil'])\n"
     ]
    }
   ],
   "source": [
    "#Prints all the keys\n",
    "print(favorite_languages.keys())"
   ]
  },
  {
   "cell_type": "code",
   "execution_count": 8,
   "id": "87c517cf",
   "metadata": {},
   "outputs": [
    {
     "name": "stdout",
     "output_type": "stream",
     "text": [
      "python\n"
     ]
    }
   ],
   "source": [
    "#Safely getting one value base don key\n",
    "print(favorite_languages.get('jen'))"
   ]
  },
  {
   "cell_type": "code",
   "execution_count": 13,
   "id": "711e7147",
   "metadata": {},
   "outputs": [
    {
     "name": "stdout",
     "output_type": "stream",
     "text": [
      "Missing\n"
     ]
    }
   ],
   "source": [
    "# Safely get value for a student in the dict or not in the list will return'Missing'\n",
    "print(favorite_languages.get('anita', 'Missing'))"
   ]
  },
  {
   "cell_type": "markdown",
   "id": "9d3672ba",
   "metadata": {},
   "source": [
    "# Values"
   ]
  },
  {
   "cell_type": "code",
   "execution_count": 6,
   "id": "24054310",
   "metadata": {},
   "outputs": [
    {
     "name": "stdout",
     "output_type": "stream",
     "text": [
      "The following languages have been mentioned:\n",
      "Python\n",
      "C\n",
      "Ruby\n",
      "Python\n"
     ]
    }
   ],
   "source": [
    "#Looping through the values\n",
    "print(\"The following languages have been mentioned:\")\n",
    "for language in favorite_languages.values():\n",
    "    print(language.title())"
   ]
  },
  {
   "cell_type": "code",
   "execution_count": 7,
   "id": "93f5875b",
   "metadata": {},
   "outputs": [
    {
     "name": "stdout",
     "output_type": "stream",
     "text": [
      "The following unique languages have been mentioned:\n",
      "C\n",
      "Ruby\n",
      "Python\n"
     ]
    }
   ],
   "source": [
    "#Looping through unique values\n",
    "print(\"The following unique languages have been mentioned:\")\n",
    "for language in set(favorite_languages.values()):\n",
    "    print(language.title())"
   ]
  },
  {
   "cell_type": "code",
   "execution_count": 17,
   "id": "b54c6c89",
   "metadata": {},
   "outputs": [
    {
     "name": "stdout",
     "output_type": "stream",
     "text": [
      "c\n",
      "python\n",
      "python\n",
      "ruby\n"
     ]
    }
   ],
   "source": [
    "#prints the sorted values (c,python, python, ruby)\n",
    "  #that is first in the list\n",
    "for name in sorted(favorite_languages.values(), reverse=False):\n",
    "    print(name[0])"
   ]
  },
  {
   "cell_type": "code",
   "execution_count": 18,
   "id": "972ebedc",
   "metadata": {},
   "outputs": [
    {
     "name": "stdout",
     "output_type": "stream",
     "text": [
      "c\n",
      "haskell\n",
      "ruby\n",
      "go\n"
     ]
    }
   ],
   "source": [
    "#prints the last value in the sorted values (c, haskell, ruby, go)\n",
    "for name in sorted(favorite_languages.values(), reverse=False):\n",
    "  print(name[-1])"
   ]
  },
  {
   "cell_type": "code",
   "execution_count": 20,
   "id": "5314b97d",
   "metadata": {},
   "outputs": [
    {
     "name": "stdout",
     "output_type": "stream",
     "text": [
      "{'jen': ['python', 'ruby'], 'sarah': ['c'], 'edward': ['ruby', 'go'], 'phil': ['python', 'haskell'], 'Anita': ['Python', 'R', 'SQL']}\n",
      "Python\n"
     ]
    }
   ],
   "source": [
    "dict2 = {'Anita': ['Python', 'R', 'SQL']}\n",
    "#Update dictionary\n",
    "favorite_languages.update(dict2)\n",
    "print(favorite_languages)\n",
    "\n",
    "favorite_languages.update(Liam='Python')\n",
    "print(favorite_languages[\"Liam\"])"
   ]
  },
  {
   "cell_type": "code",
   "execution_count": 21,
   "id": "53244f83",
   "metadata": {},
   "outputs": [
    {
     "name": "stdout",
     "output_type": "stream",
     "text": [
      "The following are Liam's updated values\n",
      "Python\n"
     ]
    }
   ],
   "source": [
    "#Add new values to a specific key\n",
    "print(\"The following are Liam's updated values\")\n",
    "#favorite_languages[\"Liam\"] += [\"HTML\"]\n",
    "print(favorite_languages[\"Liam\"])"
   ]
  },
  {
   "cell_type": "code",
   "execution_count": 22,
   "id": "7b6ba63b",
   "metadata": {},
   "outputs": [
    {
     "name": "stdout",
     "output_type": "stream",
     "text": [
      "['Python', 'R', 'SQL', 'HTML']\n"
     ]
    }
   ],
   "source": [
    "#Adds a new value to a specific key without overwriting the old values\n",
    "#Needs to already be a list\n",
    "favorite_languages['Anita'].append('HTML')\n",
    "print(favorite_languages[\"Anita\"])"
   ]
  },
  {
   "cell_type": "markdown",
   "id": "8905a0c1",
   "metadata": {},
   "source": [
    "Remove k"
   ]
  },
  {
   "cell_type": "markdown",
   "id": "844d8ec8",
   "metadata": {},
   "source": [
    "# Nested dictionaries"
   ]
  },
  {
   "cell_type": "code",
   "execution_count": 2,
   "id": "87d9fcbe",
   "metadata": {},
   "outputs": [],
   "source": [
    "students = {\n",
    "    'Student 1': {'Name': 'Bobby', 'Id': 1, \"Age\": 20},\n",
    "    'Student 2': {'Name': 'ojaswi', 'Id': 2, \"Age\": 22},\n",
    "    'Student 3': {'Name': 'rohith', 'Id': 3, \"Age\": 20},\n",
    "}"
   ]
  },
  {
   "cell_type": "code",
   "execution_count": 8,
   "id": "95a5e698",
   "metadata": {},
   "outputs": [
    {
     "name": "stdout",
     "output_type": "stream",
     "text": [
      "Bobby\n"
     ]
    }
   ],
   "source": [
    "print(students['Student 1']['Name'])"
   ]
  },
  {
   "cell_type": "code",
   "execution_count": 10,
   "id": "bd9c0ee4",
   "metadata": {},
   "outputs": [
    {
     "name": "stdout",
     "output_type": "stream",
     "text": [
      "Looping through a nested dictionary\n",
      "Name\n",
      "Bobby\n",
      "Id\n",
      "1\n",
      "Age\n",
      "20\n"
     ]
    }
   ],
   "source": [
    "#Looping through a nested dictionary\n",
    "print(\"Looping through a nested dictionary\")\n",
    "for key, value in students['Student 1'].items():\n",
    "  print(key)\n",
    "  print(value)"
   ]
  },
  {
   "cell_type": "code",
   "execution_count": 11,
   "id": "6b47ea51",
   "metadata": {},
   "outputs": [
    {
     "name": "stdout",
     "output_type": "stream",
     "text": [
      "found student 1\n"
     ]
    }
   ],
   "source": [
    "#Find a key in dictionary\n",
    "if 'Student 1' in students:\n",
    "  print('found student 1')"
   ]
  },
  {
   "cell_type": "code",
   "execution_count": 12,
   "id": "69ab7cb2",
   "metadata": {},
   "outputs": [
    {
     "name": "stdout",
     "output_type": "stream",
     "text": [
      "Yes\n"
     ]
    }
   ],
   "source": [
    "#Find a nested key value in a nested dictionary\n",
    "if any(students['Name'] == 'Bobby' for students in students.values()):\n",
    "    print(\"Yes\")\n",
    "else:\n",
    "    print(\"No\")"
   ]
  },
  {
   "cell_type": "code",
   "execution_count": 13,
   "id": "6b1bc634",
   "metadata": {},
   "outputs": [
    {
     "name": "stdout",
     "output_type": "stream",
     "text": [
      "Bobby is found\n"
     ]
    }
   ],
   "source": [
    "if 'Student 1' in students:\n",
    "  print('Bobby is found')\n",
    "else:\n",
    "  print('Bobby is not found')"
   ]
  },
  {
   "cell_type": "code",
   "execution_count": 13,
   "id": "6ce6c7f1",
   "metadata": {},
   "outputs": [
    {
     "data": {
      "text/plain": [
       "tuple"
      ]
     },
     "execution_count": 13,
     "metadata": {},
     "output_type": "execute_result"
    }
   ],
   "source": [
    "anyvar = 'data', 'quest'\n",
    "type(anyvar)"
   ]
  },
  {
   "cell_type": "code",
   "execution_count": 14,
   "id": "d883749a",
   "metadata": {},
   "outputs": [
    {
     "name": "stdout",
     "output_type": "stream",
     "text": [
      "dict_keys(['Student 1', 'Student 2', 'Student 3'])\n",
      "{'Name': 'rohith', 'Id': 3, 'Age': 20}\n",
      "Not found\n"
     ]
    }
   ],
   "source": [
    "#Safely finding by key\n",
    "print(students.keys())\n",
    "print(students.get('Student 3'))\n",
    "print(students.get('Student 4', 'Not found'))"
   ]
  }
 ],
 "metadata": {
  "kernelspec": {
   "display_name": "Python 3.9.7 ('base')",
   "language": "python",
   "name": "python3"
  },
  "language_info": {
   "codemirror_mode": {
    "name": "ipython",
    "version": 3
   },
   "file_extension": ".py",
   "mimetype": "text/x-python",
   "name": "python",
   "nbconvert_exporter": "python",
   "pygments_lexer": "ipython3",
   "version": "3.9.7"
  },
  "vscode": {
   "interpreter": {
    "hash": "40d3a090f54c6569ab1632332b64b2c03c39dcf918b08424e98f38b5ae0af88f"
   }
  }
 },
 "nbformat": 4,
 "nbformat_minor": 5
}
