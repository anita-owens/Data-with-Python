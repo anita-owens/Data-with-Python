{
 "cells": [
  {
   "cell_type": "code",
   "execution_count": 4,
   "id": "ba25e7f8",
   "metadata": {},
   "outputs": [],
   "source": [
    "fhand = open('datasets/romeo.txt','r')\n",
    "lst = list()\n",
    "for line in fhand:\n",
    "    words = line.rstrip().split()\n",
    "    for word in words:\n",
    "        if word in lst:\n",
    "            continue\n",
    "        if word not in lst:\n",
    "            lst.append(word) \n",
    "            lst.sort()"
   ]
  },
  {
   "cell_type": "code",
   "execution_count": 5,
   "id": "8ae12a33",
   "metadata": {},
   "outputs": [
    {
     "name": "stdout",
     "output_type": "stream",
     "text": [
      "['Arise', 'But', 'It', 'Juliet', 'Who', 'already', 'and', 'breaks', 'east', 'envious', 'fair', 'grief', 'is', 'kill', 'light', 'moon', 'pale', 'sick', 'soft', 'sun', 'the', 'through', 'what', 'window', 'with', 'yonder']\n"
     ]
    }
   ],
   "source": [
    "print(lst)"
   ]
  }
 ],
 "metadata": {
  "kernelspec": {
   "display_name": "Python 3 (ipykernel)",
   "language": "python",
   "name": "python3"
  },
  "language_info": {
   "codemirror_mode": {
    "name": "ipython",
    "version": 3
   },
   "file_extension": ".py",
   "mimetype": "text/x-python",
   "name": "python",
   "nbconvert_exporter": "python",
   "pygments_lexer": "ipython3",
   "version": "3.9.7"
  }
 },
 "nbformat": 4,
 "nbformat_minor": 5
}
