{
 "cells": [
  {
   "cell_type": "code",
   "execution_count": null,
   "id": "92d5c61a",
   "metadata": {},
   "outputs": [],
   "source": [
    "fh = open('mbox-short.txt','r')\n",
    "email = dict()\n",
    "for line in fh:\n",
    "    line = line.rstrip()\n",
    "    if line.startswith('From:') :\n",
    "        sender = line.split()\n",
    "        #print 'Sender:', sender\n",
    "        #print 'Counting...'\n",
    "        for word in sender[1:2]:\n",
    "          email[word] = email.get(word,0) + 1\n",
    "#print 'Email', email\n",
    "#print 'max', max(email, key=email.get)\n",
    "for key in email:\n",
    "    continue\n",
    "for word in email.items():\n",
    "    continue\n",
    "bigcount = None\n",
    "bigword = None\n",
    "for word,count in email.items():\n",
    "    if bigcount is None or count > bigcount:\n",
    "        bigword = word\n",
    "        bigcount = count\n",
    "print bigword,bigcount"
   ]
  },
  {
   "cell_type": "code",
   "execution_count": null,
   "id": "44e6d3fb",
   "metadata": {},
   "outputs": [],
   "source": [
    "count = 0\n",
    "fh = open('mbox-short.txt','r')\n",
    "for line in fh:\n",
    "    line = line.rstrip()\n",
    "    if line.startswith('From:') :\n",
    "        print line\n",
    "        count = count + 1\n",
    "#print count\n",
    "        "
   ]
  }
 ],
 "metadata": {
  "kernelspec": {
   "display_name": "Python 3 (ipykernel)",
   "language": "python",
   "name": "python3"
  },
  "language_info": {
   "codemirror_mode": {
    "name": "ipython",
    "version": 3
   },
   "file_extension": ".py",
   "mimetype": "text/x-python",
   "name": "python",
   "nbconvert_exporter": "python",
   "pygments_lexer": "ipython3",
   "version": "3.9.7"
  }
 },
 "nbformat": 4,
 "nbformat_minor": 5
}
