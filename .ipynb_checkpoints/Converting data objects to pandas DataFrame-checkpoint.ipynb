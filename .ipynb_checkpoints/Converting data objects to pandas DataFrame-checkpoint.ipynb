{
 "cells": [
  {
   "cell_type": "code",
   "execution_count": 1,
   "id": "12329e31",
   "metadata": {},
   "outputs": [],
   "source": [
    "import pandas as pd"
   ]
  },
  {
   "cell_type": "markdown",
   "id": "3e21819c",
   "metadata": {},
   "source": [
    "## Converting lists"
   ]
  },
  {
   "cell_type": "code",
   "execution_count": 2,
   "id": "8f397332",
   "metadata": {},
   "outputs": [],
   "source": [
    "# Create a list of dictionaries with new data\n",
    "avocados_list = [\n",
    "    {\"date\": \"2019-11-03\", \"small_sold\": 10376832, \"large_sold\": 7835071},\n",
    "    {\"date\": \"2019-11-10\", \"small_sold\": 10717154, \"large_sold\": 8561348},\n",
    "]"
   ]
  },
  {
   "cell_type": "code",
   "execution_count": 5,
   "id": "0f46c5af",
   "metadata": {},
   "outputs": [
    {
     "name": "stdout",
     "output_type": "stream",
     "text": [
      "[{'date': '2019-11-03', 'small_sold': 10376832, 'large_sold': 7835071}, {'date': '2019-11-10', 'small_sold': 10717154, 'large_sold': 8561348}]\n"
     ]
    }
   ],
   "source": [
    "print(avocados_list)"
   ]
  },
  {
   "cell_type": "code",
   "execution_count": 3,
   "id": "e338024e",
   "metadata": {},
   "outputs": [],
   "source": [
    "# Convert list into DataFrame\n",
    "avocados_2019 = pd.DataFrame(avocados_list)"
   ]
  },
  {
   "cell_type": "code",
   "execution_count": 4,
   "id": "5fdc56ad",
   "metadata": {},
   "outputs": [
    {
     "name": "stdout",
     "output_type": "stream",
     "text": [
      "         date  small_sold  large_sold\n",
      "0  2019-11-03    10376832     7835071\n",
      "1  2019-11-10    10717154     8561348\n"
     ]
    }
   ],
   "source": [
    "# Print the new DataFrame\n",
    "print(avocados_2019)"
   ]
  },
  {
   "cell_type": "markdown",
   "id": "b2d42b96",
   "metadata": {},
   "source": [
    "## Converting lists of lists"
   ]
  },
  {
   "cell_type": "code",
   "execution_count": 22,
   "id": "bd767d7c",
   "metadata": {},
   "outputs": [],
   "source": [
    "products_list = [['laptop',1300],['printer',150],['tablet',300],['desk',450],['chair',200]]"
   ]
  },
  {
   "cell_type": "code",
   "execution_count": 23,
   "id": "3df7df01",
   "metadata": {},
   "outputs": [
    {
     "name": "stdout",
     "output_type": "stream",
     "text": [
      "[['laptop', 1300], ['printer', 150], ['tablet', 300], ['desk', 450], ['chair', 200]]\n"
     ]
    }
   ],
   "source": [
    "print(products_list)"
   ]
  },
  {
   "cell_type": "code",
   "execution_count": 24,
   "id": "60632d42",
   "metadata": {},
   "outputs": [
    {
     "name": "stdout",
     "output_type": "stream",
     "text": [
      "  product_name  price\n",
      "0       laptop   1300\n",
      "1      printer    150\n",
      "2       tablet    300\n",
      "3         desk    450\n",
      "4        chair    200\n"
     ]
    }
   ],
   "source": [
    "products_df = pd.DataFrame (products_list, columns = ['product_name', 'price'])\n",
    "print(products_df)"
   ]
  },
  {
   "cell_type": "markdown",
   "id": "b2c0a812",
   "metadata": {},
   "source": [
    "## Converting Dictionaries"
   ]
  },
  {
   "cell_type": "code",
   "execution_count": 7,
   "id": "db5660b0",
   "metadata": {},
   "outputs": [],
   "source": [
    "# Create a dictionary of lists with new data\n",
    "avocados_dict = {\n",
    "  \"date\": [\"2019-11-17\", \"2019-12-01\"],\n",
    "  \"small_sold\": [10859987, 9291631],\n",
    "  \"large_sold\": [7674135, 6238096]\n",
    "}"
   ]
  },
  {
   "cell_type": "code",
   "execution_count": 8,
   "id": "193ad412",
   "metadata": {},
   "outputs": [
    {
     "name": "stdout",
     "output_type": "stream",
     "text": [
      "{'date': ['2019-11-17', '2019-12-01'], 'small_sold': [10859987, 9291631], 'large_sold': [7674135, 6238096]}\n"
     ]
    }
   ],
   "source": [
    "print(avocados_dict)"
   ]
  },
  {
   "cell_type": "code",
   "execution_count": 13,
   "id": "8474c0a0",
   "metadata": {},
   "outputs": [],
   "source": [
    "# Convert dictionary into DataFrame\n",
    "avocados_2019 = pd.DataFrame(avocados_dict)"
   ]
  },
  {
   "cell_type": "code",
   "execution_count": 14,
   "id": "534b6086",
   "metadata": {},
   "outputs": [
    {
     "name": "stdout",
     "output_type": "stream",
     "text": [
      "         date  small_sold  large_sold\n",
      "0  2019-11-17    10859987     7674135\n",
      "1  2019-12-01     9291631     6238096\n"
     ]
    }
   ],
   "source": [
    "# Print the new DataFrame\n",
    "print(avocados_2019)"
   ]
  },
  {
   "cell_type": "code",
   "execution_count": 16,
   "id": "e8b1b929",
   "metadata": {},
   "outputs": [],
   "source": [
    "# Read CSV as DataFrame \n",
    "avocados = pd.read_csv(\"datasets/avocado.csv\")"
   ]
  },
  {
   "cell_type": "code",
   "execution_count": 17,
   "id": "c04e3aec",
   "metadata": {},
   "outputs": [
    {
     "name": "stdout",
     "output_type": "stream",
     "text": [
      "   Unnamed: 0        Date  AveragePrice  Total Volume     4046       4225  \\\n",
      "0           0  2015-12-27          1.33      64236.62  1036.74   54454.85   \n",
      "1           1  2015-12-20          1.35      54876.98   674.28   44638.81   \n",
      "2           2  2015-12-13          0.93     118220.22   794.70  109149.67   \n",
      "3           3  2015-12-06          1.08      78992.15  1132.00   71976.41   \n",
      "4           4  2015-11-29          1.28      51039.60   941.48   43838.39   \n",
      "\n",
      "     4770  Total Bags  Small Bags  Large Bags  XLarge Bags          type  \\\n",
      "0   48.16     8696.87     8603.62       93.25          0.0  conventional   \n",
      "1   58.33     9505.56     9408.07       97.49          0.0  conventional   \n",
      "2  130.50     8145.35     8042.21      103.14          0.0  conventional   \n",
      "3   72.58     5811.16     5677.40      133.76          0.0  conventional   \n",
      "4   75.78     6183.95     5986.26      197.69          0.0  conventional   \n",
      "\n",
      "   year  region  \n",
      "0  2015  Albany  \n",
      "1  2015  Albany  \n",
      "2  2015  Albany  \n",
      "3  2015  Albany  \n",
      "4  2015  Albany  \n"
     ]
    }
   ],
   "source": [
    "# Take a look at the DataFrame\n",
    "print(avocados.head())"
   ]
  },
  {
   "cell_type": "code",
   "execution_count": 18,
   "id": "85108835",
   "metadata": {},
   "outputs": [
    {
     "name": "stdout",
     "output_type": "stream",
     "text": [
      "      Total Volume    Total Bags\n",
      "year                            \n",
      "2015  4.385469e+09  7.721922e+08\n",
      "2016  4.820890e+09  1.463159e+09\n",
      "2017  4.934306e+09  1.646289e+09\n",
      "2018  1.382738e+09  4.915359e+08\n"
     ]
    }
   ],
   "source": [
    "#For each year, select total volume and total bags and sum\n",
    "type_totals = avocados.groupby(\"year\")[[\"Total Volume\", \"Total Bags\"]].sum()\n",
    "print(type_totals)"
   ]
  },
  {
   "cell_type": "markdown",
   "id": "57b795da",
   "metadata": {},
   "source": [
    "# Convert key value pairs to DataFrame"
   ]
  },
  {
   "cell_type": "code",
   "execution_count": null,
   "id": "a5189977",
   "metadata": {},
   "outputs": [],
   "source": [
    "\n",
    "record1 = pd.Series({'i':'00','j':'01','k':'02','l':'03'})\n",
    "record2 = pd.Series({'i':'10','j':'11','k':'12','l':'13'})\n",
    "record3 = pd.Series({'i':'20','j':'21','k':'22','l':'23'})\n",
    "record4 = pd.Series({'i':'30','j':'31','k':'32','l':'33'})\n",
    " \n",
    "# Creating dataframe\n",
    "df = pd.DataFrame([record1,record2,record3,record4],index = ['0','1','2','3'])\n",
    "print(df)"
   ]
  },
  {
   "cell_type": "markdown",
   "id": "9424d871",
   "metadata": {},
   "source": [
    "## Convert pandas DataFrame to CSV file"
   ]
  },
  {
   "cell_type": "code",
   "execution_count": 19,
   "id": "b1a2f1c8",
   "metadata": {},
   "outputs": [],
   "source": [
    "# Create airline_totals_sorted\n",
    "avocados_2019_sorted = avocados_2019.sort_values(\"date\", ascending = False)"
   ]
  },
  {
   "cell_type": "code",
   "execution_count": 20,
   "id": "8991061b",
   "metadata": {},
   "outputs": [
    {
     "name": "stdout",
     "output_type": "stream",
     "text": [
      "         date  small_sold  large_sold\n",
      "1  2019-12-01     9291631     6238096\n",
      "0  2019-11-17    10859987     7674135\n"
     ]
    }
   ],
   "source": [
    "print(avocados_2019_sorted)"
   ]
  },
  {
   "cell_type": "code",
   "execution_count": 25,
   "id": "aff4563c",
   "metadata": {},
   "outputs": [],
   "source": [
    "# Save as .csv file\n",
    "avocados_2019_sorted.to_csv(\"datasets/avocados_2019_sorted.csv\")"
   ]
  },
  {
   "cell_type": "markdown",
   "id": "dbb446f9",
   "metadata": {},
   "source": [
    "## Tuples"
   ]
  },
  {
   "cell_type": "markdown",
   "id": "cbb61102",
   "metadata": {},
   "source": [
    "Tuples are made of several items just like a list, but they cannot be modified in any way. It is very common for tuples to be used to represent data from a database."
   ]
  },
  {
   "cell_type": "markdown",
   "id": "fdd22b59",
   "metadata": {},
   "source": []
  }
 ],
 "metadata": {
  "kernelspec": {
   "display_name": "Python 3 (ipykernel)",
   "language": "python",
   "name": "python3"
  },
  "language_info": {
   "codemirror_mode": {
    "name": "ipython",
    "version": 3
   },
   "file_extension": ".py",
   "mimetype": "text/x-python",
   "name": "python",
   "nbconvert_exporter": "python",
   "pygments_lexer": "ipython3",
   "version": "3.9.7"
  }
 },
 "nbformat": 4,
 "nbformat_minor": 5
}
