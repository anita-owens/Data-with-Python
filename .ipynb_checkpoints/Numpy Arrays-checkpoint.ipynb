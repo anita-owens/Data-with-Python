{
 "cells": [
  {
   "cell_type": "code",
   "execution_count": 2,
   "id": "0881c4cd",
   "metadata": {},
   "outputs": [],
   "source": [
    "import numpy as np"
   ]
  },
  {
   "cell_type": "code",
   "execution_count": 4,
   "id": "a9c1bb0e",
   "metadata": {},
   "outputs": [
    {
     "data": {
      "text/plain": [
       "array([ True, False, False, False])"
      ]
     },
     "execution_count": 4,
     "metadata": {},
     "output_type": "execute_result"
    }
   ],
   "source": [
    "numpy1 = np.array([17.2, 20.0, 8.25, 9.50])\n",
    "numpy2 = np.array([13.0, 24.0, 8.25, 9.0])\n",
    "\n",
    "np.logical_and(numpy1 > 10, numpy2 < 20)"
   ]
  },
  {
   "cell_type": "code",
   "execution_count": null,
   "id": "aff6f9a7",
   "metadata": {},
   "outputs": [],
   "source": []
  }
 ],
 "metadata": {
  "kernelspec": {
   "display_name": "Python 3 (ipykernel)",
   "language": "python",
   "name": "python3"
  },
  "language_info": {
   "codemirror_mode": {
    "name": "ipython",
    "version": 3
   },
   "file_extension": ".py",
   "mimetype": "text/x-python",
   "name": "python",
   "nbconvert_exporter": "python",
   "pygments_lexer": "ipython3",
   "version": "3.9.7"
  }
 },
 "nbformat": 4,
 "nbformat_minor": 5
}
