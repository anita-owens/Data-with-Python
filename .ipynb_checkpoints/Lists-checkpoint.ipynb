{
 "cells": [
  {
   "cell_type": "markdown",
   "id": "100fdbb7",
   "metadata": {},
   "source": [
    "The following methods change the list they are called on:\n",
    "1. append()\n",
    "2. remove()\n",
    "3. reverse()"
   ]
  },
  {
   "cell_type": "code",
   "execution_count": 1,
   "id": "8dae05b4",
   "metadata": {},
   "outputs": [
    {
     "name": "stdout",
     "output_type": "stream",
     "text": [
      "4 numbers are divisable by 2\n"
     ]
    }
   ],
   "source": [
    "nums = [3, 5, 99, 12,345,2,6,7896]\n",
    "count_n = 0\n",
    "for n in nums:\n",
    "  if(n % 2 == 0):\n",
    "    count_n += 1\n",
    "print(str(count_n) + \" numbers are divisable by 2\")"
   ]
  },
  {
   "cell_type": "code",
   "execution_count": 2,
   "id": "7d91684e",
   "metadata": {},
   "outputs": [
    {
     "name": "stdout",
     "output_type": "stream",
     "text": [
      "3\n"
     ]
    }
   ],
   "source": [
    "# Count the Number of Occurrences in a Python list using a For Loop\n",
    "items = ['a', 'b', 'a', 'c', 'd', 'd', 'd', 'c', 'a', 'b']\n",
    "counts = {}\n",
    "for item in items:\n",
    "    if item in counts:\n",
    "        counts[item] += 1\n",
    "    else:\n",
    "        counts[item] = 1\n",
    "print(counts.get('a'))"
   ]
  },
  {
   "cell_type": "markdown",
   "id": "8c968774",
   "metadata": {},
   "source": [
    "## Python Methods for Lists"
   ]
  },
  {
   "cell_type": "code",
   "execution_count": 16,
   "id": "88231949",
   "metadata": {},
   "outputs": [
    {
     "name": "stdout",
     "output_type": "stream",
     "text": [
      "[1, 2, 3, 4, 5, 6, 7, 8, 9, 10]\n"
     ]
    }
   ],
   "source": [
    "nums = [1,2,3,4,5,6,7,8,9,10]\n",
    "print(nums)"
   ]
  },
  {
   "cell_type": "code",
   "execution_count": 17,
   "id": "3a8c964c",
   "metadata": {},
   "outputs": [
    {
     "name": "stdout",
     "output_type": "stream",
     "text": [
      "[1, 2, 3, 4, 5, 6, 7, 8, 9, 10, 11]\n"
     ]
    }
   ],
   "source": [
    "#Adds an element at the end of the list\n",
    "nums = [1,2,3,4,5,6,7,8,9,10]\n",
    "nums.append(11)\n",
    "print(nums)"
   ]
  },
  {
   "cell_type": "code",
   "execution_count": 18,
   "id": "f22b7ab9",
   "metadata": {},
   "outputs": [
    {
     "name": "stdout",
     "output_type": "stream",
     "text": [
      "[]\n"
     ]
    }
   ],
   "source": [
    "#Removes all elements from the list\n",
    "nums.clear()\n",
    "print(nums)"
   ]
  },
  {
   "cell_type": "code",
   "execution_count": 20,
   "id": "dbd7e874",
   "metadata": {},
   "outputs": [
    {
     "data": {
      "text/plain": [
       "[1, 2, 3, 4, 5, 6, 7, 8, 9, 10]"
      ]
     },
     "execution_count": 20,
     "metadata": {},
     "output_type": "execute_result"
    }
   ],
   "source": [
    "#Returns a copy of the list\n",
    "nums = [1,2,3,4,5,6,7,8,9,10]\n",
    "nums.copy()"
   ]
  },
  {
   "cell_type": "code",
   "execution_count": 23,
   "id": "8092bac9",
   "metadata": {},
   "outputs": [
    {
     "data": {
      "text/plain": [
       "2"
      ]
     },
     "execution_count": 23,
     "metadata": {},
     "output_type": "execute_result"
    }
   ],
   "source": [
    "#Returns the number of elements with the specified value\n",
    "#How many eights are there?\n",
    "nums = [1,2,3,4,5,6,7,8,8,9,10,11]\n",
    "nums.count(8)"
   ]
  },
  {
   "cell_type": "code",
   "execution_count": 25,
   "id": "25946f57",
   "metadata": {},
   "outputs": [
    {
     "name": "stdout",
     "output_type": "stream",
     "text": [
      "[1, 2, 3, 4, 5, 6, 7, 8, 9, 10, 11, 12, 13, 14, 15]\n"
     ]
    }
   ],
   "source": [
    "#Adds the eleements of one list to another list\n",
    "nums = [1,2,3,4,5,6,7,8,9,10]\n",
    "nums_2 =[11,12,13,14,15]\n",
    "\n",
    "nums.extend(nums_2)\n",
    "print(nums)"
   ]
  },
  {
   "cell_type": "code",
   "execution_count": 29,
   "id": "787115fc",
   "metadata": {},
   "outputs": [
    {
     "data": {
      "text/plain": [
       "11"
      ]
     },
     "execution_count": 29,
     "metadata": {},
     "output_type": "execute_result"
    }
   ],
   "source": [
    "#Returns the index of the first element with the specified value\n",
    "nums.index(12)"
   ]
  },
  {
   "cell_type": "code",
   "execution_count": 31,
   "id": "d4fc4f5f",
   "metadata": {},
   "outputs": [
    {
     "name": "stdout",
     "output_type": "stream",
     "text": [
      "[1, 'a number', 'a number', 2, 3, 4, 5, 6, 7, 8, 9, 10, 11, 12, 13, 14, 15]\n"
     ]
    }
   ],
   "source": [
    "#Adds an element at the specified position\n",
    "nums.insert(1, \"a number\")\n",
    "\n",
    "print(nums)"
   ]
  },
  {
   "cell_type": "code",
   "execution_count": 32,
   "id": "d1da069b",
   "metadata": {},
   "outputs": [
    {
     "data": {
      "text/plain": [
       "'a number'"
      ]
     },
     "execution_count": 32,
     "metadata": {},
     "output_type": "execute_result"
    }
   ],
   "source": [
    "#Removes the element at the specified position\n",
    "#Removes the 3rd element of numbers\n",
    "nums.pop(2)"
   ]
  },
  {
   "cell_type": "code",
   "execution_count": 36,
   "id": "09aedcb2",
   "metadata": {},
   "outputs": [
    {
     "name": "stdout",
     "output_type": "stream",
     "text": [
      "5\n"
     ]
    }
   ],
   "source": [
    "x = [4,5,6]\n",
    "y = [-1, 0.1, 1.1] + x[0:2]\n",
    "#print(sorted(y))\n",
    "\n",
    "print(max(y))"
   ]
  },
  {
   "cell_type": "code",
   "execution_count": 35,
   "id": "150b5e52",
   "metadata": {},
   "outputs": [
    {
     "name": "stdout",
     "output_type": "stream",
     "text": [
      "5\n"
     ]
    }
   ],
   "source": [
    "x = [7, 8, 9]\n",
    "y = [-3.3, -2, 3.2] + x[0:2]\n",
    "print(len(y))"
   ]
  },
  {
   "cell_type": "code",
   "execution_count": 37,
   "id": "c1168bb4",
   "metadata": {},
   "outputs": [
    {
     "name": "stdout",
     "output_type": "stream",
     "text": [
      "7.141592653589793\n"
     ]
    }
   ],
   "source": [
    "import math\n",
    "print(math.pi + 4)"
   ]
  },
  {
   "cell_type": "code",
   "execution_count": 39,
   "id": "634abaac",
   "metadata": {},
   "outputs": [
    {
     "data": {
      "text/plain": [
       "-0.4480736161291701"
      ]
     },
     "execution_count": 39,
     "metadata": {},
     "output_type": "execute_result"
    }
   ],
   "source": [
    "from math import cos\n",
    "cos(90)"
   ]
  }
 ],
 "metadata": {
  "kernelspec": {
   "display_name": "Python 3 (ipykernel)",
   "language": "python",
   "name": "python3"
  },
  "language_info": {
   "codemirror_mode": {
    "name": "ipython",
    "version": 3
   },
   "file_extension": ".py",
   "mimetype": "text/x-python",
   "name": "python",
   "nbconvert_exporter": "python",
   "pygments_lexer": "ipython3",
   "version": "3.9.7"
  }
 },
 "nbformat": 4,
 "nbformat_minor": 5
}
