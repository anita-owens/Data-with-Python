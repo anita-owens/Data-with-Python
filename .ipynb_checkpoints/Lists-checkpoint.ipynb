{
 "cells": [
  {
   "cell_type": "code",
   "execution_count": 1,
   "id": "8dae05b4",
   "metadata": {},
   "outputs": [
    {
     "name": "stdout",
     "output_type": "stream",
     "text": [
      "4 numbers are divisable by 2\n"
     ]
    }
   ],
   "source": [
    "nums = [3, 5, 99, 12,345,2,6,7896]\n",
    "count_n = 0\n",
    "for n in nums:\n",
    "  if(n % 2 == 0):\n",
    "    count_n += 1\n",
    "print(str(count_n) + \" numbers are divisable by 2\")"
   ]
  },
  {
   "cell_type": "code",
   "execution_count": 2,
   "id": "7d91684e",
   "metadata": {},
   "outputs": [
    {
     "name": "stdout",
     "output_type": "stream",
     "text": [
      "3\n"
     ]
    }
   ],
   "source": [
    "# Count the Number of Occurrences in a Python list using a For Loop\n",
    "items = ['a', 'b', 'a', 'c', 'd', 'd', 'd', 'c', 'a', 'b']\n",
    "counts = {}\n",
    "for item in items:\n",
    "    if item in counts:\n",
    "        counts[item] += 1\n",
    "    else:\n",
    "        counts[item] = 1\n",
    "print(counts.get('a'))"
   ]
  },
  {
   "cell_type": "code",
   "execution_count": null,
   "id": "fb9597b7",
   "metadata": {},
   "outputs": [],
   "source": []
  }
 ],
 "metadata": {
  "kernelspec": {
   "display_name": "Python 3 (ipykernel)",
   "language": "python",
   "name": "python3"
  },
  "language_info": {
   "codemirror_mode": {
    "name": "ipython",
    "version": 3
   },
   "file_extension": ".py",
   "mimetype": "text/x-python",
   "name": "python",
   "nbconvert_exporter": "python",
   "pygments_lexer": "ipython3",
   "version": "3.9.7"
  }
 },
 "nbformat": 4,
 "nbformat_minor": 5
}
