{
 "cells": [
  {
   "cell_type": "code",
   "execution_count": 1,
   "id": "3199be3f",
   "metadata": {},
   "outputs": [],
   "source": [
    "the_count = [1, 2, 3, 4, 5,]\n",
    "fruits = ['apples', 'oranges', 'pears', 'apricots']\n",
    "change = [1, 'pennies', 2, 'dimes', 3, 'quarters']"
   ]
  },
  {
   "cell_type": "code",
   "execution_count": 2,
   "id": "02abb42a",
   "metadata": {},
   "outputs": [
    {
     "name": "stdout",
     "output_type": "stream",
     "text": [
      "This is count 1\n",
      "[1, 2, 3, 4, 5]\n",
      "[1]\n",
      "This is count 2\n",
      "[1, 2, 3, 4, 5]\n",
      "[1, 2]\n",
      "This is count 3\n",
      "[1, 2, 3, 4, 5]\n",
      "[1, 2, 3]\n",
      "This is count 4\n",
      "[1, 2, 3, 4, 5]\n",
      "[1, 2, 3, 4]\n",
      "This is count 5\n",
      "[1, 2, 3, 4, 5]\n",
      "[1, 2, 3, 4, 5]\n",
      "[1, 2, 3, 4, 5]\n",
      "[1, 2, 3, 4, 5]\n"
     ]
    }
   ],
   "source": [
    "# this first kind of for-loop goes through a list\n",
    "newlist = list()\n",
    "for number in the_count:\n",
    "    if number in newlist:\n",
    "        continue\n",
    "    if number not in newlist:\n",
    "        newlist.append(number)\n",
    "    print(\"This is count %d\" % number)\n",
    "    print(the_count)\n",
    "    print(newlist)\n",
    "print(the_count)\n",
    "print(newlist)"
   ]
  },
  {
   "cell_type": "code",
   "execution_count": 4,
   "id": "4a2f2838",
   "metadata": {},
   "outputs": [
    {
     "name": "stdout",
     "output_type": "stream",
     "text": [
      "A fruit of type: apples\n",
      "A fruit of type: oranges\n",
      "A fruit of type: pears\n",
      "A fruit of type: apricots\n",
      "['apples', 'oranges', 'pears', 'apricots']\n"
     ]
    }
   ],
   "source": [
    "# same as above\n",
    "for fruit in fruits:\n",
    "    print(\"A fruit of type: %s\" % fruit)\n",
    "    #print fruits\n",
    "print(fruits)"
   ]
  },
  {
   "cell_type": "code",
   "execution_count": 5,
   "id": "74f0617d",
   "metadata": {},
   "outputs": [
    {
     "name": "stdout",
     "output_type": "stream",
     "text": [
      "I got 1\n",
      "I got 'pennies'\n",
      "I got 2\n",
      "I got 'dimes'\n",
      "I got 3\n",
      "I got 'quarters'\n"
     ]
    }
   ],
   "source": [
    "# also we can go through mixed lists too\n",
    "# notice we have to use %r since we don't know what's in it\n",
    "for i in change:\n",
    "    print(\"I got %r\" % i)\n",
    "    #print change"
   ]
  },
  {
   "cell_type": "code",
   "execution_count": 6,
   "id": "a4f17060",
   "metadata": {},
   "outputs": [],
   "source": [
    "# we can also build lists, first start with an empty one\n",
    "elements = []"
   ]
  },
  {
   "cell_type": "code",
   "execution_count": 8,
   "id": "a12d1c01",
   "metadata": {},
   "outputs": [
    {
     "name": "stdout",
     "output_type": "stream",
     "text": [
      "Adding 0 to the list.\n",
      "Adding 1 to the list.\n",
      "Adding 2 to the list.\n",
      "Adding 3 to the list.\n",
      "Adding 4 to the list.\n",
      "Adding 5 to the list.\n"
     ]
    }
   ],
   "source": [
    "# then use the range function to do 0 to 5 counts\n",
    "# append Adds an element at the end of the list\n",
    "for i in range(0, 6):\n",
    "    print(\"Adding %d to the list.\" % i)\n",
    "    # append is a function that lists understand\n",
    "    elements.append(i)"
   ]
  },
  {
   "cell_type": "code",
   "execution_count": 14,
   "id": "f11b32bf",
   "metadata": {},
   "outputs": [
    {
     "name": "stdout",
     "output_type": "stream",
     "text": [
      "Element was: 0\n",
      "Element was: 1\n",
      "Element was: 2\n",
      "Element was: 3\n",
      "Element was: 4\n",
      "Element was: 5\n",
      "[0, 1, 2, 3, 4, 5]\n"
     ]
    }
   ],
   "source": [
    "# now we can print them out too\n",
    "for i in elements:\n",
    "    print(\"Element was: %d\" % i)\n",
    "print(elements)"
   ]
  },
  {
   "cell_type": "code",
   "execution_count": 9,
   "id": "cd638bb1",
   "metadata": {},
   "outputs": [],
   "source": [
    "x = \"There are %d types of people.\" % 10\n",
    "binary = \"binary\"\n",
    "do_not = \"don't\"\n",
    "y = \"Those who know %s and those who %s.\" % (binary, do_not)"
   ]
  },
  {
   "cell_type": "code",
   "execution_count": 11,
   "id": "dd4dc7f6",
   "metadata": {},
   "outputs": [
    {
     "name": "stdout",
     "output_type": "stream",
     "text": [
      "There are 10 types of people.\n",
      "Those who know binary and those who don't.\n"
     ]
    }
   ],
   "source": [
    "print(x)\n",
    "#There are 10 types of people.\n",
    "print(y)\n",
    "#Those who know binary and those who don't."
   ]
  },
  {
   "cell_type": "code",
   "execution_count": 12,
   "id": "a5ef4d81",
   "metadata": {},
   "outputs": [
    {
     "name": "stdout",
     "output_type": "stream",
     "text": [
      "I said: 'There are 10 types of people.'.\n",
      "I also said: 'Those who know binary and those who don't.'.\n"
     ]
    }
   ],
   "source": [
    "print(\"I said: %r.\" % x)\n",
    "#I said: 'There are 10 types of people.'.\n",
    "print(\"I also said: '%s'.\" % y)\n",
    "#I also said: 'Those who know binary and those who don't.'."
   ]
  }
 ],
 "metadata": {
  "kernelspec": {
   "display_name": "Python 3 (ipykernel)",
   "language": "python",
   "name": "python3"
  },
  "language_info": {
   "codemirror_mode": {
    "name": "ipython",
    "version": 3
   },
   "file_extension": ".py",
   "mimetype": "text/x-python",
   "name": "python",
   "nbconvert_exporter": "python",
   "pygments_lexer": "ipython3",
   "version": "3.9.7"
  }
 },
 "nbformat": 4,
 "nbformat_minor": 5
}
