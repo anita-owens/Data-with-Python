{
 "cells": [
  {
   "cell_type": "code",
   "execution_count": 2,
   "id": "f8517172",
   "metadata": {},
   "outputs": [],
   "source": [
    "#create list\n",
    "list = [\"Life\", \"The Universe\", \"Everything\", \"Jack\", \"Jill\", \"Life\", \"Jill\"]"
   ]
  },
  {
   "cell_type": "code",
   "execution_count": 3,
   "id": "14b546e8",
   "metadata": {},
   "outputs": [],
   "source": [
    "# make a copy of the list. See the More on Lists chapter to explain what [:] means.\n",
    "copy = list[:]"
   ]
  },
  {
   "cell_type": "code",
   "execution_count": 4,
   "id": "b128b375",
   "metadata": {},
   "outputs": [],
   "source": [
    "# sort the copy\n",
    "copy.sort()\n",
    "prev = copy[0]\n",
    "del copy[0]"
   ]
  },
  {
   "cell_type": "code",
   "execution_count": 8,
   "id": "632236a5",
   "metadata": {},
   "outputs": [
    {
     "name": "stdout",
     "output_type": "stream",
     "text": [
      "First Match: Jill\n"
     ]
    }
   ],
   "source": [
    "count = 0\n",
    "# go through the list searching for a match\n",
    "while count < len(copy) and copy[count] != prev:\n",
    "    prev = copy[count]\n",
    "    count = count + 1\n",
    "# If a match was not found then count can't be < len\n",
    "# since the while loop continues while count is < len\n",
    "# and no match is found\n",
    "if count < len(copy):\n",
    "    print(\"First Match:\", prev)"
   ]
  },
  {
   "cell_type": "code",
   "execution_count": 10,
   "id": "7d73c6b8",
   "metadata": {},
   "outputs": [
    {
     "name": "stdout",
     "output_type": "stream",
     "text": [
      "False\n"
     ]
    }
   ],
   "source": [
    "bool_one = 1 > 2 and 2 < 4\n",
    "print(bool_one)"
   ]
  },
  {
   "cell_type": "code",
   "execution_count": null,
   "id": "c84ca87e",
   "metadata": {},
   "outputs": [],
   "source": [
    "bool_two = not 1 == 0 and 1 ==1\n",
    "print(bool_two)"
   ]
  },
  {
   "cell_type": "code",
   "execution_count": 12,
   "id": "457107ac",
   "metadata": {},
   "outputs": [
    {
     "name": "stdout",
     "output_type": "stream",
     "text": [
      "bool_three True\n"
     ]
    }
   ],
   "source": [
    "bool_three = (7 > 6 and not 6 > 7) or 6 > 7\n",
    "print(\"bool_three\", bool_three)"
   ]
  },
  {
   "cell_type": "code",
   "execution_count": 13,
   "id": "7e019a13",
   "metadata": {},
   "outputs": [
    {
     "data": {
      "text/plain": [
       "True"
      ]
     },
     "execution_count": 13,
     "metadata": {},
     "output_type": "execute_result"
    }
   ],
   "source": [
    "bool_four = not not 0==0 and not 1 < 0\n",
    "bool_four"
   ]
  },
  {
   "cell_type": "code",
   "execution_count": 14,
   "id": "aefaa681",
   "metadata": {},
   "outputs": [
    {
     "data": {
      "text/plain": [
       "False"
      ]
     },
     "execution_count": 14,
     "metadata": {},
     "output_type": "execute_result"
    }
   ],
   "source": [
    "bool_five = (100>1000) or not 1000<1001 and 0>=0\n",
    "bool_five"
   ]
  },
  {
   "cell_type": "code",
   "execution_count": 15,
   "id": "0f5106f5",
   "metadata": {},
   "outputs": [
    {
     "data": {
      "text/plain": [
       "False"
      ]
     },
     "execution_count": 15,
     "metadata": {},
     "output_type": "execute_result"
    }
   ],
   "source": [
    "# Make me false!\n",
    "bool_six = (2 <= 2) and \"Alpha\" == \"Bravo\"  # We did this one for you!\n",
    "bool_six"
   ]
  },
  {
   "cell_type": "code",
   "execution_count": 11,
   "id": "8af50143",
   "metadata": {},
   "outputs": [
    {
     "name": "stdout",
     "output_type": "stream",
     "text": [
      "True\n"
     ]
    }
   ],
   "source": [
    "# Make me true!\n",
    "bool_seven = not 1 == 0 and 1 ==1\n",
    "print(bool_seven)"
   ]
  },
  {
   "cell_type": "code",
   "execution_count": null,
   "id": "254e7155",
   "metadata": {},
   "outputs": [],
   "source": [
    "# Make me false!\n",
    "bool_eight =  1 > 2 and 2 < 4\n",
    "print(\"bool_eight\", bool_eight)"
   ]
  },
  {
   "cell_type": "code",
   "execution_count": null,
   "id": "ffa866d2",
   "metadata": {},
   "outputs": [],
   "source": [
    "# Make me true!\n",
    "bool_nine = 3>3 or 5>4\n",
    "print(bool_nine)"
   ]
  },
  {
   "cell_type": "code",
   "execution_count": null,
   "id": "c78d6aa2",
   "metadata": {},
   "outputs": [],
   "source": [
    "# Make me true!\n",
    "bool_ten = (1001>1000) or not 1000<1001 and 1>=0\n",
    "print(bool_ten)"
   ]
  },
  {
   "cell_type": "code",
   "execution_count": null,
   "id": "649d96b0",
   "metadata": {},
   "outputs": [],
   "source": [
    "bool_eleven = not (3*1 < 4**1) and (1>0 == 1>0)\n",
    "print(bool_eleven)"
   ]
  },
  {
   "cell_type": "code",
   "execution_count": null,
   "id": "f0244052",
   "metadata": {},
   "outputs": [],
   "source": [
    "bool_twelve = not 3**4 < 4**3\n",
    "print(bool_twelve)"
   ]
  },
  {
   "cell_type": "code",
   "execution_count": null,
   "id": "5b2c46c0",
   "metadata": {},
   "outputs": [],
   "source": [
    "bool_thirteen = not 10 % 3 <= 10 % 2\n",
    "print(bool_thirteen )"
   ]
  },
  {
   "cell_type": "code",
   "execution_count": null,
   "id": "f7ef2fd2",
   "metadata": {},
   "outputs": [],
   "source": [
    "bool_fourteen = not 3**2 + 4**2 != 5**2\n",
    "print(bool_fourteen)"
   ]
  },
  {
   "cell_type": "code",
   "execution_count": null,
   "id": "b0555a4a",
   "metadata": {},
   "outputs": [],
   "source": [
    "bool_fifteen = not not 11*5 < 1*5\n",
    "print(bool_fifteen)"
   ]
  }
 ],
 "metadata": {
  "kernelspec": {
   "display_name": "Python 3 (ipykernel)",
   "language": "python",
   "name": "python3"
  },
  "language_info": {
   "codemirror_mode": {
    "name": "ipython",
    "version": 3
   },
   "file_extension": ".py",
   "mimetype": "text/x-python",
   "name": "python",
   "nbconvert_exporter": "python",
   "pygments_lexer": "ipython3",
   "version": "3.9.7"
  }
 },
 "nbformat": 4,
 "nbformat_minor": 5
}
