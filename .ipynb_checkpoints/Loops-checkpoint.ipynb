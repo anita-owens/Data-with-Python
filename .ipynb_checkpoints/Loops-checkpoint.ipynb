{
 "cells": [
  {
   "cell_type": "markdown",
   "id": "6fc5c9a1",
   "metadata": {},
   "source": [
    "# Loops"
   ]
  },
  {
   "cell_type": "code",
   "execution_count": null,
   "id": "30eff40c",
   "metadata": {},
   "outputs": [],
   "source": [
    "import pandas as pd\n",
    "import random\n",
    "import time"
   ]
  },
  {
   "cell_type": "code",
   "execution_count": null,
   "id": "d1fb6f1d",
   "metadata": {},
   "outputs": [],
   "source": [
    "word='high'\n",
    "letter='h'\n",
    "def find(word,letter):\n",
    "    index = 0\n",
    "    while index < len(word):\n",
    "        if word[index]== letter:\n",
    "            return index\n",
    "        index = index +1\n",
    "    return -1\n",
    "    \n",
    "print(find(word,letter))"
   ]
  },
  {
   "cell_type": "code",
   "execution_count": null,
   "id": "083a054f",
   "metadata": {},
   "outputs": [],
   "source": [
    "#Print the occurences of the letter a in banana\n",
    "word = 'banana'\n",
    "count = 0\n",
    "for letter in word:\n",
    "    if letter == 'a':\n",
    "        count = count + 1\n",
    "print(count)"
   ]
  },
  {
   "cell_type": "code",
   "execution_count": null,
   "id": "91b02fd1",
   "metadata": {},
   "outputs": [],
   "source": [
    "#assign 8-5\n",
    "#Same as above but now a function\n",
    "def count(word,letter):\n",
    "    count = 0\n",
    "    for letter in word:\n",
    "        if letter == 'a':\n",
    "            count = count + 1\n",
    "    return count\n",
    "print(count(word,letter))\n",
    "\n",
    "print(count('banana',''))\n",
    "print(count('apples', ''))"
   ]
  },
  {
   "cell_type": "markdown",
   "id": "81afa014",
   "metadata": {},
   "source": [
    "## Range"
   ]
  },
  {
   "cell_type": "code",
   "execution_count": null,
   "id": "f90bdbca",
   "metadata": {},
   "outputs": [],
   "source": [
    "for n in range(2, 10):\n",
    "    for x in range(2, n):\n",
    "        if n % x == 0:\n",
    "            print(n, 'equals', x, '*', n/x)\n",
    "            break\n",
    "    else:\n",
    "    # loop fell through without finding a factor\n",
    "        print(n, 'is a prime number')"
   ]
  },
  {
   "cell_type": "code",
   "execution_count": null,
   "id": "c5c9353e",
   "metadata": {},
   "outputs": [],
   "source": [
    "for i in range (4, 10, 2):\n",
    "    print(i)"
   ]
  },
  {
   "cell_type": "code",
   "execution_count": null,
   "id": "f8cb9cd1",
   "metadata": {},
   "outputs": [],
   "source": [
    "my_list = ['one', 'two', 'three', 'four', 'five']\n",
    "my_list_len = len(my_list)\n",
    "for i in range(0, my_list_len):\n",
    "    print(my_list[i])"
   ]
  },
  {
   "cell_type": "code",
   "execution_count": null,
   "id": "ff0a9912",
   "metadata": {},
   "outputs": [],
   "source": [
    "my_list = ['one', 'two', 'three', 'four', 'five']\n",
    "[word for word in my_list]\n"
   ]
  },
  {
   "cell_type": "code",
   "execution_count": null,
   "id": "c23bd59f",
   "metadata": {},
   "outputs": [],
   "source": [
    "my_list = ['one', 'two', 'three', 'four', 'five']\n",
    "for word in my_list:\n",
    "    print(word)"
   ]
  },
  {
   "cell_type": "code",
   "execution_count": null,
   "id": "4a171bbf",
   "metadata": {},
   "outputs": [],
   "source": [
    "x_list = ['one', 'two', 'three', 'four', 'five']\n",
    "\n",
    "def words_in_list(a_list):\n",
    "    for word in a_list:\n",
    "        print(word)\n",
    "\n",
    "words_in_list(x_list)"
   ]
  },
  {
   "cell_type": "code",
   "execution_count": null,
   "id": "be53963a",
   "metadata": {},
   "outputs": [],
   "source": [
    "def lots_of_numbers(max):\n",
    "    for x in range(0, max):\n",
    "        print(x)\n",
    "        \n",
    "lots_of_numbers(11)"
   ]
  },
  {
   "cell_type": "code",
   "execution_count": null,
   "id": "1d6cd43c",
   "metadata": {},
   "outputs": [],
   "source": [
    "names = [\"Adam\",\"Alex\",\"Mariah\",\"Martine\",\"Columbus\"]\n",
    "for name in names:\n",
    "    print(name)"
   ]
  },
  {
   "cell_type": "code",
   "execution_count": null,
   "id": "7c6c9542",
   "metadata": {},
   "outputs": [],
   "source": [
    "%%timeit\n",
    "names = [\"Adam\",\"Alex\",\"Mariah\",\"Martine\",\"Columbus\"]\n",
    "[name for name in names]"
   ]
  },
  {
   "cell_type": "code",
   "execution_count": null,
   "id": "d93e6f02",
   "metadata": {},
   "outputs": [],
   "source": [
    "a = [0, 1, 2, 3, 4, 5, 6, 7, 8, 9, 10, 11, 12, 13]\n",
    "for number in a:\n",
    "    if number % 2 ==0:\n",
    "        #print(number)\n",
    "        print(\"We printed even number\", number)"
   ]
  },
  {
   "cell_type": "code",
   "execution_count": null,
   "id": "27c779ce",
   "metadata": {},
   "outputs": [],
   "source": [
    " #functions and for loops       \n",
    "def count_small(numbers):\n",
    "    total = 0\n",
    "    for n in numbers:\n",
    "        if n < 10:\n",
    "            total = total + 1\n",
    "    return total\n",
    "\n",
    "lost = [4, 8, 15, 16, 23, 42]\n",
    "small = count_small(lost)\n",
    "print(small)"
   ]
  },
  {
   "cell_type": "markdown",
   "id": "cd2e8467",
   "metadata": {},
   "source": [
    "# Exercises from Python for Kids"
   ]
  },
  {
   "cell_type": "code",
   "execution_count": null,
   "id": "86e695f7",
   "metadata": {},
   "outputs": [],
   "source": [
    "import random\n",
    "import time"
   ]
  },
  {
   "cell_type": "code",
   "execution_count": null,
   "id": "793d69b6",
   "metadata": {},
   "outputs": [],
   "source": [
    "desserts = ['ice cream', 'pancakes', 'brownies', 'cookies',\n",
    "'candy']\n",
    "\n",
    "print(random.choice(desserts))"
   ]
  },
  {
   "cell_type": "code",
   "execution_count": null,
   "id": "5690c1f9",
   "metadata": {},
   "outputs": [],
   "source": [
    "def lots_of_numbers(max):\n",
    "    t1 = time.time()\n",
    "    for x in range(0, max):\n",
    "        print(x)\n",
    "    t2 = time.time()\n",
    "    t3=t2-t1\n",
    "    #print('it took %s seconds' % (t2-t1))\n",
    "    print(\"it took\", t3, \"seconds\")\n",
    "\n",
    "lots_of_numbers(10)"
   ]
  },
  {
   "cell_type": "code",
   "execution_count": null,
   "id": "50e010f0",
   "metadata": {},
   "outputs": [],
   "source": [
    "for x in range(1, 2):\n",
    "    print(x)\n",
    "    time.sleep(1)\n",
    "    print(\"all done\")"
   ]
  },
  {
   "cell_type": "code",
   "execution_count": null,
   "id": "042760ea",
   "metadata": {},
   "outputs": [],
   "source": [
    "print(\"A dollar makes me holla honeychild\")"
   ]
  },
  {
   "cell_type": "code",
   "execution_count": null,
   "id": "2db8b72c",
   "metadata": {},
   "outputs": [],
   "source": [
    "x = 'C'\n",
    "if x == 'A':\n",
    "    print(1)\n",
    "elif x == 'B':\n",
    "    print(6)\n",
    "else:\n",
    "    print(10)"
   ]
  }
 ],
 "metadata": {
  "kernelspec": {
   "display_name": "Python 3 (ipykernel)",
   "language": "python",
   "name": "python3"
  },
  "language_info": {
   "codemirror_mode": {
    "name": "ipython",
    "version": 3
   },
   "file_extension": ".py",
   "mimetype": "text/x-python",
   "name": "python",
   "nbconvert_exporter": "python",
   "pygments_lexer": "ipython3",
   "version": "3.9.7"
  },
  "vscode": {
   "interpreter": {
    "hash": "40d3a090f54c6569ab1632332b64b2c03c39dcf918b08424e98f38b5ae0af88f"
   }
  }
 },
 "nbformat": 4,
 "nbformat_minor": 5
}
