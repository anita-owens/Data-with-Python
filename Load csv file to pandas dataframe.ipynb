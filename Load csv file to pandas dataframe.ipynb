{
 "cells": [
  {
   "cell_type": "code",
   "execution_count": null,
   "id": "3f9cef67",
   "metadata": {},
   "outputs": [],
   "source": [
    "# Load packages\n",
    "from pandas import DataFrame\n",
    "import os"
   ]
  },
  {
   "cell_type": "code",
   "execution_count": null,
   "id": "64e2c19e",
   "metadata": {},
   "outputs": [],
   "source": [
    "# Function to Get the current\n",
    "# working directory\n",
    "def current_path():\n",
    "    print(\"Current working directory before\")\n",
    "    print(os.getcwd())\n",
    "    print()\n",
    "    \n",
    "current_path()"
   ]
  },
  {
   "cell_type": "code",
   "execution_count": null,
   "id": "d6716c6d",
   "metadata": {},
   "outputs": [],
   "source": [
    "# Load each file into a pandas dataframe, this is based on a numpy array\n",
    "data1 = DataFrame.from_csv('oldads.csv',sep=',',parse_dates=False)\n",
    "data2 = DataFrame.from_csv('newads.csv',sep=',',parse_dates=False)"
   ]
  },
  {
   "cell_type": "code",
   "execution_count": null,
   "id": "e638ad83",
   "metadata": {},
   "outputs": [],
   "source": [
    "#Now add 'headers' from data1 to data2\n",
    "data2['header1'] = data1['header1']\n",
    "data2['header3'] = data1['header21']\n",
    "data2['header4'] = data1['header22']\n",
    "data2['header5'] = data1['header3']\n",
    "data2['header6'] = data1['header4']\n",
    "data2['header10'] = data1['header7']\n",
    "data2['header11'] = data1['header8']"
   ]
  },
  {
   "cell_type": "code",
   "execution_count": null,
   "id": "ed72b0d0",
   "metadata": {},
   "outputs": [],
   "source": [
    "#Save it back to csv\n",
    "data2.to_csv('output.csv')"
   ]
  }
 ],
 "metadata": {
  "kernelspec": {
   "display_name": "Python 3.9.7 ('base')",
   "language": "python",
   "name": "python3"
  },
  "language_info": {
   "codemirror_mode": {
    "name": "ipython",
    "version": 3
   },
   "file_extension": ".py",
   "mimetype": "text/x-python",
   "name": "python",
   "nbconvert_exporter": "python",
   "pygments_lexer": "ipython3",
   "version": "3.9.7"
  },
  "vscode": {
   "interpreter": {
    "hash": "40d3a090f54c6569ab1632332b64b2c03c39dcf918b08424e98f38b5ae0af88f"
   }
  }
 },
 "nbformat": 4,
 "nbformat_minor": 5
}
