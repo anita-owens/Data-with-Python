{
 "cells": [
  {
   "cell_type": "markdown",
   "id": "c8a2badf",
   "metadata": {},
   "source": [
    " removeCsvHeader.py - Removes the header from all CSV files in the current working directory."
   ]
  },
  {
   "cell_type": "code",
   "execution_count": null,
   "id": "4f665fa2",
   "metadata": {},
   "outputs": [],
   "source": [
    "import csv, os"
   ]
  },
  {
   "cell_type": "code",
   "execution_count": null,
   "id": "8b662451",
   "metadata": {},
   "outputs": [],
   "source": [
    "os.makedirs('headerRemoved', exist_ok=True)"
   ]
  },
  {
   "cell_type": "code",
   "execution_count": null,
   "id": "bc4517ef",
   "metadata": {},
   "outputs": [],
   "source": [
    "   # Loop through every file in the current working directory.\n",
    "for csvFilename in os.listdir('.'):\n",
    "    if not csvFilename.endswith('.csv'):\n",
    "        continue    # skip non-csv files\n",
    "    print('Removing header from ' + csvFilename + '...')"
   ]
  },
  {
   "cell_type": "code",
   "execution_count": null,
   "id": "1161e5c7",
   "metadata": {},
   "outputs": [],
   "source": [
    "# Read the CSV file in (skipping first row).\n",
    "csvRows = []\n",
    "csvFileObj = open(csvFilename)\n",
    "readerObj = csv.reader(csvFileObj)\n",
    "for row in readerObj:\n",
    "    if readerObj.line_num == 1:\n",
    "        continue    # skip first row\n",
    "    csvRows.append(row)\n",
    "csvFileObj.close()"
   ]
  },
  {
   "cell_type": "code",
   "execution_count": null,
   "id": "bca1edac",
   "metadata": {},
   "outputs": [],
   "source": [
    "# Write out the CSV file.\n",
    "csvFileObj = open(os.path.join('headerRemoved', csvFilename), 'w', newline='')\n",
    "csvWriter = csv.writer(csvFileObj)\n",
    "for row in csvRows:\n",
    "    csvWriter.writerow(row)\n",
    "csvFileObj.close()"
   ]
  }
 ],
 "metadata": {
  "kernelspec": {
   "display_name": "Python 3 (ipykernel)",
   "language": "python",
   "name": "python3"
  },
  "language_info": {
   "codemirror_mode": {
    "name": "ipython",
    "version": 3
   },
   "file_extension": ".py",
   "mimetype": "text/x-python",
   "name": "python",
   "nbconvert_exporter": "python",
   "pygments_lexer": "ipython3",
   "version": "3.9.7"
  }
 },
 "nbformat": 4,
 "nbformat_minor": 5
}
