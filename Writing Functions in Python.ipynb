{
 "cells": [
  {
   "cell_type": "markdown",
   "id": "989eef21",
   "metadata": {},
   "source": [
    "# Set up environment"
   ]
  },
  {
   "cell_type": "markdown",
   "id": "73030a4c",
   "metadata": {},
   "source": [
    "The goal of this course is to transform you into a Python expert, and so the first chapter starts off with best practices when writing functions. You'll cover docstrings and why they matter and how to know when you need to turn a chunk of code into a function. You will also learn the details of how Python passes arguments to functions, as well as some common gotchas that can cause debugging headaches when calling functions."
   ]
  },
  {
   "cell_type": "code",
   "execution_count": 1,
   "id": "84e486fb",
   "metadata": {},
   "outputs": [],
   "source": [
    "#import packages\n",
    "import pandas as pd\n",
    "import numpy as np\n",
    "import time\n",
    "import webbrowser\n",
    "import pickle\n",
    "from datetime import date\n",
    "import os"
   ]
  },
  {
   "cell_type": "code",
   "execution_count": 2,
   "id": "1380aae0",
   "metadata": {},
   "outputs": [
    {
     "data": {
      "text/plain": [
       "True"
      ]
     },
     "execution_count": 2,
     "metadata": {},
     "output_type": "execute_result"
    }
   ],
   "source": [
    "url = 'https://app.datacamp.com/learn/courses/writing-functions-in-python'\n",
    "\n",
    "# Open URL in a new tab, if a browser window is already open.\n",
    "webbrowser.open_new_tab(url)"
   ]
  },
  {
   "cell_type": "code",
   "execution_count": 3,
   "id": "a1f469bb",
   "metadata": {},
   "outputs": [],
   "source": [
    "# Import datasets \n",
    "capital_one_bike = pd.read_csv(\"https://assets.datacamp.com/production/repositories/3551/datasets/181c142c56d3b83112dfc16fbd933fd995e80f94/capital-onebike.csv\")  \n"
   ]
  },
  {
   "cell_type": "markdown",
   "id": "0235c238",
   "metadata": {},
   "source": [
    "# Part 1 Best Practices"
   ]
  },
  {
   "cell_type": "code",
   "execution_count": 31,
   "id": "13f56c91",
   "metadata": {},
   "outputs": [
    {
     "name": "stdout",
     "output_type": "stream",
     "text": [
      "Robert likes Cora! 2022-11-14 06:32:12.188286\n"
     ]
    }
   ],
   "source": [
    "import random\n",
    "import os\n",
    "from datetime import date\n",
    "from datetime import datetime\n",
    "\n",
    "def hello_pubsub():\n",
    "    \"\"\"Chooses two names at random.\n",
    "    \n",
    "    Returns:\n",
    "    str: Returns two names from list\n",
    "    \n",
    "    \"\"\"\n",
    "    names = [\"Alice\", \"Bob\", \"Charlie\", \"Debra\", \"Peter\", \"Cora\", \"Robert\", \"Violet\", \"Thomas\"]\n",
    "    today = date.today()\n",
    "    dt = datetime.now()\n",
    "\n",
    "    def ChooseTwice(items):\n",
    "      a = random.choice(items)\n",
    "      b = random.choice(items)\n",
    "      return a, b\n",
    "\n",
    "    (one, two) = ChooseTwice(names)\n",
    "    if one == two:\n",
    "        print(\"%s is happy!\" % one, dt)\n",
    "    else:\n",
    "        print(\"%s likes %s!\" % (one, two), dt)\n",
    "\n",
    "hello_pubsub()\n"
   ]
  },
  {
   "cell_type": "code",
   "execution_count": 34,
   "id": "502b773a",
   "metadata": {},
   "outputs": [
    {
     "data": {
      "text/plain": [
       "'Chooses two names at random.\\n    \\n    Returns:\\n    str: Returns two names from list\\n    \\n    '"
      ]
     },
     "execution_count": 34,
     "metadata": {},
     "output_type": "execute_result"
    }
   ],
   "source": [
    "docstring = hello_pubsub.__doc__\n",
    "docstring\n"
   ]
  },
  {
   "cell_type": "code",
   "execution_count": 1,
   "id": "63e41e58",
   "metadata": {},
   "outputs": [
    {
     "data": {
      "text/plain": [
       "5"
      ]
     },
     "execution_count": 1,
     "metadata": {},
     "output_type": "execute_result"
    }
   ],
   "source": [
    "def multiply(a, b):\n",
    "    return a * b\n",
    "\n",
    "multiply(1, 5)"
   ]
  },
  {
   "cell_type": "code",
   "execution_count": 2,
   "id": "e5ee1f8e",
   "metadata": {},
   "outputs": [
    {
     "data": {
      "text/plain": [
       "5"
      ]
     },
     "execution_count": 2,
     "metadata": {},
     "output_type": "execute_result"
    }
   ],
   "source": [
    "def multiply(a, b):\n",
    "    return a * b\n",
    "def double_args(func):\n",
    "    return func\n",
    "\n",
    "new_multiply = double_args(multiply)\n",
    "new_multiply(1,5)"
   ]
  },
  {
   "cell_type": "code",
   "execution_count": 3,
   "id": "e316d43b",
   "metadata": {},
   "outputs": [
    {
     "data": {
      "text/plain": [
       "20"
      ]
     },
     "execution_count": 3,
     "metadata": {},
     "output_type": "execute_result"
    }
   ],
   "source": [
    "#Now we modify the behavior using a decorator\n",
    "def multiply(a, b):\n",
    "    return a * b\n",
    "def double_args(func):\n",
    "    def wrapper(a, b):\n",
    "        #Call the passed in function, but double each argument\n",
    "        return func(a*2, b*2)\n",
    "    return wrapper\n",
    "#Assign the new function to new_multiply\n",
    "new_multiply = double_args(multiply)\n",
    "new_multiply(1,5)\n"
   ]
  },
  {
   "attachments": {},
   "cell_type": "markdown",
   "id": "366c0844",
   "metadata": {},
   "source": [
    "Decorate my_function() with the print_args() decorator using decorator syntax."
   ]
  },
  {
   "cell_type": "code",
   "execution_count": null,
   "id": "799abc84",
   "metadata": {},
   "outputs": [],
   "source": [
    "# Decorate my_function() with the print_args() decorator\n",
    "@print_args\n",
    "def my_function(a, b, c):\n",
    "  print(a + b + c)\n",
    "\n",
    "my_function(1, 2, 3)"
   ]
  },
  {
   "cell_type": "code",
   "execution_count": 2,
   "id": "f3103548",
   "metadata": {},
   "outputs": [
    {
     "name": "stdout",
     "output_type": "stream",
     "text": [
      "Executed Successfully at 2023-01-28 18:58:02.165700\n"
     ]
    }
   ],
   "source": [
    "from datetime import datetime\n",
    "\n",
    "print('Executed Successfully at', datetime.now().strftime(\"%Y-%m-%d %H:%M:%S.%f\"))"
   ]
  }
 ],
 "metadata": {
  "kernelspec": {
   "display_name": "Python 3.9.7 ('base')",
   "language": "python",
   "name": "python3"
  },
  "language_info": {
   "codemirror_mode": {
    "name": "ipython",
    "version": 3
   },
   "file_extension": ".py",
   "mimetype": "text/x-python",
   "name": "python",
   "nbconvert_exporter": "python",
   "pygments_lexer": "ipython3",
   "version": "3.9.7"
  },
  "vscode": {
   "interpreter": {
    "hash": "40d3a090f54c6569ab1632332b64b2c03c39dcf918b08424e98f38b5ae0af88f"
   }
  }
 },
 "nbformat": 4,
 "nbformat_minor": 5
}
