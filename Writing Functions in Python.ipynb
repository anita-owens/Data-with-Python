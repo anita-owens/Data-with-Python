{
 "cells": [
  {
   "cell_type": "markdown",
   "id": "989eef21",
   "metadata": {},
   "source": [
    "# Set up environment"
   ]
  },
  {
   "cell_type": "markdown",
   "id": "73030a4c",
   "metadata": {},
   "source": [
    "The goal of this course is to transform you into a Python expert, and so the first chapter starts off with best practices when writing functions. You'll cover docstrings and why they matter and how to know when you need to turn a chunk of code into a function. You will also learn the details of how Python passes arguments to functions, as well as some common gotchas that can cause debugging headaches when calling functions."
   ]
  },
  {
   "cell_type": "code",
   "execution_count": null,
   "id": "84e486fb",
   "metadata": {},
   "outputs": [],
   "source": [
    "#import packages\n",
    "import pandas as pd\n",
    "import numpy as np\n",
    "import time\n",
    "import webbrowser\n",
    "import pickle\n",
    "from datetime import date\n",
    "import os"
   ]
  },
  {
   "cell_type": "code",
   "execution_count": null,
   "id": "1380aae0",
   "metadata": {},
   "outputs": [],
   "source": [
    "url = 'https://app.datacamp.com/learn/courses/writing-functions-in-python'\n",
    "\n",
    "# Open URL in a new tab, if a browser window is already open.\n",
    "webbrowser.open_new_tab(url)"
   ]
  },
  {
   "cell_type": "code",
   "execution_count": null,
   "id": "a1f469bb",
   "metadata": {},
   "outputs": [],
   "source": [
    "# Import datasets \n",
    "capital_one_bike = pd.read_csv(\"https://assets.datacamp.com/production/repositories/3551/datasets/181c142c56d3b83112dfc16fbd933fd995e80f94/capital-onebike.csv\")  \n"
   ]
  },
  {
   "cell_type": "markdown",
   "id": "0235c238",
   "metadata": {},
   "source": [
    "# Part 1 Best Practices"
   ]
  },
  {
   "cell_type": "code",
   "execution_count": null,
   "id": "13f56c91",
   "metadata": {},
   "outputs": [],
   "source": []
  }
 ],
 "metadata": {
  "kernelspec": {
   "display_name": "Python 3 (ipykernel)",
   "language": "python",
   "name": "python3"
  },
  "language_info": {
   "codemirror_mode": {
    "name": "ipython",
    "version": 3
   },
   "file_extension": ".py",
   "mimetype": "text/x-python",
   "name": "python",
   "nbconvert_exporter": "python",
   "pygments_lexer": "ipython3",
   "version": "3.9.7"
  }
 },
 "nbformat": 4,
 "nbformat_minor": 5
}
