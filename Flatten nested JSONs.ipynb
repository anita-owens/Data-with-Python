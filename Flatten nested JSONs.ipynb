{
 "cells": [
  {
   "cell_type": "code",
   "execution_count": 8,
   "id": "bebb0bdd",
   "metadata": {},
   "outputs": [],
   "source": [
    "# importing the modules\n",
    "import json \n",
    "import pandas as pd \n",
    "from pandas.io.json import json_normalize #package for flattening json in pandas df\n"
   ]
  },
  {
   "cell_type": "code",
   "execution_count": 4,
   "id": "b18976f8",
   "metadata": {},
   "outputs": [
    {
     "name": "stdout",
     "output_type": "stream",
     "text": [
      "[{'Roll no': 1, 'student': {'first_name': 'Ram', 'last_name': 'kumar'}}, {'student': {'English': '95', 'Math': '88'}}, {'Roll no': 2, 'student': {'first_name': 'Joseph', 'English': '90', 'Science': '82'}}, {'Roll no': 3, 'student': {'English': '91', 'Math': '98'}}]\n"
     ]
    }
   ],
   "source": [
    "data = [\n",
    "    {\"Roll no\": 1,\n",
    "     \"student\": {\"first_name\": \"Ram\", \"last_name\": \"kumar\"}\n",
    "     },\n",
    "    {\"student\": {\"English\": \"95\", \"Math\": \"88\"}\n",
    "     },\n",
    "    {\"Roll no\": 2,\n",
    "     \"student\": {\"first_name\": \"Joseph\", \"English\": \"90\", \"Science\": \"82\"}\n",
    "     },\n",
    "    {\"Roll no\": 3,\n",
    "     \"student\": {\"first_name\": \"abinaya\", \"last_name\": \"devi\"},\n",
    "     \"student\": {\"English\": \"91\", \"Math\": \"98\"}\n",
    "     },\n",
    "]\n",
    "\n",
    "print(data)"
   ]
  },
  {
   "cell_type": "code",
   "execution_count": 3,
   "id": "dd575ad7",
   "metadata": {},
   "outputs": [
    {
     "name": "stdout",
     "output_type": "stream",
     "text": [
      "   Roll no student.first_name student.last_name student.English student.Math  \\\n",
      "0      1.0                Ram             kumar             NaN          NaN   \n",
      "1      NaN                NaN               NaN              95           88   \n",
      "2      2.0             Joseph               NaN              90          NaN   \n",
      "3      3.0                NaN               NaN              91           98   \n",
      "\n",
      "  student.Science  \n",
      "0             NaN  \n",
      "1             NaN  \n",
      "2              82  \n",
      "3             NaN  \n"
     ]
    }
   ],
   "source": [
    "df = pd.json_normalize(data)\n",
    "print(df)"
   ]
  },
  {
   "cell_type": "code",
   "execution_count": 6,
   "id": "1677cd31",
   "metadata": {},
   "outputs": [
    {
     "name": "stdout",
     "output_type": "stream",
     "text": [
      "[{'company': 'Google', 'tagline': 'Dont be evil', 'management': {'CEO': 'Sundar Pichai'}, 'department': [{'name': 'Gmail', 'revenue (bn)': 123}, {'name': 'GCP', 'revenue (bn)': 400}, {'name': 'Google drive', 'revenue (bn)': 600}]}, {'company': 'Microsoft', 'tagline': \"Be What's Next\", 'management': {'CEO': 'Satya Nadella'}, 'department': [{'name': 'Onedrive', 'revenue (bn)': 13}, {'name': 'Azure', 'revenue (bn)': 300}, {'name': 'Microsoft 365', 'revenue (bn)': 300}]}]\n"
     ]
    }
   ],
   "source": [
    "data = [\n",
    "    {\n",
    "        \"company\": \"Google\",\n",
    "        \"tagline\": \"Dont be evil\",\n",
    "        \"management\": {\"CEO\": \"Sundar Pichai\"},\n",
    "        \"department\": [\n",
    "            {\"name\": \"Gmail\", \"revenue (bn)\": 123},\n",
    "            {\"name\": \"GCP\", \"revenue (bn)\": 400},\n",
    "            {\"name\": \"Google drive\", \"revenue (bn)\": 600},\n",
    "        ],\n",
    "    },\n",
    "    {\n",
    "        \"company\": \"Microsoft\",\n",
    "        \"tagline\": \"Be What's Next\",\n",
    "        \"management\": {\"CEO\": \"Satya Nadella\"},\n",
    "        \"department\": [\n",
    "            {\"name\": \"Onedrive\", \"revenue (bn)\": 13},\n",
    "            {\"name\": \"Azure\", \"revenue (bn)\": 300},\n",
    "            {\"name\": \"Microsoft 365\", \"revenue (bn)\": 300},\n",
    "        ],\n",
    "    },\n",
    "  \n",
    "]\n",
    "print(data)"
   ]
  },
  {
   "cell_type": "code",
   "execution_count": 7,
   "id": "727e6211",
   "metadata": {},
   "outputs": [
    {
     "data": {
      "text/html": [
       "<div>\n",
       "<style scoped>\n",
       "    .dataframe tbody tr th:only-of-type {\n",
       "        vertical-align: middle;\n",
       "    }\n",
       "\n",
       "    .dataframe tbody tr th {\n",
       "        vertical-align: top;\n",
       "    }\n",
       "\n",
       "    .dataframe thead th {\n",
       "        text-align: right;\n",
       "    }\n",
       "</style>\n",
       "<table border=\"1\" class=\"dataframe\">\n",
       "  <thead>\n",
       "    <tr style=\"text-align: right;\">\n",
       "      <th></th>\n",
       "      <th>name</th>\n",
       "      <th>revenue (bn)</th>\n",
       "      <th>company</th>\n",
       "      <th>tagline</th>\n",
       "      <th>management.CEO</th>\n",
       "    </tr>\n",
       "  </thead>\n",
       "  <tbody>\n",
       "    <tr>\n",
       "      <th>0</th>\n",
       "      <td>Gmail</td>\n",
       "      <td>123</td>\n",
       "      <td>Google</td>\n",
       "      <td>Dont be evil</td>\n",
       "      <td>Sundar Pichai</td>\n",
       "    </tr>\n",
       "    <tr>\n",
       "      <th>1</th>\n",
       "      <td>GCP</td>\n",
       "      <td>400</td>\n",
       "      <td>Google</td>\n",
       "      <td>Dont be evil</td>\n",
       "      <td>Sundar Pichai</td>\n",
       "    </tr>\n",
       "    <tr>\n",
       "      <th>2</th>\n",
       "      <td>Google drive</td>\n",
       "      <td>600</td>\n",
       "      <td>Google</td>\n",
       "      <td>Dont be evil</td>\n",
       "      <td>Sundar Pichai</td>\n",
       "    </tr>\n",
       "    <tr>\n",
       "      <th>3</th>\n",
       "      <td>Onedrive</td>\n",
       "      <td>13</td>\n",
       "      <td>Microsoft</td>\n",
       "      <td>Be What's Next</td>\n",
       "      <td>Satya Nadella</td>\n",
       "    </tr>\n",
       "    <tr>\n",
       "      <th>4</th>\n",
       "      <td>Azure</td>\n",
       "      <td>300</td>\n",
       "      <td>Microsoft</td>\n",
       "      <td>Be What's Next</td>\n",
       "      <td>Satya Nadella</td>\n",
       "    </tr>\n",
       "    <tr>\n",
       "      <th>5</th>\n",
       "      <td>Microsoft 365</td>\n",
       "      <td>300</td>\n",
       "      <td>Microsoft</td>\n",
       "      <td>Be What's Next</td>\n",
       "      <td>Satya Nadella</td>\n",
       "    </tr>\n",
       "  </tbody>\n",
       "</table>\n",
       "</div>"
      ],
      "text/plain": [
       "            name  revenue (bn)    company         tagline management.CEO\n",
       "0          Gmail           123     Google    Dont be evil  Sundar Pichai\n",
       "1            GCP           400     Google    Dont be evil  Sundar Pichai\n",
       "2   Google drive           600     Google    Dont be evil  Sundar Pichai\n",
       "3       Onedrive            13  Microsoft  Be What's Next  Satya Nadella\n",
       "4          Azure           300  Microsoft  Be What's Next  Satya Nadella\n",
       "5  Microsoft 365           300  Microsoft  Be What's Next  Satya Nadella"
      ]
     },
     "execution_count": 7,
     "metadata": {},
     "output_type": "execute_result"
    }
   ],
   "source": [
    "result = pd.json_normalize(\n",
    "    data, \"department\", [\"company\", \"tagline\", [\"management\", \"CEO\"]]\n",
    ")\n",
    "result"
   ]
  },
  {
   "cell_type": "code",
   "execution_count": 10,
   "id": "9ea14956",
   "metadata": {},
   "outputs": [],
   "source": [
    "#load json object\n",
    "with open('datasets/raw_nyc_phil.json') as f:\n",
    "    d = json.load(f)"
   ]
  },
  {
   "cell_type": "code",
   "execution_count": 12,
   "id": "8a60cd89",
   "metadata": {},
   "outputs": [
    {
     "data": {
      "text/html": [
       "<div>\n",
       "<style scoped>\n",
       "    .dataframe tbody tr th:only-of-type {\n",
       "        vertical-align: middle;\n",
       "    }\n",
       "\n",
       "    .dataframe tbody tr th {\n",
       "        vertical-align: top;\n",
       "    }\n",
       "\n",
       "    .dataframe thead th {\n",
       "        text-align: right;\n",
       "    }\n",
       "</style>\n",
       "<table border=\"1\" class=\"dataframe\">\n",
       "  <thead>\n",
       "    <tr style=\"text-align: right;\">\n",
       "      <th></th>\n",
       "      <th>season</th>\n",
       "      <th>orchestra</th>\n",
       "      <th>concerts</th>\n",
       "      <th>programID</th>\n",
       "      <th>works</th>\n",
       "      <th>id</th>\n",
       "    </tr>\n",
       "  </thead>\n",
       "  <tbody>\n",
       "    <tr>\n",
       "      <th>0</th>\n",
       "      <td>1842-43</td>\n",
       "      <td>New York Philharmonic</td>\n",
       "      <td>[{'Date': '1842-12-07T05:00:00Z', 'eventType':...</td>\n",
       "      <td>3853</td>\n",
       "      <td>[{'workTitle': 'SYMPHONY NO. 5 IN C MINOR, OP....</td>\n",
       "      <td>38e072a7-8fc9-4f9a-8eac-3957905c0002</td>\n",
       "    </tr>\n",
       "    <tr>\n",
       "      <th>1</th>\n",
       "      <td>1842-43</td>\n",
       "      <td>New York Philharmonic</td>\n",
       "      <td>[{'Date': '1843-02-18T05:00:00Z', 'eventType':...</td>\n",
       "      <td>5178</td>\n",
       "      <td>[{'workTitle': 'SYMPHONY NO. 3 IN E FLAT MAJOR...</td>\n",
       "      <td>c7b2b95c-5e0b-431c-a340-5b37fc860b34</td>\n",
       "    </tr>\n",
       "    <tr>\n",
       "      <th>2</th>\n",
       "      <td>1842-43</td>\n",
       "      <td>Musicians from the New York Philharmonic</td>\n",
       "      <td>[{'Date': '1843-04-07T05:00:00Z', 'eventType':...</td>\n",
       "      <td>10785</td>\n",
       "      <td>[{'workTitle': 'EGMONT, OP.84', 'composerName'...</td>\n",
       "      <td>894e1a52-1ae5-4fa7-aec0-b99997555a37</td>\n",
       "    </tr>\n",
       "  </tbody>\n",
       "</table>\n",
       "</div>"
      ],
      "text/plain": [
       "    season                                 orchestra  \\\n",
       "0  1842-43                     New York Philharmonic   \n",
       "1  1842-43                     New York Philharmonic   \n",
       "2  1842-43  Musicians from the New York Philharmonic   \n",
       "\n",
       "                                            concerts programID  \\\n",
       "0  [{'Date': '1842-12-07T05:00:00Z', 'eventType':...      3853   \n",
       "1  [{'Date': '1843-02-18T05:00:00Z', 'eventType':...      5178   \n",
       "2  [{'Date': '1843-04-07T05:00:00Z', 'eventType':...     10785   \n",
       "\n",
       "                                               works  \\\n",
       "0  [{'workTitle': 'SYMPHONY NO. 5 IN C MINOR, OP....   \n",
       "1  [{'workTitle': 'SYMPHONY NO. 3 IN E FLAT MAJOR...   \n",
       "2  [{'workTitle': 'EGMONT, OP.84', 'composerName'...   \n",
       "\n",
       "                                     id  \n",
       "0  38e072a7-8fc9-4f9a-8eac-3957905c0002  \n",
       "1  c7b2b95c-5e0b-431c-a340-5b37fc860b34  \n",
       "2  894e1a52-1ae5-4fa7-aec0-b99997555a37  "
      ]
     },
     "execution_count": 12,
     "metadata": {},
     "output_type": "execute_result"
    }
   ],
   "source": [
    "nycphil = pd.json_normalize(d['programs'])\n",
    "nycphil.head(3)"
   ]
  },
  {
   "cell_type": "code",
   "execution_count": 22,
   "id": "9f4b7de0",
   "metadata": {},
   "outputs": [
    {
     "data": {
      "text/plain": [
       "(13954, 6)"
      ]
     },
     "execution_count": 22,
     "metadata": {},
     "output_type": "execute_result"
    }
   ],
   "source": [
    "nycphil.shape"
   ]
  },
  {
   "cell_type": "code",
   "execution_count": 24,
   "id": "4483def2",
   "metadata": {},
   "outputs": [
    {
     "data": {
      "text/plain": [
       "Index(['season', 'orchestra', 'concerts', 'programID', 'works', 'id'], dtype='object')"
      ]
     },
     "execution_count": 24,
     "metadata": {},
     "output_type": "execute_result"
    }
   ],
   "source": [
    "nycphil.columns"
   ]
  },
  {
   "cell_type": "code",
   "execution_count": 18,
   "id": "ad481370",
   "metadata": {},
   "outputs": [
    {
     "data": {
      "text/plain": [
       "0        [{'workTitle': 'SYMPHONY NO. 5 IN C MINOR, OP....\n",
       "1        [{'workTitle': 'SYMPHONY NO. 3 IN E FLAT MAJOR...\n",
       "2        [{'workTitle': 'EGMONT, OP.84', 'composerName'...\n",
       "3        [{'workTitle': 'SYMPHONY NO. 2 IN D MAJOR, OP....\n",
       "4        [{'workTitle': 'SYMPHONY NO. 7 IN A MAJOR, OP....\n",
       "                               ...                        \n",
       "13949    [{'workTitle': 'QUARTET, STRING, NO. 3 (MISHIM...\n",
       "13950    [{'workTitle': 'SYMPHONY NO. 9, E MINOR, OP.95...\n",
       "13951    [{'workTitle': 'SYMPHONY NO.  7 IN E MINOR (SO...\n",
       "13952    [{'workTitle': 'SYMPHONY NO. 9, E MINOR, OP.95...\n",
       "13953    [{'workTitle': 'QUIET CITY', 'conductorName': ...\n",
       "Name: works, Length: 13954, dtype: object"
      ]
     },
     "execution_count": 18,
     "metadata": {},
     "output_type": "execute_result"
    }
   ],
   "source": [
    "nycphil['works']"
   ]
  },
  {
   "cell_type": "markdown",
   "id": "99d446b8",
   "metadata": {},
   "source": [
    "We see (at least) two nested columns, concerts and works. Json_normalize docs give us some hints how to flatten semi-structured data further. Let's unpack the works column into a standalone dataframe."
   ]
  },
  {
   "cell_type": "code",
   "execution_count": 25,
   "id": "8e236ce6",
   "metadata": {},
   "outputs": [
    {
     "data": {
      "text/html": [
       "<div>\n",
       "<style scoped>\n",
       "    .dataframe tbody tr th:only-of-type {\n",
       "        vertical-align: middle;\n",
       "    }\n",
       "\n",
       "    .dataframe tbody tr th {\n",
       "        vertical-align: top;\n",
       "    }\n",
       "\n",
       "    .dataframe thead th {\n",
       "        text-align: right;\n",
       "    }\n",
       "</style>\n",
       "<table border=\"1\" class=\"dataframe\">\n",
       "  <thead>\n",
       "    <tr style=\"text-align: right;\">\n",
       "      <th></th>\n",
       "      <th>workTitle</th>\n",
       "      <th>conductorName</th>\n",
       "      <th>ID</th>\n",
       "      <th>soloists</th>\n",
       "      <th>composerName</th>\n",
       "      <th>movement</th>\n",
       "      <th>interval</th>\n",
       "      <th>movement.em</th>\n",
       "      <th>movement._</th>\n",
       "      <th>workTitle.em</th>\n",
       "      <th>workTitle._</th>\n",
       "      <th>id</th>\n",
       "      <th>orchestra</th>\n",
       "      <th>programID</th>\n",
       "      <th>season</th>\n",
       "      <th>concerts</th>\n",
       "    </tr>\n",
       "  </thead>\n",
       "  <tbody>\n",
       "    <tr>\n",
       "      <th>0</th>\n",
       "      <td>SYMPHONY NO. 5 IN C MINOR, OP.67</td>\n",
       "      <td>Hill, Ureli Corelli</td>\n",
       "      <td>52446*</td>\n",
       "      <td>[]</td>\n",
       "      <td>Beethoven,  Ludwig  van</td>\n",
       "      <td>NaN</td>\n",
       "      <td>NaN</td>\n",
       "      <td>NaN</td>\n",
       "      <td>NaN</td>\n",
       "      <td>NaN</td>\n",
       "      <td>NaN</td>\n",
       "      <td>38e072a7-8fc9-4f9a-8eac-3957905c0002</td>\n",
       "      <td>New York Philharmonic</td>\n",
       "      <td>3853</td>\n",
       "      <td>1842-43</td>\n",
       "      <td>[{'Date': '1842-12-07T05:00:00Z', 'eventType':...</td>\n",
       "    </tr>\n",
       "    <tr>\n",
       "      <th>1</th>\n",
       "      <td>OBERON</td>\n",
       "      <td>Timm, Henry C.</td>\n",
       "      <td>8834*4</td>\n",
       "      <td>[{'soloistName': 'Otto, Antoinette', 'soloistR...</td>\n",
       "      <td>Weber,  Carl  Maria Von</td>\n",
       "      <td>\"Ozean, du Ungeheuer\" (Ocean, thou mighty mons...</td>\n",
       "      <td>NaN</td>\n",
       "      <td>NaN</td>\n",
       "      <td>NaN</td>\n",
       "      <td>NaN</td>\n",
       "      <td>NaN</td>\n",
       "      <td>38e072a7-8fc9-4f9a-8eac-3957905c0002</td>\n",
       "      <td>New York Philharmonic</td>\n",
       "      <td>3853</td>\n",
       "      <td>1842-43</td>\n",
       "      <td>[{'Date': '1842-12-07T05:00:00Z', 'eventType':...</td>\n",
       "    </tr>\n",
       "    <tr>\n",
       "      <th>2</th>\n",
       "      <td>QUINTET, PIANO, D MINOR, OP. 74</td>\n",
       "      <td>NaN</td>\n",
       "      <td>3642*</td>\n",
       "      <td>[{'soloistName': 'Scharfenberg, William', 'sol...</td>\n",
       "      <td>Hummel,  Johann</td>\n",
       "      <td>NaN</td>\n",
       "      <td>NaN</td>\n",
       "      <td>NaN</td>\n",
       "      <td>NaN</td>\n",
       "      <td>NaN</td>\n",
       "      <td>NaN</td>\n",
       "      <td>38e072a7-8fc9-4f9a-8eac-3957905c0002</td>\n",
       "      <td>New York Philharmonic</td>\n",
       "      <td>3853</td>\n",
       "      <td>1842-43</td>\n",
       "      <td>[{'Date': '1842-12-07T05:00:00Z', 'eventType':...</td>\n",
       "    </tr>\n",
       "  </tbody>\n",
       "</table>\n",
       "</div>"
      ],
      "text/plain": [
       "                          workTitle        conductorName      ID  \\\n",
       "0  SYMPHONY NO. 5 IN C MINOR, OP.67  Hill, Ureli Corelli  52446*   \n",
       "1                            OBERON       Timm, Henry C.  8834*4   \n",
       "2   QUINTET, PIANO, D MINOR, OP. 74                  NaN   3642*   \n",
       "\n",
       "                                            soloists             composerName  \\\n",
       "0                                                 []  Beethoven,  Ludwig  van   \n",
       "1  [{'soloistName': 'Otto, Antoinette', 'soloistR...  Weber,  Carl  Maria Von   \n",
       "2  [{'soloistName': 'Scharfenberg, William', 'sol...          Hummel,  Johann   \n",
       "\n",
       "                                            movement interval movement.em  \\\n",
       "0                                                NaN      NaN         NaN   \n",
       "1  \"Ozean, du Ungeheuer\" (Ocean, thou mighty mons...      NaN         NaN   \n",
       "2                                                NaN      NaN         NaN   \n",
       "\n",
       "  movement._ workTitle.em workTitle._                                    id  \\\n",
       "0        NaN          NaN         NaN  38e072a7-8fc9-4f9a-8eac-3957905c0002   \n",
       "1        NaN          NaN         NaN  38e072a7-8fc9-4f9a-8eac-3957905c0002   \n",
       "2        NaN          NaN         NaN  38e072a7-8fc9-4f9a-8eac-3957905c0002   \n",
       "\n",
       "               orchestra programID   season  \\\n",
       "0  New York Philharmonic      3853  1842-43   \n",
       "1  New York Philharmonic      3853  1842-43   \n",
       "2  New York Philharmonic      3853  1842-43   \n",
       "\n",
       "                                            concerts  \n",
       "0  [{'Date': '1842-12-07T05:00:00Z', 'eventType':...  \n",
       "1  [{'Date': '1842-12-07T05:00:00Z', 'eventType':...  \n",
       "2  [{'Date': '1842-12-07T05:00:00Z', 'eventType':...  "
      ]
     },
     "execution_count": 25,
     "metadata": {},
     "output_type": "execute_result"
    }
   ],
   "source": [
    "works_data = pd.json_normalize(data=d['programs'], record_path='works', \n",
    "                            meta=['id', 'orchestra','programID', 'season', 'concerts'])\n",
    "works_data.head(3)"
   ]
  },
  {
   "cell_type": "code",
   "execution_count": 26,
   "id": "c72d8ea3",
   "metadata": {},
   "outputs": [
    {
     "data": {
      "text/plain": [
       "Index(['workTitle', 'conductorName', 'ID', 'soloists', 'composerName',\n",
       "       'movement', 'interval', 'movement.em', 'movement._', 'workTitle.em',\n",
       "       'workTitle._', 'id', 'orchestra', 'programID', 'season', 'concerts'],\n",
       "      dtype='object')"
      ]
     },
     "execution_count": 26,
     "metadata": {},
     "output_type": "execute_result"
    }
   ],
   "source": [
    "works_data.columns"
   ]
  },
  {
   "cell_type": "code",
   "execution_count": null,
   "id": "784f37d2",
   "metadata": {},
   "outputs": [],
   "source": [
    "'id' 'orchestra'  'programID',  'season', 'concerts', works (now sflattened)"
   ]
  },
  {
   "cell_type": "code",
   "execution_count": 37,
   "id": "97792558",
   "metadata": {},
   "outputs": [
    {
     "data": {
      "text/html": [
       "<div>\n",
       "<style scoped>\n",
       "    .dataframe tbody tr th:only-of-type {\n",
       "        vertical-align: middle;\n",
       "    }\n",
       "\n",
       "    .dataframe tbody tr th {\n",
       "        vertical-align: top;\n",
       "    }\n",
       "\n",
       "    .dataframe thead th {\n",
       "        text-align: right;\n",
       "    }\n",
       "</style>\n",
       "<table border=\"1\" class=\"dataframe\">\n",
       "  <thead>\n",
       "    <tr style=\"text-align: right;\">\n",
       "      <th></th>\n",
       "      <th>Date</th>\n",
       "      <th>eventType</th>\n",
       "      <th>Venue</th>\n",
       "      <th>Location</th>\n",
       "      <th>Time</th>\n",
       "      <th>id</th>\n",
       "      <th>orchestra</th>\n",
       "      <th>programID</th>\n",
       "      <th>season</th>\n",
       "    </tr>\n",
       "  </thead>\n",
       "  <tbody>\n",
       "    <tr>\n",
       "      <th>0</th>\n",
       "      <td>1842-12-07T05:00:00Z</td>\n",
       "      <td>Subscription Season</td>\n",
       "      <td>Apollo Rooms</td>\n",
       "      <td>Manhattan, NY</td>\n",
       "      <td>8:00PM</td>\n",
       "      <td>38e072a7-8fc9-4f9a-8eac-3957905c0002</td>\n",
       "      <td>New York Philharmonic</td>\n",
       "      <td>3853</td>\n",
       "      <td>1842-43</td>\n",
       "    </tr>\n",
       "    <tr>\n",
       "      <th>1</th>\n",
       "      <td>1843-02-18T05:00:00Z</td>\n",
       "      <td>Subscription Season</td>\n",
       "      <td>Apollo Rooms</td>\n",
       "      <td>Manhattan, NY</td>\n",
       "      <td>8:00PM</td>\n",
       "      <td>c7b2b95c-5e0b-431c-a340-5b37fc860b34</td>\n",
       "      <td>New York Philharmonic</td>\n",
       "      <td>5178</td>\n",
       "      <td>1842-43</td>\n",
       "    </tr>\n",
       "    <tr>\n",
       "      <th>2</th>\n",
       "      <td>1843-04-07T05:00:00Z</td>\n",
       "      <td>Special</td>\n",
       "      <td>Apollo Rooms</td>\n",
       "      <td>Manhattan, NY</td>\n",
       "      <td>8:00PM</td>\n",
       "      <td>894e1a52-1ae5-4fa7-aec0-b99997555a37</td>\n",
       "      <td>Musicians from the New York Philharmonic</td>\n",
       "      <td>10785</td>\n",
       "      <td>1842-43</td>\n",
       "    </tr>\n",
       "  </tbody>\n",
       "</table>\n",
       "</div>"
      ],
      "text/plain": [
       "                   Date            eventType         Venue       Location  \\\n",
       "0  1842-12-07T05:00:00Z  Subscription Season  Apollo Rooms  Manhattan, NY   \n",
       "1  1843-02-18T05:00:00Z  Subscription Season  Apollo Rooms  Manhattan, NY   \n",
       "2  1843-04-07T05:00:00Z              Special  Apollo Rooms  Manhattan, NY   \n",
       "\n",
       "     Time                                    id  \\\n",
       "0  8:00PM  38e072a7-8fc9-4f9a-8eac-3957905c0002   \n",
       "1  8:00PM  c7b2b95c-5e0b-431c-a340-5b37fc860b34   \n",
       "2  8:00PM  894e1a52-1ae5-4fa7-aec0-b99997555a37   \n",
       "\n",
       "                                  orchestra programID   season  \n",
       "0                     New York Philharmonic      3853  1842-43  \n",
       "1                     New York Philharmonic      5178  1842-43  \n",
       "2  Musicians from the New York Philharmonic     10785  1842-43  "
      ]
     },
     "execution_count": 37,
     "metadata": {},
     "output_type": "execute_result"
    }
   ],
   "source": [
    "concerts_data = pd.json_normalize(data=d['programs'], record_path='concerts', \n",
    "                            meta=['id', 'orchestra','programID', 'season'\n",
    "                                ])\n",
    "concerts_data.head(3)"
   ]
  },
  {
   "cell_type": "code",
   "execution_count": 50,
   "id": "97330e7a",
   "metadata": {},
   "outputs": [
    {
     "data": {
      "text/html": [
       "<div>\n",
       "<style scoped>\n",
       "    .dataframe tbody tr th:only-of-type {\n",
       "        vertical-align: middle;\n",
       "    }\n",
       "\n",
       "    .dataframe tbody tr th {\n",
       "        vertical-align: top;\n",
       "    }\n",
       "\n",
       "    .dataframe thead th {\n",
       "        text-align: right;\n",
       "    }\n",
       "</style>\n",
       "<table border=\"1\" class=\"dataframe\">\n",
       "  <thead>\n",
       "    <tr style=\"text-align: right;\">\n",
       "      <th></th>\n",
       "      <th>workTitle</th>\n",
       "      <th>conductorName</th>\n",
       "      <th>ID</th>\n",
       "      <th>soloists</th>\n",
       "      <th>composerName</th>\n",
       "      <th>movement</th>\n",
       "      <th>interval</th>\n",
       "      <th>movement.em</th>\n",
       "      <th>movement._</th>\n",
       "      <th>workTitle.em</th>\n",
       "      <th>...</th>\n",
       "      <th>orchestra_x</th>\n",
       "      <th>programID</th>\n",
       "      <th>season</th>\n",
       "      <th>concerts</th>\n",
       "      <th>Date</th>\n",
       "      <th>eventType</th>\n",
       "      <th>Venue</th>\n",
       "      <th>Location</th>\n",
       "      <th>Time</th>\n",
       "      <th>orchestra_y</th>\n",
       "    </tr>\n",
       "  </thead>\n",
       "  <tbody>\n",
       "    <tr>\n",
       "      <th>0</th>\n",
       "      <td>SYMPHONY NO. 5 IN C MINOR, OP.67</td>\n",
       "      <td>Hill, Ureli Corelli</td>\n",
       "      <td>52446*</td>\n",
       "      <td>[]</td>\n",
       "      <td>Beethoven,  Ludwig  van</td>\n",
       "      <td>NaN</td>\n",
       "      <td>NaN</td>\n",
       "      <td>NaN</td>\n",
       "      <td>NaN</td>\n",
       "      <td>NaN</td>\n",
       "      <td>...</td>\n",
       "      <td>New York Philharmonic</td>\n",
       "      <td>3853</td>\n",
       "      <td>1842-43</td>\n",
       "      <td>[{'Date': '1842-12-07T05:00:00Z', 'eventType':...</td>\n",
       "      <td>1842-12-07T05:00:00Z</td>\n",
       "      <td>Subscription Season</td>\n",
       "      <td>Apollo Rooms</td>\n",
       "      <td>Manhattan, NY</td>\n",
       "      <td>8:00PM</td>\n",
       "      <td>New York Philharmonic</td>\n",
       "    </tr>\n",
       "    <tr>\n",
       "      <th>1</th>\n",
       "      <td>OBERON</td>\n",
       "      <td>Timm, Henry C.</td>\n",
       "      <td>8834*4</td>\n",
       "      <td>[{'soloistName': 'Otto, Antoinette', 'soloistR...</td>\n",
       "      <td>Weber,  Carl  Maria Von</td>\n",
       "      <td>\"Ozean, du Ungeheuer\" (Ocean, thou mighty mons...</td>\n",
       "      <td>NaN</td>\n",
       "      <td>NaN</td>\n",
       "      <td>NaN</td>\n",
       "      <td>NaN</td>\n",
       "      <td>...</td>\n",
       "      <td>New York Philharmonic</td>\n",
       "      <td>3853</td>\n",
       "      <td>1842-43</td>\n",
       "      <td>[{'Date': '1842-12-07T05:00:00Z', 'eventType':...</td>\n",
       "      <td>1842-12-07T05:00:00Z</td>\n",
       "      <td>Subscription Season</td>\n",
       "      <td>Apollo Rooms</td>\n",
       "      <td>Manhattan, NY</td>\n",
       "      <td>8:00PM</td>\n",
       "      <td>New York Philharmonic</td>\n",
       "    </tr>\n",
       "    <tr>\n",
       "      <th>2</th>\n",
       "      <td>QUINTET, PIANO, D MINOR, OP. 74</td>\n",
       "      <td>NaN</td>\n",
       "      <td>3642*</td>\n",
       "      <td>[{'soloistName': 'Scharfenberg, William', 'sol...</td>\n",
       "      <td>Hummel,  Johann</td>\n",
       "      <td>NaN</td>\n",
       "      <td>NaN</td>\n",
       "      <td>NaN</td>\n",
       "      <td>NaN</td>\n",
       "      <td>NaN</td>\n",
       "      <td>...</td>\n",
       "      <td>New York Philharmonic</td>\n",
       "      <td>3853</td>\n",
       "      <td>1842-43</td>\n",
       "      <td>[{'Date': '1842-12-07T05:00:00Z', 'eventType':...</td>\n",
       "      <td>1842-12-07T05:00:00Z</td>\n",
       "      <td>Subscription Season</td>\n",
       "      <td>Apollo Rooms</td>\n",
       "      <td>Manhattan, NY</td>\n",
       "      <td>8:00PM</td>\n",
       "      <td>New York Philharmonic</td>\n",
       "    </tr>\n",
       "    <tr>\n",
       "      <th>3</th>\n",
       "      <td>NaN</td>\n",
       "      <td>NaN</td>\n",
       "      <td>0*</td>\n",
       "      <td>[]</td>\n",
       "      <td>NaN</td>\n",
       "      <td>NaN</td>\n",
       "      <td>Intermission</td>\n",
       "      <td>NaN</td>\n",
       "      <td>NaN</td>\n",
       "      <td>NaN</td>\n",
       "      <td>...</td>\n",
       "      <td>New York Philharmonic</td>\n",
       "      <td>3853</td>\n",
       "      <td>1842-43</td>\n",
       "      <td>[{'Date': '1842-12-07T05:00:00Z', 'eventType':...</td>\n",
       "      <td>1842-12-07T05:00:00Z</td>\n",
       "      <td>Subscription Season</td>\n",
       "      <td>Apollo Rooms</td>\n",
       "      <td>Manhattan, NY</td>\n",
       "      <td>8:00PM</td>\n",
       "      <td>New York Philharmonic</td>\n",
       "    </tr>\n",
       "    <tr>\n",
       "      <th>4</th>\n",
       "      <td>OBERON</td>\n",
       "      <td>Etienne, Denis G.</td>\n",
       "      <td>8834*3</td>\n",
       "      <td>[]</td>\n",
       "      <td>Weber,  Carl  Maria Von</td>\n",
       "      <td>Overture</td>\n",
       "      <td>NaN</td>\n",
       "      <td>NaN</td>\n",
       "      <td>NaN</td>\n",
       "      <td>NaN</td>\n",
       "      <td>...</td>\n",
       "      <td>New York Philharmonic</td>\n",
       "      <td>3853</td>\n",
       "      <td>1842-43</td>\n",
       "      <td>[{'Date': '1842-12-07T05:00:00Z', 'eventType':...</td>\n",
       "      <td>1842-12-07T05:00:00Z</td>\n",
       "      <td>Subscription Season</td>\n",
       "      <td>Apollo Rooms</td>\n",
       "      <td>Manhattan, NY</td>\n",
       "      <td>8:00PM</td>\n",
       "      <td>New York Philharmonic</td>\n",
       "    </tr>\n",
       "  </tbody>\n",
       "</table>\n",
       "<p>5 rows × 22 columns</p>\n",
       "</div>"
      ],
      "text/plain": [
       "                          workTitle        conductorName      ID  \\\n",
       "0  SYMPHONY NO. 5 IN C MINOR, OP.67  Hill, Ureli Corelli  52446*   \n",
       "1                            OBERON       Timm, Henry C.  8834*4   \n",
       "2   QUINTET, PIANO, D MINOR, OP. 74                  NaN   3642*   \n",
       "3                               NaN                  NaN      0*   \n",
       "4                            OBERON    Etienne, Denis G.  8834*3   \n",
       "\n",
       "                                            soloists             composerName  \\\n",
       "0                                                 []  Beethoven,  Ludwig  van   \n",
       "1  [{'soloistName': 'Otto, Antoinette', 'soloistR...  Weber,  Carl  Maria Von   \n",
       "2  [{'soloistName': 'Scharfenberg, William', 'sol...          Hummel,  Johann   \n",
       "3                                                 []                      NaN   \n",
       "4                                                 []  Weber,  Carl  Maria Von   \n",
       "\n",
       "                                            movement      interval  \\\n",
       "0                                                NaN           NaN   \n",
       "1  \"Ozean, du Ungeheuer\" (Ocean, thou mighty mons...           NaN   \n",
       "2                                                NaN           NaN   \n",
       "3                                                NaN  Intermission   \n",
       "4                                           Overture           NaN   \n",
       "\n",
       "  movement.em movement._ workTitle.em  ...            orchestra_x programID  \\\n",
       "0         NaN        NaN          NaN  ...  New York Philharmonic      3853   \n",
       "1         NaN        NaN          NaN  ...  New York Philharmonic      3853   \n",
       "2         NaN        NaN          NaN  ...  New York Philharmonic      3853   \n",
       "3         NaN        NaN          NaN  ...  New York Philharmonic      3853   \n",
       "4         NaN        NaN          NaN  ...  New York Philharmonic      3853   \n",
       "\n",
       "    season                                           concerts  \\\n",
       "0  1842-43  [{'Date': '1842-12-07T05:00:00Z', 'eventType':...   \n",
       "1  1842-43  [{'Date': '1842-12-07T05:00:00Z', 'eventType':...   \n",
       "2  1842-43  [{'Date': '1842-12-07T05:00:00Z', 'eventType':...   \n",
       "3  1842-43  [{'Date': '1842-12-07T05:00:00Z', 'eventType':...   \n",
       "4  1842-43  [{'Date': '1842-12-07T05:00:00Z', 'eventType':...   \n",
       "\n",
       "                   Date            eventType         Venue       Location  \\\n",
       "0  1842-12-07T05:00:00Z  Subscription Season  Apollo Rooms  Manhattan, NY   \n",
       "1  1842-12-07T05:00:00Z  Subscription Season  Apollo Rooms  Manhattan, NY   \n",
       "2  1842-12-07T05:00:00Z  Subscription Season  Apollo Rooms  Manhattan, NY   \n",
       "3  1842-12-07T05:00:00Z  Subscription Season  Apollo Rooms  Manhattan, NY   \n",
       "4  1842-12-07T05:00:00Z  Subscription Season  Apollo Rooms  Manhattan, NY   \n",
       "\n",
       "     Time            orchestra_y  \n",
       "0  8:00PM  New York Philharmonic  \n",
       "1  8:00PM  New York Philharmonic  \n",
       "2  8:00PM  New York Philharmonic  \n",
       "3  8:00PM  New York Philharmonic  \n",
       "4  8:00PM  New York Philharmonic  \n",
       "\n",
       "[5 rows x 22 columns]"
      ]
     },
     "execution_count": 50,
     "metadata": {},
     "output_type": "execute_result"
    }
   ],
   "source": [
    "#Join concerts and works\n",
    "merged = pd.merge(works_data, concerts_data, on = ['id', 'programID', 'season'])\n",
    "merged.head()"
   ]
  },
  {
   "cell_type": "code",
   "execution_count": 42,
   "id": "5071ac19",
   "metadata": {},
   "outputs": [
    {
     "data": {
      "text/plain": [
       "(82793, 16)"
      ]
     },
     "execution_count": 42,
     "metadata": {},
     "output_type": "execute_result"
    }
   ],
   "source": [
    "works_data.shape"
   ]
  },
  {
   "cell_type": "code",
   "execution_count": 43,
   "id": "f08eb176",
   "metadata": {},
   "outputs": [
    {
     "data": {
      "text/plain": [
       "(21607, 9)"
      ]
     },
     "execution_count": 43,
     "metadata": {},
     "output_type": "execute_result"
    }
   ],
   "source": [
    "concerts_data.shape"
   ]
  },
  {
   "cell_type": "code",
   "execution_count": 44,
   "id": "ca71fd38",
   "metadata": {},
   "outputs": [
    {
     "data": {
      "text/plain": [
       "(120286, 22)"
      ]
     },
     "execution_count": 44,
     "metadata": {},
     "output_type": "execute_result"
    }
   ],
   "source": [
    "merged.shape"
   ]
  },
  {
   "cell_type": "code",
   "execution_count": 45,
   "id": "f412479f",
   "metadata": {},
   "outputs": [
    {
     "data": {
      "text/plain": [
       "104400"
      ]
     },
     "execution_count": 45,
     "metadata": {},
     "output_type": "execute_result"
    }
   ],
   "source": [
    "82793 + 21607"
   ]
  },
  {
   "cell_type": "markdown",
   "id": "abeeda07",
   "metadata": {},
   "source": [
    "Let's flatten the 'soloists' data here by passing a list. Since soloists is nested in works, we can pass that as:"
   ]
  },
  {
   "cell_type": "code",
   "execution_count": 32,
   "id": "68e03c04",
   "metadata": {},
   "outputs": [
    {
     "data": {
      "text/html": [
       "<div>\n",
       "<style scoped>\n",
       "    .dataframe tbody tr th:only-of-type {\n",
       "        vertical-align: middle;\n",
       "    }\n",
       "\n",
       "    .dataframe tbody tr th {\n",
       "        vertical-align: top;\n",
       "    }\n",
       "\n",
       "    .dataframe thead th {\n",
       "        text-align: right;\n",
       "    }\n",
       "</style>\n",
       "<table border=\"1\" class=\"dataframe\">\n",
       "  <thead>\n",
       "    <tr style=\"text-align: right;\">\n",
       "      <th></th>\n",
       "      <th>soloistName</th>\n",
       "      <th>soloistRoles</th>\n",
       "      <th>soloistInstrument</th>\n",
       "      <th>id</th>\n",
       "      <th>orchestra</th>\n",
       "      <th>programID</th>\n",
       "      <th>season</th>\n",
       "      <th>concerts</th>\n",
       "    </tr>\n",
       "  </thead>\n",
       "  <tbody>\n",
       "    <tr>\n",
       "      <th>0</th>\n",
       "      <td>Otto, Antoinette</td>\n",
       "      <td>S</td>\n",
       "      <td>Soprano</td>\n",
       "      <td>38e072a7-8fc9-4f9a-8eac-3957905c0002</td>\n",
       "      <td>New York Philharmonic</td>\n",
       "      <td>3853</td>\n",
       "      <td>1842-43</td>\n",
       "      <td>[{'Date': '1842-12-07T05:00:00Z', 'eventType':...</td>\n",
       "    </tr>\n",
       "    <tr>\n",
       "      <th>1</th>\n",
       "      <td>Scharfenberg, William</td>\n",
       "      <td>A</td>\n",
       "      <td>Piano</td>\n",
       "      <td>38e072a7-8fc9-4f9a-8eac-3957905c0002</td>\n",
       "      <td>New York Philharmonic</td>\n",
       "      <td>3853</td>\n",
       "      <td>1842-43</td>\n",
       "      <td>[{'Date': '1842-12-07T05:00:00Z', 'eventType':...</td>\n",
       "    </tr>\n",
       "    <tr>\n",
       "      <th>2</th>\n",
       "      <td>Hill, Ureli Corelli</td>\n",
       "      <td>A</td>\n",
       "      <td>Violin</td>\n",
       "      <td>38e072a7-8fc9-4f9a-8eac-3957905c0002</td>\n",
       "      <td>New York Philharmonic</td>\n",
       "      <td>3853</td>\n",
       "      <td>1842-43</td>\n",
       "      <td>[{'Date': '1842-12-07T05:00:00Z', 'eventType':...</td>\n",
       "    </tr>\n",
       "  </tbody>\n",
       "</table>\n",
       "</div>"
      ],
      "text/plain": [
       "             soloistName soloistRoles soloistInstrument  \\\n",
       "0       Otto, Antoinette            S           Soprano   \n",
       "1  Scharfenberg, William            A             Piano   \n",
       "2    Hill, Ureli Corelli            A            Violin   \n",
       "\n",
       "                                     id              orchestra programID  \\\n",
       "0  38e072a7-8fc9-4f9a-8eac-3957905c0002  New York Philharmonic      3853   \n",
       "1  38e072a7-8fc9-4f9a-8eac-3957905c0002  New York Philharmonic      3853   \n",
       "2  38e072a7-8fc9-4f9a-8eac-3957905c0002  New York Philharmonic      3853   \n",
       "\n",
       "    season                                           concerts  \n",
       "0  1842-43  [{'Date': '1842-12-07T05:00:00Z', 'eventType':...  \n",
       "1  1842-43  [{'Date': '1842-12-07T05:00:00Z', 'eventType':...  \n",
       "2  1842-43  [{'Date': '1842-12-07T05:00:00Z', 'eventType':...  "
      ]
     },
     "execution_count": 32,
     "metadata": {},
     "output_type": "execute_result"
    }
   ],
   "source": [
    "soloist_data = pd.json_normalize(data=d['programs'], record_path=['works', 'soloists'], \n",
    "                            meta=['id', 'orchestra','programID', 'season', 'concerts'])\n",
    "soloist_data.head(3)"
   ]
  },
  {
   "cell_type": "code",
   "execution_count": 33,
   "id": "25942e84",
   "metadata": {},
   "outputs": [
    {
     "data": {
      "text/html": [
       "<div>\n",
       "<style scoped>\n",
       "    .dataframe tbody tr th:only-of-type {\n",
       "        vertical-align: middle;\n",
       "    }\n",
       "\n",
       "    .dataframe tbody tr th {\n",
       "        vertical-align: top;\n",
       "    }\n",
       "\n",
       "    .dataframe thead th {\n",
       "        text-align: right;\n",
       "    }\n",
       "</style>\n",
       "<table border=\"1\" class=\"dataframe\">\n",
       "  <thead>\n",
       "    <tr style=\"text-align: right;\">\n",
       "      <th></th>\n",
       "      <th>season</th>\n",
       "      <th>orchestra</th>\n",
       "      <th>concerts</th>\n",
       "      <th>programID</th>\n",
       "      <th>works</th>\n",
       "      <th>id</th>\n",
       "    </tr>\n",
       "  </thead>\n",
       "  <tbody>\n",
       "    <tr>\n",
       "      <th>0</th>\n",
       "      <td>1842-43</td>\n",
       "      <td>New York Philharmonic</td>\n",
       "      <td>[{'Date': '1842-12-07T05:00:00Z', 'eventType':...</td>\n",
       "      <td>3853</td>\n",
       "      <td>[{'workTitle': 'SYMPHONY NO. 5 IN C MINOR, OP....</td>\n",
       "      <td>38e072a7-8fc9-4f9a-8eac-3957905c0002</td>\n",
       "    </tr>\n",
       "    <tr>\n",
       "      <th>1</th>\n",
       "      <td>1842-43</td>\n",
       "      <td>New York Philharmonic</td>\n",
       "      <td>[{'Date': '1843-02-18T05:00:00Z', 'eventType':...</td>\n",
       "      <td>5178</td>\n",
       "      <td>[{'workTitle': 'SYMPHONY NO. 3 IN E FLAT MAJOR...</td>\n",
       "      <td>c7b2b95c-5e0b-431c-a340-5b37fc860b34</td>\n",
       "    </tr>\n",
       "  </tbody>\n",
       "</table>\n",
       "</div>"
      ],
      "text/plain": [
       "    season              orchestra  \\\n",
       "0  1842-43  New York Philharmonic   \n",
       "1  1842-43  New York Philharmonic   \n",
       "\n",
       "                                            concerts programID  \\\n",
       "0  [{'Date': '1842-12-07T05:00:00Z', 'eventType':...      3853   \n",
       "1  [{'Date': '1843-02-18T05:00:00Z', 'eventType':...      5178   \n",
       "\n",
       "                                               works  \\\n",
       "0  [{'workTitle': 'SYMPHONY NO. 5 IN C MINOR, OP....   \n",
       "1  [{'workTitle': 'SYMPHONY NO. 3 IN E FLAT MAJOR...   \n",
       "\n",
       "                                     id  \n",
       "0  38e072a7-8fc9-4f9a-8eac-3957905c0002  \n",
       "1  c7b2b95c-5e0b-431c-a340-5b37fc860b34  "
      ]
     },
     "execution_count": 33,
     "metadata": {},
     "output_type": "execute_result"
    }
   ],
   "source": [
    "nycphil.head(2)"
   ]
  },
  {
   "cell_type": "code",
   "execution_count": 35,
   "id": "9dca6666",
   "metadata": {},
   "outputs": [
    {
     "ename": "KeyError",
     "evalue": "\"Key 'works' not found. If specifying a record_path, all elements of data should have the path.\"",
     "output_type": "error",
     "traceback": [
      "\u001b[0;31m---------------------------------------------------------------------------\u001b[0m",
      "\u001b[0;31mKeyError\u001b[0m                                  Traceback (most recent call last)",
      "\u001b[0;32m/opt/anaconda3/lib/python3.9/site-packages/pandas/io/json/_normalize.py\u001b[0m in \u001b[0;36m_pull_field\u001b[0;34m(js, spec, extract_record)\u001b[0m\n\u001b[1;32m    395\u001b[0m             \u001b[0;32melse\u001b[0m\u001b[0;34m:\u001b[0m\u001b[0;34m\u001b[0m\u001b[0;34m\u001b[0m\u001b[0m\n\u001b[0;32m--> 396\u001b[0;31m                 \u001b[0mresult\u001b[0m \u001b[0;34m=\u001b[0m \u001b[0mresult\u001b[0m\u001b[0;34m[\u001b[0m\u001b[0mspec\u001b[0m\u001b[0;34m]\u001b[0m\u001b[0;34m\u001b[0m\u001b[0;34m\u001b[0m\u001b[0m\n\u001b[0m\u001b[1;32m    397\u001b[0m         \u001b[0;32mexcept\u001b[0m \u001b[0mKeyError\u001b[0m \u001b[0;32mas\u001b[0m \u001b[0me\u001b[0m\u001b[0;34m:\u001b[0m\u001b[0;34m\u001b[0m\u001b[0;34m\u001b[0m\u001b[0m\n",
      "\u001b[0;31mKeyError\u001b[0m: 'works'",
      "\nThe above exception was the direct cause of the following exception:\n",
      "\u001b[0;31mKeyError\u001b[0m                                  Traceback (most recent call last)",
      "\u001b[0;32m/var/folders/b4/r2b0spdj3mz03127m_zx742r0000gn/T/ipykernel_70432/922650432.py\u001b[0m in \u001b[0;36m<cell line: 1>\u001b[0;34m()\u001b[0m\n\u001b[0;32m----> 1\u001b[0;31m unnest_data = pd.json_normalize(data=d['programs'], record_path=['concerts', 'works'], \n\u001b[0m\u001b[1;32m      2\u001b[0m                             meta=['season', 'orchestra', 'programID', 'id'])\n\u001b[1;32m      3\u001b[0m \u001b[0munnest_data\u001b[0m\u001b[0;34m.\u001b[0m\u001b[0mhead\u001b[0m\u001b[0;34m(\u001b[0m\u001b[0;36m3\u001b[0m\u001b[0;34m)\u001b[0m\u001b[0;34m\u001b[0m\u001b[0;34m\u001b[0m\u001b[0m\n",
      "\u001b[0;32m/opt/anaconda3/lib/python3.9/site-packages/pandas/io/json/_normalize.py\u001b[0m in \u001b[0;36m_json_normalize\u001b[0;34m(data, record_path, meta, meta_prefix, record_prefix, errors, sep, max_level)\u001b[0m\n\u001b[1;32m    513\u001b[0m                 \u001b[0mrecords\u001b[0m\u001b[0;34m.\u001b[0m\u001b[0mextend\u001b[0m\u001b[0;34m(\u001b[0m\u001b[0mrecs\u001b[0m\u001b[0;34m)\u001b[0m\u001b[0;34m\u001b[0m\u001b[0;34m\u001b[0m\u001b[0m\n\u001b[1;32m    514\u001b[0m \u001b[0;34m\u001b[0m\u001b[0m\n\u001b[0;32m--> 515\u001b[0;31m     \u001b[0m_recursive_extract\u001b[0m\u001b[0;34m(\u001b[0m\u001b[0mdata\u001b[0m\u001b[0;34m,\u001b[0m \u001b[0mrecord_path\u001b[0m\u001b[0;34m,\u001b[0m \u001b[0;34m{\u001b[0m\u001b[0;34m}\u001b[0m\u001b[0;34m,\u001b[0m \u001b[0mlevel\u001b[0m\u001b[0;34m=\u001b[0m\u001b[0;36m0\u001b[0m\u001b[0;34m)\u001b[0m\u001b[0;34m\u001b[0m\u001b[0;34m\u001b[0m\u001b[0m\n\u001b[0m\u001b[1;32m    516\u001b[0m \u001b[0;34m\u001b[0m\u001b[0m\n\u001b[1;32m    517\u001b[0m     \u001b[0mresult\u001b[0m \u001b[0;34m=\u001b[0m \u001b[0mDataFrame\u001b[0m\u001b[0;34m(\u001b[0m\u001b[0mrecords\u001b[0m\u001b[0;34m)\u001b[0m\u001b[0;34m\u001b[0m\u001b[0;34m\u001b[0m\u001b[0m\n",
      "\u001b[0;32m/opt/anaconda3/lib/python3.9/site-packages/pandas/io/json/_normalize.py\u001b[0m in \u001b[0;36m_recursive_extract\u001b[0;34m(data, path, seen_meta, level)\u001b[0m\n\u001b[1;32m    492\u001b[0m                         \u001b[0mseen_meta\u001b[0m\u001b[0;34m[\u001b[0m\u001b[0mkey\u001b[0m\u001b[0;34m]\u001b[0m \u001b[0;34m=\u001b[0m \u001b[0m_pull_field\u001b[0m\u001b[0;34m(\u001b[0m\u001b[0mobj\u001b[0m\u001b[0;34m,\u001b[0m \u001b[0mval\u001b[0m\u001b[0;34m[\u001b[0m\u001b[0;34m-\u001b[0m\u001b[0;36m1\u001b[0m\u001b[0;34m]\u001b[0m\u001b[0;34m)\u001b[0m\u001b[0;34m\u001b[0m\u001b[0;34m\u001b[0m\u001b[0m\n\u001b[1;32m    493\u001b[0m \u001b[0;34m\u001b[0m\u001b[0m\n\u001b[0;32m--> 494\u001b[0;31m                 \u001b[0m_recursive_extract\u001b[0m\u001b[0;34m(\u001b[0m\u001b[0mobj\u001b[0m\u001b[0;34m[\u001b[0m\u001b[0mpath\u001b[0m\u001b[0;34m[\u001b[0m\u001b[0;36m0\u001b[0m\u001b[0;34m]\u001b[0m\u001b[0;34m]\u001b[0m\u001b[0;34m,\u001b[0m \u001b[0mpath\u001b[0m\u001b[0;34m[\u001b[0m\u001b[0;36m1\u001b[0m\u001b[0;34m:\u001b[0m\u001b[0;34m]\u001b[0m\u001b[0;34m,\u001b[0m \u001b[0mseen_meta\u001b[0m\u001b[0;34m,\u001b[0m \u001b[0mlevel\u001b[0m\u001b[0;34m=\u001b[0m\u001b[0mlevel\u001b[0m \u001b[0;34m+\u001b[0m \u001b[0;36m1\u001b[0m\u001b[0;34m)\u001b[0m\u001b[0;34m\u001b[0m\u001b[0;34m\u001b[0m\u001b[0m\n\u001b[0m\u001b[1;32m    495\u001b[0m         \u001b[0;32melse\u001b[0m\u001b[0;34m:\u001b[0m\u001b[0;34m\u001b[0m\u001b[0;34m\u001b[0m\u001b[0m\n\u001b[1;32m    496\u001b[0m             \u001b[0;32mfor\u001b[0m \u001b[0mobj\u001b[0m \u001b[0;32min\u001b[0m \u001b[0mdata\u001b[0m\u001b[0;34m:\u001b[0m\u001b[0;34m\u001b[0m\u001b[0;34m\u001b[0m\u001b[0m\n",
      "\u001b[0;32m/opt/anaconda3/lib/python3.9/site-packages/pandas/io/json/_normalize.py\u001b[0m in \u001b[0;36m_recursive_extract\u001b[0;34m(data, path, seen_meta, level)\u001b[0m\n\u001b[1;32m    495\u001b[0m         \u001b[0;32melse\u001b[0m\u001b[0;34m:\u001b[0m\u001b[0;34m\u001b[0m\u001b[0;34m\u001b[0m\u001b[0m\n\u001b[1;32m    496\u001b[0m             \u001b[0;32mfor\u001b[0m \u001b[0mobj\u001b[0m \u001b[0;32min\u001b[0m \u001b[0mdata\u001b[0m\u001b[0;34m:\u001b[0m\u001b[0;34m\u001b[0m\u001b[0;34m\u001b[0m\u001b[0m\n\u001b[0;32m--> 497\u001b[0;31m                 \u001b[0mrecs\u001b[0m \u001b[0;34m=\u001b[0m \u001b[0m_pull_records\u001b[0m\u001b[0;34m(\u001b[0m\u001b[0mobj\u001b[0m\u001b[0;34m,\u001b[0m \u001b[0mpath\u001b[0m\u001b[0;34m[\u001b[0m\u001b[0;36m0\u001b[0m\u001b[0;34m]\u001b[0m\u001b[0;34m)\u001b[0m\u001b[0;34m\u001b[0m\u001b[0;34m\u001b[0m\u001b[0m\n\u001b[0m\u001b[1;32m    498\u001b[0m                 recs = [\n\u001b[1;32m    499\u001b[0m                     \u001b[0mnested_to_record\u001b[0m\u001b[0;34m(\u001b[0m\u001b[0mr\u001b[0m\u001b[0;34m,\u001b[0m \u001b[0msep\u001b[0m\u001b[0;34m=\u001b[0m\u001b[0msep\u001b[0m\u001b[0;34m,\u001b[0m \u001b[0mmax_level\u001b[0m\u001b[0;34m=\u001b[0m\u001b[0mmax_level\u001b[0m\u001b[0;34m)\u001b[0m\u001b[0;34m\u001b[0m\u001b[0;34m\u001b[0m\u001b[0m\n",
      "\u001b[0;32m/opt/anaconda3/lib/python3.9/site-packages/pandas/io/json/_normalize.py\u001b[0m in \u001b[0;36m_pull_records\u001b[0;34m(js, spec)\u001b[0m\n\u001b[1;32m    417\u001b[0m         \u001b[0;32mif\u001b[0m \u001b[0mhas\u001b[0m \u001b[0mnon\u001b[0m \u001b[0miterable\u001b[0m \u001b[0mvalue\u001b[0m\u001b[0;34m.\u001b[0m\u001b[0;34m\u001b[0m\u001b[0;34m\u001b[0m\u001b[0m\n\u001b[1;32m    418\u001b[0m         \"\"\"\n\u001b[0;32m--> 419\u001b[0;31m         \u001b[0mresult\u001b[0m \u001b[0;34m=\u001b[0m \u001b[0m_pull_field\u001b[0m\u001b[0;34m(\u001b[0m\u001b[0mjs\u001b[0m\u001b[0;34m,\u001b[0m \u001b[0mspec\u001b[0m\u001b[0;34m,\u001b[0m \u001b[0mextract_record\u001b[0m\u001b[0;34m=\u001b[0m\u001b[0;32mTrue\u001b[0m\u001b[0;34m)\u001b[0m\u001b[0;34m\u001b[0m\u001b[0;34m\u001b[0m\u001b[0m\n\u001b[0m\u001b[1;32m    420\u001b[0m \u001b[0;34m\u001b[0m\u001b[0m\n\u001b[1;32m    421\u001b[0m         \u001b[0;31m# GH 31507 GH 30145, GH 26284 if result is not list, raise TypeError if not\u001b[0m\u001b[0;34m\u001b[0m\u001b[0;34m\u001b[0m\u001b[0m\n",
      "\u001b[0;32m/opt/anaconda3/lib/python3.9/site-packages/pandas/io/json/_normalize.py\u001b[0m in \u001b[0;36m_pull_field\u001b[0;34m(js, spec, extract_record)\u001b[0m\n\u001b[1;32m    397\u001b[0m         \u001b[0;32mexcept\u001b[0m \u001b[0mKeyError\u001b[0m \u001b[0;32mas\u001b[0m \u001b[0me\u001b[0m\u001b[0;34m:\u001b[0m\u001b[0;34m\u001b[0m\u001b[0;34m\u001b[0m\u001b[0m\n\u001b[1;32m    398\u001b[0m             \u001b[0;32mif\u001b[0m \u001b[0mextract_record\u001b[0m\u001b[0;34m:\u001b[0m\u001b[0;34m\u001b[0m\u001b[0;34m\u001b[0m\u001b[0m\n\u001b[0;32m--> 399\u001b[0;31m                 raise KeyError(\n\u001b[0m\u001b[1;32m    400\u001b[0m                     \u001b[0;34mf\"Key {e} not found. If specifying a record_path, all elements of \"\u001b[0m\u001b[0;34m\u001b[0m\u001b[0;34m\u001b[0m\u001b[0m\n\u001b[1;32m    401\u001b[0m                     \u001b[0;34mf\"data should have the path.\"\u001b[0m\u001b[0;34m\u001b[0m\u001b[0;34m\u001b[0m\u001b[0m\n",
      "\u001b[0;31mKeyError\u001b[0m: \"Key 'works' not found. If specifying a record_path, all elements of data should have the path.\""
     ]
    }
   ],
   "source": [
    "unnest_data = pd.json_normalize(data=d['programs'], record_path=['concerts', 'works'], \n",
    "                            meta=['season', 'orchestra', 'programID', 'id'])\n",
    "unnest_data.head(3)"
   ]
  }
 ],
 "metadata": {
  "kernelspec": {
   "display_name": "Python 3 (ipykernel)",
   "language": "python",
   "name": "python3"
  },
  "language_info": {
   "codemirror_mode": {
    "name": "ipython",
    "version": 3
   },
   "file_extension": ".py",
   "mimetype": "text/x-python",
   "name": "python",
   "nbconvert_exporter": "python",
   "pygments_lexer": "ipython3",
   "version": "3.9.7"
  }
 },
 "nbformat": 4,
 "nbformat_minor": 5
}
