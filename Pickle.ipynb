{
 "cells": [
  {
   "cell_type": "markdown",
   "id": "7f76edf7",
   "metadata": {},
   "source": [
    "https://www.geeksforgeeks.org/how-to-read-dictionary-from-file-in-python/"
   ]
  },
  {
   "cell_type": "code",
   "execution_count": 5,
   "id": "2adf7cb0",
   "metadata": {},
   "outputs": [],
   "source": [
    "# importing the module\n",
    "import pickle\n",
    "  \n",
    "# opening file in write mode (binary)\n",
    "file = open(\"datasets/dictionary.txt\", \"wb\")\n",
    "  \n",
    "my_dict = {\"Name\": \"John\",\n",
    "           \"Age\": 21,\n",
    "           \"Id\": 28}\n",
    "\n",
    "# serializing dictionary \n",
    "pickle.dump(my_dict, file)\n",
    "  \n",
    "# closing the file\n",
    "file.close()"
   ]
  },
  {
   "cell_type": "code",
   "execution_count": 6,
   "id": "c9e61982",
   "metadata": {},
   "outputs": [
    {
     "name": "stdout",
     "output_type": "stream",
     "text": [
      "Data type before reconstruction :  <class 'bytes'>\n"
     ]
    }
   ],
   "source": [
    "# reading the data from the file\n",
    "with open('datasets/dictionary.txt', 'rb') as handle:\n",
    "    data = handle.read()\n",
    "  \n",
    "print(\"Data type before reconstruction : \", type(data))"
   ]
  },
  {
   "cell_type": "code",
   "execution_count": 7,
   "id": "793c501a",
   "metadata": {},
   "outputs": [
    {
     "name": "stdout",
     "output_type": "stream",
     "text": [
      "Data type after reconstruction :  <class 'dict'>\n",
      "{'Name': 'John', 'Age': 21, 'Id': 28}\n"
     ]
    }
   ],
   "source": [
    "# reconstructing the data as dictionary\n",
    "d = pickle.loads(data)\n",
    "  \n",
    "print(\"Data type after reconstruction : \", type(d))\n",
    "print(d)"
   ]
  }
 ],
 "metadata": {
  "kernelspec": {
   "display_name": "Python 3 (ipykernel)",
   "language": "python",
   "name": "python3"
  },
  "language_info": {
   "codemirror_mode": {
    "name": "ipython",
    "version": 3
   },
   "file_extension": ".py",
   "mimetype": "text/x-python",
   "name": "python",
   "nbconvert_exporter": "python",
   "pygments_lexer": "ipython3",
   "version": "3.9.7"
  }
 },
 "nbformat": 4,
 "nbformat_minor": 5
}
