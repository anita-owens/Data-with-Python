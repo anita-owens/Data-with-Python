{
 "cells": [
  {
   "cell_type": "markdown",
   "id": "192e883d",
   "metadata": {},
   "source": [
    "# Import Packages"
   ]
  },
  {
   "cell_type": "code",
   "execution_count": 31,
   "id": "649aef5d",
   "metadata": {},
   "outputs": [],
   "source": [
    "#Import pandas and numpy\n",
    "import pandas as pd\n",
    "import numpy as np\n",
    "from numpy import random\n",
    "\n",
    "# From matplotlib, import pyplot under the alias plt\n",
    "from matplotlib import pyplot as plt\n",
    "\n",
    "#Import Seaborn\n",
    "import seaborn as sns\n",
    "\n",
    "import glob\n",
    "import os"
   ]
  },
  {
   "cell_type": "code",
   "execution_count": 32,
   "id": "a78cb412",
   "metadata": {},
   "outputs": [],
   "source": [
    "path = '/Users/anitaowens/Documents/Github/Data-with-Python/datasets'"
   ]
  },
  {
   "cell_type": "code",
   "execution_count": 8,
   "id": "8d0a91eb",
   "metadata": {},
   "outputs": [
    {
     "name": "stdout",
     "output_type": "stream",
     "text": [
      "Data Manipulation with pandas.ipynb\n",
      "Converting data objects to pandas DataFrame.ipynb\n",
      "Load csv file to pandas dataframe.ipynb\n",
      "Pandas cheat sheet.ipynb\n",
      "Counting words.ipynb\n",
      "Runtime - Timing your code.ipynb\n",
      "Python the hard way - list comprehension.ipynb\n",
      "Dates and Times - now() function.ipynb\n",
      "Reading CSV files in current working directory.ipynb\n",
      "Writing Efficient Code with pandas.ipynb\n",
      "Plydata library - Tidyverse in Python.ipynb\n",
      "Working with Dates and Times in Python.ipynb\n",
      "datasets\n",
      "Lists.ipynb\n",
      "Plotly.ipynb\n",
      "Loops.ipynb\n",
      "Data Visualization in Python.ipynb\n",
      "Numpy Arrays.ipynb\n",
      "Unpacking data objects.ipynb\n",
      "Dictionaries.ipynb\n",
      "If statements.ipynb\n",
      "hello-world.py\n",
      "Booleans.ipynb\n",
      "hello-world.ipynb\n",
      "Built-in Functions.ipynb\n",
      "Import Online Datasets.ipynb\n",
      "Holidays in Python.ipynb\n",
      "Read txt file with reader.ipynb\n",
      "Data Analysis with pandas.ipynb\n",
      "Reading email addresses from txt file.ipynb\n"
     ]
    }
   ],
   "source": [
    "for name in glob.glob('*'):\n",
    "    print(name)"
   ]
  },
  {
   "cell_type": "code",
   "execution_count": 23,
   "id": "3ccef2c4",
   "metadata": {},
   "outputs": [
    {
     "name": "stdout",
     "output_type": "stream",
     "text": [
      "hello-world.py\n"
     ]
    }
   ],
   "source": [
    "for name in glob.glob('*.py'):\n",
    "    print(name)"
   ]
  },
  {
   "cell_type": "code",
   "execution_count": 40,
   "id": "b74882db",
   "metadata": {},
   "outputs": [
    {
     "name": "stdout",
     "output_type": "stream",
     "text": [
      "datasets/laptops.csv\n",
      "datasets/florida_hurricane_dates.pkl\n",
      "datasets/tips.csv\n",
      "datasets/marketing.csv\n",
      "datasets/NYC_Flights_2013\n",
      "datasets/avocado.csv\n",
      "datasets/romeo.txt\n"
     ]
    }
   ],
   "source": [
    "for name in glob.glob('datasets/*'):\n",
    "    print(name)"
   ]
  },
  {
   "cell_type": "code",
   "execution_count": 42,
   "id": "e60e1f99",
   "metadata": {},
   "outputs": [
    {
     "name": "stdout",
     "output_type": "stream",
     "text": [
      "datasets/NYC_Flights_2013/airlines.csv\n",
      "datasets/NYC_Flights_2013/weather.csv\n",
      "datasets/NYC_Flights_2013/airports.csv\n",
      "datasets/NYC_Flights_2013/planes.csv\n",
      "datasets/NYC_Flights_2013/flights.zip\n"
     ]
    }
   ],
   "source": [
    "for name in glob.glob('datasets/NYC_Flights_2013/*'):\n",
    "    print(name)"
   ]
  },
  {
   "cell_type": "code",
   "execution_count": 43,
   "id": "9500404a",
   "metadata": {},
   "outputs": [
    {
     "name": "stdout",
     "output_type": "stream",
     "text": [
      "[(16, 2), (26130, 15), (1458, 8), (3322, 9)]\n"
     ]
    }
   ],
   "source": [
    "# Get a list of all the csv files\n",
    "csv_files = glob.glob('datasets/NYC_Flights_2013/*.csv')\n",
    "\n",
    "# List comprehension that loads of all the files\n",
    "dfs = [pd.read_csv(file) for file in csv_files]\n",
    "\n",
    "# List comprehension that looks at the shape of all DataFrames\n",
    "print([file.shape for file in dfs])"
   ]
  },
  {
   "cell_type": "code",
   "execution_count": 44,
   "id": "bc7cf46f",
   "metadata": {},
   "outputs": [
    {
     "name": "stdout",
     "output_type": "stream",
     "text": [
      "2    3288\n",
      "1      27\n",
      "4       4\n",
      "3       3\n",
      "Name: engines, dtype: int64\n"
     ]
    }
   ],
   "source": [
    "# Get the planes DataFrame\n",
    "planes = dfs[3]\n",
    "\n",
    "# Count the frequency of engines in our data\n",
    "print(planes['engines'].value_counts())"
   ]
  },
  {
   "cell_type": "code",
   "execution_count": 45,
   "id": "a8516fcc",
   "metadata": {},
   "outputs": [
    {
     "name": "stdout",
     "output_type": "stream",
     "text": [
      "     tailnum    year                     type            manufacturer  \\\n",
      "603   N281AT     NaN  Fixed wing multi engine        AIRBUS INDUSTRIE   \n",
      "1037  N381AA  1956.0  Fixed wing multi engine                 DOUGLAS   \n",
      "2109  N670US  1990.0  Fixed wing multi engine                  BOEING   \n",
      "2706  N840MQ  1974.0  Fixed wing multi engine            CANADAIR LTD   \n",
      "2764  N854NW  2004.0  Fixed wing multi engine                  AIRBUS   \n",
      "2771  N856NW  2004.0  Fixed wing multi engine                  AIRBUS   \n",
      "2931  N905FJ  1986.0  Fixed wing multi engine  AVIONS MARCEL DASSAULT   \n",
      "\n",
      "                   model  engines  seats  speed         engine  \n",
      "603             A340-313        4    375    NaN      Turbo-jet  \n",
      "1037              DC-7BF        4    102  232.0  Reciprocating  \n",
      "2109             747-451        4    450    NaN      Turbo-jet  \n",
      "2706               CF-5D        4      2    NaN      Turbo-jet  \n",
      "2764            A330-223        3    379    NaN      Turbo-fan  \n",
      "2771            A330-223        3    379    NaN      Turbo-fan  \n",
      "2931  MYSTERE FALCON 900        3     12    NaN      Turbo-fan  \n"
     ]
    }
   ],
   "source": [
    "# Look at all planes with >= 3 engines\n",
    "print(planes[planes['engines'] >= 3])"
   ]
  },
  {
   "cell_type": "code",
   "execution_count": 46,
   "id": "f27c18cd",
   "metadata": {},
   "outputs": [
    {
     "name": "stdout",
     "output_type": "stream",
     "text": [
      "     tailnum    year                     type            manufacturer  \\\n",
      "2706  N840MQ  1974.0  Fixed wing multi engine            CANADAIR LTD   \n",
      "2931  N905FJ  1986.0  Fixed wing multi engine  AVIONS MARCEL DASSAULT   \n",
      "\n",
      "                   model  engines  seats  speed     engine  \n",
      "2706               CF-5D        4      2    NaN  Turbo-jet  \n",
      "2931  MYSTERE FALCON 900        3     12    NaN  Turbo-fan  \n"
     ]
    }
   ],
   "source": [
    "# Look at all planes with >= 3 engines and <= 100 seats\n",
    "print(planes.loc[(planes['engines'] >= 3) & (planes['seats'] <= 100)])"
   ]
  },
  {
   "cell_type": "code",
   "execution_count": 47,
   "id": "46b6e9a8",
   "metadata": {},
   "outputs": [
    {
     "data": {
      "image/png": "[encoded data removed]",
      "text/plain": [
       "<Figure size 432x288 with 1 Axes>"
      ]
     },
     "metadata": {
      "needs_background": "light"
     },
     "output_type": "display_data"
    }
   ],
   "source": [
    "import matplotlib.pyplot as plt\n",
    "\n",
    "# Scatter plot of engines and seats\n",
    "planes.plot(x=\"engines\", y=\"seats\", kind=\"scatter\")\n",
    "plt.show()"
   ]
  },
  {
   "cell_type": "code",
   "execution_count": 48,
   "id": "5bd52641",
   "metadata": {},
   "outputs": [
    {
     "data": {
      "image/png": "[encoded data removed]",
      "text/plain": [
       "<Figure size 432x288 with 1 Axes>"
      ]
     },
     "metadata": {
      "needs_background": "light"
     },
     "output_type": "display_data"
    }
   ],
   "source": [
    "# Histogram of seats\n",
    "planes['seats'].plot(kind='hist')\n",
    "plt.show()"
   ]
  },
  {
   "cell_type": "code",
   "execution_count": 49,
   "id": "7c64198c",
   "metadata": {},
   "outputs": [
    {
     "data": {
      "image/png": "[encoded data removed]",
      "text/plain": [
       "<Figure size 432x288 with 1 Axes>"
      ]
     },
     "metadata": {
      "needs_background": "light"
     },
     "output_type": "display_data"
    }
   ],
   "source": [
    "# Boxplot of seats by engine\n",
    "planes.boxplot(column=\"seats\", by='engine')\n",
    "plt.xticks(rotation=45)\n",
    "plt.show()"
   ]
  }
 ],
 "metadata": {
  "kernelspec": {
   "display_name": "Python 3 (ipykernel)",
   "language": "python",
   "name": "python3"
  },
  "language_info": {
   "codemirror_mode": {
    "name": "ipython",
    "version": 3
   },
   "file_extension": ".py",
   "mimetype": "text/x-python",
   "name": "python",
   "nbconvert_exporter": "python",
   "pygments_lexer": "ipython3",
   "version": "3.9.7"
  }
 },
 "nbformat": 4,
 "nbformat_minor": 5
}
