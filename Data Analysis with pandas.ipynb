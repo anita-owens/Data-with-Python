{
 "cells": [
  {
   "cell_type": "markdown",
   "id": "fa283b66",
   "metadata": {},
   "source": [
    "# Import Packages"
   ]
  },
  {
   "cell_type": "code",
   "execution_count": 7,
   "id": "17bfe357",
   "metadata": {},
   "outputs": [],
   "source": [
    "#Import pandas and numpy\n",
    "import pandas as pd\n",
    "import numpy as np\n",
    "from numpy import random\n",
    "\n",
    "# From matplotlib, import pyplot under the alias plt\n",
    "from matplotlib import pyplot as plt\n",
    "\n",
    "#Import Seaborn\n",
    "import seaborn as sns\n",
    "\n",
    "import glob\n",
    "import os\n",
    "import zipfile"
   ]
  },
  {
   "cell_type": "markdown",
   "id": "adf30a92",
   "metadata": {},
   "source": [
    "# Import data"
   ]
  },
  {
   "cell_type": "code",
   "execution_count": 8,
   "id": "cb99b0db",
   "metadata": {},
   "outputs": [],
   "source": [
    "path = '/Users/anitaowens/Documents/Github/Data-with-Python/datasets'"
   ]
  },
  {
   "cell_type": "code",
   "execution_count": null,
   "id": "5689376d",
   "metadata": {},
   "outputs": [],
   "source": [
    "for name in glob.glob('*'):\n",
    "    print(name)"
   ]
  },
  {
   "cell_type": "code",
   "execution_count": 9,
   "id": "586f388a",
   "metadata": {},
   "outputs": [
    {
     "name": "stdout",
     "output_type": "stream",
     "text": [
      "ETL.py\n",
      "hello-world.py\n"
     ]
    }
   ],
   "source": [
    "#Look for Py files\n",
    "for name in glob.glob('*.py'):\n",
    "    print(name)"
   ]
  },
  {
   "cell_type": "code",
   "execution_count": 4,
   "id": "ea5f36fe",
   "metadata": {},
   "outputs": [
    {
     "name": "stdout",
     "output_type": "stream",
     "text": [
      "datasets/laptops.csv\n",
      "datasets/florida_hurricane_dates.pkl\n",
      "datasets/onebike_datetimes.csv\n",
      "datasets/dictionary.txt\n",
      "datasets/tips.csv\n",
      "datasets/marketing.csv\n",
      "datasets/NYC_Flights_2013\n",
      "datasets/avocado.csv\n",
      "datasets/raw_nyc_phil.json\n",
      "datasets/romeo.txt\n"
     ]
    }
   ],
   "source": [
    "#All files in a subdirectory\n",
    "for name in glob.glob('datasets/*'):\n",
    "    print(name)"
   ]
  },
  {
   "cell_type": "code",
   "execution_count": 10,
   "id": "c056ec78",
   "metadata": {},
   "outputs": [
    {
     "name": "stdout",
     "output_type": "stream",
     "text": [
      "datasets/NYC_Flights_2013/airlines.csv\n",
      "datasets/NYC_Flights_2013/flights_unzip\n",
      "datasets/NYC_Flights_2013/weather.csv\n",
      "datasets/NYC_Flights_2013/airports.csv\n",
      "datasets/NYC_Flights_2013/planes.csv\n",
      "datasets/NYC_Flights_2013/flights.zip\n"
     ]
    }
   ],
   "source": [
    "for name in glob.glob('datasets/NYC_Flights_2013/*'):\n",
    "    print(name)"
   ]
  },
  {
   "cell_type": "code",
   "execution_count": 11,
   "id": "ae242442",
   "metadata": {},
   "outputs": [
    {
     "name": "stdout",
     "output_type": "stream",
     "text": [
      "[(16, 2), (26130, 15), (1458, 8), (3322, 9)]\n"
     ]
    }
   ],
   "source": [
    "# Get a list of all the csv files\n",
    "csv_files = glob.glob('datasets/NYC_Flights_2013/*.csv')\n",
    "\n",
    "# List comprehension that loads of all the files\n",
    "dfs = [pd.read_csv(file) for file in csv_files]\n",
    "\n",
    "# List comprehension that looks at the shape of all DataFrames\n",
    "print([file.shape for file in dfs])"
   ]
  },
  {
   "cell_type": "code",
   "execution_count": 59,
   "id": "50d43a34",
   "metadata": {},
   "outputs": [],
   "source": [
    "#Extract zipped file\n",
    "with zipfile.ZipFile('datasets/NYC_Flights_2013/flights.zip', 'r') as zip_ref:\n",
    "    zip_ref.extractall('datasets/NYC_Flights_2013/flights_unzip')"
   ]
  },
  {
   "cell_type": "code",
   "execution_count": 6,
   "id": "25e6fdcb",
   "metadata": {},
   "outputs": [
    {
     "name": "stdout",
     "output_type": "stream",
     "text": [
      "   year  month  day  dep_time  sched_dep_time  dep_delay  arr_time  \\\n",
      "0  2013      1    1     517.0             515        2.0     830.0   \n",
      "1  2013      1    1     533.0             529        4.0     850.0   \n",
      "2  2013      1    1     542.0             540        2.0     923.0   \n",
      "3  2013      1    1     544.0             545       -1.0    1004.0   \n",
      "4  2013      1    1     554.0             600       -6.0     812.0   \n",
      "\n",
      "   sched_arr_time  arr_delay carrier  flight tailnum origin dest  air_time  \\\n",
      "0             819       11.0      UA    1545  N14228    EWR  IAH     227.0   \n",
      "1             830       20.0      UA    1714  N24211    LGA  IAH     227.0   \n",
      "2             850       33.0      AA    1141  N619AA    JFK  MIA     160.0   \n",
      "3            1022      -18.0      B6     725  N804JB    JFK  BQN     183.0   \n",
      "4             837      -25.0      DL     461  N668DN    LGA  ATL     116.0   \n",
      "\n",
      "   distance  hour  minute            time_hour  \n",
      "0      1400     5      15  2013-01-01 05:00:00  \n",
      "1      1416     5      29  2013-01-01 05:00:00  \n",
      "2      1089     5      40  2013-01-01 05:00:00  \n",
      "3      1576     5      45  2013-01-01 05:00:00  \n",
      "4       762     6       0  2013-01-01 06:00:00  \n"
     ]
    }
   ],
   "source": [
    "flights = pd.read_csv('datasets/NYC_Flights_2013/flights_unzip/flights.csv')\n",
    "print(flights.head())"
   ]
  },
  {
   "cell_type": "markdown",
   "id": "66cea8b1",
   "metadata": {},
   "source": [
    "# Inspect data"
   ]
  },
  {
   "cell_type": "code",
   "execution_count": 61,
   "id": "8f6392f0",
   "metadata": {},
   "outputs": [
    {
     "name": "stdout",
     "output_type": "stream",
     "text": [
      "   year  month  day  dep_time  sched_dep_time  dep_delay  arr_time  \\\n",
      "0  2013      1    1     517.0             515        2.0     830.0   \n",
      "1  2013      1    1     533.0             529        4.0     850.0   \n",
      "2  2013      1    1     542.0             540        2.0     923.0   \n",
      "\n",
      "   sched_arr_time  arr_delay carrier  flight tailnum origin dest  air_time  \\\n",
      "0             819       11.0      UA    1545  N14228    EWR  IAH     227.0   \n",
      "1             830       20.0      UA    1714  N24211    LGA  IAH     227.0   \n",
      "2             850       33.0      AA    1141  N619AA    JFK  MIA     160.0   \n",
      "\n",
      "   distance  hour  minute            time_hour  \n",
      "0      1400     5      15  2013-01-01 05:00:00  \n",
      "1      1416     5      29  2013-01-01 05:00:00  \n",
      "2      1089     5      40  2013-01-01 05:00:00  \n"
     ]
    }
   ],
   "source": [
    "print(flights.head(3))"
   ]
  },
  {
   "cell_type": "code",
   "execution_count": null,
   "id": "9f968d9d",
   "metadata": {},
   "outputs": [],
   "source": [
    "# Get the planes DataFrame\n",
    "planes = dfs[3]\n",
    "\n",
    "# Count the frequency of engines in our data\n",
    "print(planes['engines'].value_counts())"
   ]
  },
  {
   "cell_type": "code",
   "execution_count": null,
   "id": "5ee3220d",
   "metadata": {},
   "outputs": [],
   "source": [
    "# Look at all planes with >= 3 engines\n",
    "print(planes[planes['engines'] >= 3])"
   ]
  },
  {
   "cell_type": "code",
   "execution_count": null,
   "id": "64798dd8",
   "metadata": {},
   "outputs": [],
   "source": [
    "# Look at all planes with >= 3 engines and <= 100 seats\n",
    "print(planes.loc[(planes['engines'] >= 3) & (planes['seats'] <= 100)])"
   ]
  },
  {
   "cell_type": "markdown",
   "id": "b35deb88",
   "metadata": {},
   "source": [
    "# Data Visualization"
   ]
  },
  {
   "cell_type": "code",
   "execution_count": null,
   "id": "d59c1bda",
   "metadata": {},
   "outputs": [],
   "source": [
    "import matplotlib.pyplot as plt\n",
    "\n",
    "# Scatter plot of engines and seats\n",
    "planes.plot(x=\"engines\", y=\"seats\", kind=\"scatter\")\n",
    "plt.show()"
   ]
  },
  {
   "cell_type": "code",
   "execution_count": null,
   "id": "aeb1383a",
   "metadata": {},
   "outputs": [],
   "source": [
    "# Histogram of seats\n",
    "planes['seats'].plot(kind='hist')\n",
    "plt.show()"
   ]
  },
  {
   "cell_type": "code",
   "execution_count": null,
   "id": "1a18d4e5",
   "metadata": {},
   "outputs": [],
   "source": [
    "# Boxplot of seats by engine\n",
    "planes.boxplot(column=\"seats\", by='engine')\n",
    "plt.xticks(rotation=45)\n",
    "plt.show()"
   ]
  },
  {
   "cell_type": "markdown",
   "id": "caeb2141",
   "metadata": {},
   "source": [
    "# Data transformation"
   ]
  },
  {
   "cell_type": "code",
   "execution_count": 62,
   "id": "f0097188",
   "metadata": {
    "scrolled": true
   },
   "outputs": [
    {
     "name": "stdout",
     "output_type": "stream",
     "text": [
      "0         2013-01-01 05:00:00\n",
      "1         2013-01-01 05:00:00\n",
      "2         2013-01-01 05:00:00\n",
      "3         2013-01-01 05:00:00\n",
      "4         2013-01-01 06:00:00\n",
      "                 ...         \n",
      "336771    2013-09-30 14:00:00\n",
      "336772    2013-09-30 22:00:00\n",
      "336773    2013-09-30 12:00:00\n",
      "336774    2013-09-30 11:00:00\n",
      "336775    2013-09-30 08:00:00\n",
      "Name: time_hour, Length: 336776, dtype: object\n"
     ]
    }
   ],
   "source": [
    "# Print time_hour\n",
    "print(flights['time_hour'])"
   ]
  },
  {
   "cell_type": "code",
   "execution_count": null,
   "id": "4d460089",
   "metadata": {},
   "outputs": [],
   "source": [
    "# Apply the function on data\n",
    "flights['season'] = flights['time_hour'].apply(get_season)\n",
    "\n",
    "# Print time_hour and season\n",
    "print(flights[['time_hour', 'season']])"
   ]
  },
  {
   "cell_type": "code",
   "execution_count": 71,
   "id": "29d0ab5a",
   "metadata": {},
   "outputs": [
    {
     "name": "stdout",
     "output_type": "stream",
     "text": [
      "   carrier  total_delay\n",
      "0       9E    23.819244\n",
      "1       AA     8.933421\n",
      "2       AS    -4.100141\n",
      "3       B6    22.425521\n",
      "4       DL    10.868291\n",
      "5       EV    35.635360\n",
      "6       F9    42.121880\n",
      "7       FL    38.721890\n",
      "8       HA    -2.014620\n",
      "9       MQ    21.220114\n",
      "10      OO    24.517241\n",
      "11      UA    15.574920\n",
      "12      US     5.874288\n",
      "13      VX    14.521110\n",
      "14      WN    27.310777\n",
      "15      YV    34.455882\n"
     ]
    }
   ],
   "source": [
    "# Calculate total_delay\n",
    "flights['total_delay'] = flights['dep_delay'] + flights['arr_delay']\n",
    "\n",
    "# Mean total_delay by carrier\n",
    "tdel_car = flights.groupby('carrier')['total_delay'].mean().reset_index()\n",
    "print(tdel_car)"
   ]
  },
  {
   "cell_type": "code",
   "execution_count": 63,
   "id": "826ba9a6",
   "metadata": {},
   "outputs": [
    {
     "data": {
      "text/plain": [
       "0    13.0\n",
       "1    24.0\n",
       "2    35.0\n",
       "3   -19.0\n",
       "4   -31.0\n",
       "Name: total_delay, dtype: float64"
      ]
     },
     "execution_count": 63,
     "metadata": {},
     "output_type": "execute_result"
    }
   ],
   "source": [
    "# Calculate total_delay\n",
    "flights['total_delay'] = flights['dep_delay'] + flights['arr_delay']\n",
    "flights['total_delay'].head()"
   ]
  },
  {
   "cell_type": "code",
   "execution_count": 67,
   "id": "0fa7a617",
   "metadata": {},
   "outputs": [
    {
     "name": "stdout",
     "output_type": "stream",
     "text": [
      "   carrier  total_delay\n",
      "0       9E    23.819244\n",
      "1       AA     8.933421\n",
      "2       AS    -4.100141\n",
      "3       B6    22.425521\n",
      "4       DL    10.868291\n",
      "5       EV    35.635360\n",
      "6       F9    42.121880\n",
      "7       FL    38.721890\n",
      "8       HA    -2.014620\n",
      "9       MQ    21.220114\n",
      "10      OO    24.517241\n",
      "11      UA    15.574920\n",
      "12      US     5.874288\n",
      "13      VX    14.521110\n",
      "14      WN    27.310777\n",
      "15      YV    34.455882\n"
     ]
    }
   ],
   "source": [
    "# Mean total_delay by carrier\n",
    "tdel_car = flights.groupby('carrier')['total_delay'].mean().reset_index()\n",
    "print(tdel_car)"
   ]
  },
  {
   "cell_type": "code",
   "execution_count": null,
   "id": "c01f65aa",
   "metadata": {},
   "outputs": [],
   "source": [
    "# Mean dep_delay and arr_delay for each season\n",
    "dadel_season = flights.groupby('season')['dep_delay', 'arr_delay'].mean().reset_index()\n",
    "print(dadel_season)"
   ]
  },
  {
   "cell_type": "code",
   "execution_count": 69,
   "id": "4d79a1d8",
   "metadata": {},
   "outputs": [
    {
     "name": "stderr",
     "output_type": "stream",
     "text": [
      "/var/folders/b4/r2b0spdj3mz03127m_zx742r0000gn/T/ipykernel_40256/2060356411.py:2: FutureWarning: Indexing with multiple keys (implicitly converted to a tuple of keys) will be deprecated, use a list instead.\n",
      "  del_ori = flights.groupby('origin')['total_delay', 'dep_delay', 'arr_delay'].agg(['mean', 'std'])\n"
     ]
    },
    {
     "name": "stdout",
     "output_type": "stream",
     "text": [
      "       total_delay             dep_delay            arr_delay           \n",
      "              mean        std       mean        std      mean        std\n",
      "origin                                                                  \n",
      "EWR      24.116165  85.135466  15.107954  41.323704  9.107055  45.529183\n",
      "JFK      17.575088  81.050496  12.112159  39.035071  5.551481  44.277448\n",
      "LGA      16.070071  81.937556  10.346876  39.993021  5.783488  43.862273\n"
     ]
    }
   ],
   "source": [
    "# Mean and std delays by origin\n",
    "del_ori = flights.groupby('origin')['total_delay', 'dep_delay', 'arr_delay'].agg(['mean', 'std'])\n",
    "print(del_ori)"
   ]
  },
  {
   "cell_type": "markdown",
   "id": "6dc8d2e1",
   "metadata": {},
   "source": [
    "# Exploratory Analysis"
   ]
  },
  {
   "cell_type": "code",
   "execution_count": 64,
   "id": "f11a9b12",
   "metadata": {},
   "outputs": [
    {
     "data": {
      "image/png": "[encoded data removed]",
      "text/plain": [
       "<Figure size 432x288 with 1 Axes>"
      ]
     },
     "metadata": {
      "needs_background": "light"
     },
     "output_type": "display_data"
    }
   ],
   "source": [
    "sns.boxplot(x='origin', y='dep_delay', data=flights)\n",
    "plt.show()"
   ]
  },
  {
   "cell_type": "code",
   "execution_count": 70,
   "id": "6f97a713",
   "metadata": {},
   "outputs": [
    {
     "data": {
      "image/png": "[encoded data removed]",
      "text/plain": [
       "<Figure size 432x288 with 2 Axes>"
      ]
     },
     "metadata": {
      "needs_background": "light"
     },
     "output_type": "display_data"
    }
   ],
   "source": [
    "# Create a figure\n",
    "fig, (ax1, ax2) = plt.subplots(2,1)\n",
    "\n",
    "# Boxplot and barplot in the axes\n",
    "sns.boxplot(x='origin', y='dep_delay', data=flights, ax=ax1)\n",
    "sns.barplot(x='carrier', y='total_delay', data=tdel_car, ax=ax2)\n",
    "\n",
    "# Label axes\n",
    "ax1.set_title('Originating airport and the departure delay')\n",
    "\n",
    "# Use tight_layout() so the plots don't overlap\n",
    "fig.tight_layout()\n",
    "plt.show()"
   ]
  },
  {
   "cell_type": "code",
   "execution_count": 72,
   "id": "30564509",
   "metadata": {},
   "outputs": [
    {
     "name": "stdout",
     "output_type": "stream",
     "text": [
      "   year  month  day  dep_time  sched_dep_time  dep_delay  arr_time  \\\n",
      "0  2013      1    1     517.0             515        2.0     830.0   \n",
      "1  2013      1    1     533.0             529        4.0     850.0   \n",
      "2  2013      1    1     542.0             540        2.0     923.0   \n",
      "3  2013      1    1     544.0             545       -1.0    1004.0   \n",
      "4  2013      1    1     554.0             600       -6.0     812.0   \n",
      "\n",
      "   sched_arr_time  arr_delay carrier  flight tailnum origin dest  air_time  \\\n",
      "0             819       11.0      UA    1545  N14228    EWR  IAH     227.0   \n",
      "1             830       20.0      UA    1714  N24211    LGA  IAH     227.0   \n",
      "2             850       33.0      AA    1141  N619AA    JFK  MIA     160.0   \n",
      "3            1022      -18.0      B6     725  N804JB    JFK  BQN     183.0   \n",
      "4             837      -25.0      DL     461  N668DN    LGA  ATL     116.0   \n",
      "\n",
      "   distance  hour  minute            time_hour  total_delay  \n",
      "0      1400     5      15  2013-01-01 05:00:00         13.0  \n",
      "1      1416     5      29  2013-01-01 05:00:00         24.0  \n",
      "2      1089     5      40  2013-01-01 05:00:00         35.0  \n",
      "3      1576     5      45  2013-01-01 05:00:00        -19.0  \n",
      "4       762     6       0  2013-01-01 06:00:00        -31.0  \n"
     ]
    }
   ],
   "source": [
    "print(flights.head())"
   ]
  },
  {
   "cell_type": "markdown",
   "id": "28290b5d",
   "metadata": {},
   "source": [
    "# Dummy variables"
   ]
  },
  {
   "cell_type": "code",
   "execution_count": 73,
   "id": "798d9ba1",
   "metadata": {},
   "outputs": [],
   "source": [
    "flights_sub = flights[['year', 'month', 'day', 'dep_time', 'dep_delay', 'origin']]"
   ]
  },
  {
   "cell_type": "code",
   "execution_count": 75,
   "id": "b05c98ad",
   "metadata": {},
   "outputs": [
    {
     "data": {
      "text/html": [
       "<div>\n",
       "<style scoped>\n",
       "    .dataframe tbody tr th:only-of-type {\n",
       "        vertical-align: middle;\n",
       "    }\n",
       "\n",
       "    .dataframe tbody tr th {\n",
       "        vertical-align: top;\n",
       "    }\n",
       "\n",
       "    .dataframe thead th {\n",
       "        text-align: right;\n",
       "    }\n",
       "</style>\n",
       "<table border=\"1\" class=\"dataframe\">\n",
       "  <thead>\n",
       "    <tr style=\"text-align: right;\">\n",
       "      <th></th>\n",
       "      <th>year</th>\n",
       "      <th>month</th>\n",
       "      <th>day</th>\n",
       "      <th>dep_time</th>\n",
       "      <th>dep_delay</th>\n",
       "      <th>origin_EWR</th>\n",
       "      <th>origin_JFK</th>\n",
       "      <th>origin_LGA</th>\n",
       "    </tr>\n",
       "  </thead>\n",
       "  <tbody>\n",
       "    <tr>\n",
       "      <th>0</th>\n",
       "      <td>2013</td>\n",
       "      <td>1</td>\n",
       "      <td>1</td>\n",
       "      <td>517.0</td>\n",
       "      <td>2.0</td>\n",
       "      <td>1</td>\n",
       "      <td>0</td>\n",
       "      <td>0</td>\n",
       "    </tr>\n",
       "    <tr>\n",
       "      <th>1</th>\n",
       "      <td>2013</td>\n",
       "      <td>1</td>\n",
       "      <td>1</td>\n",
       "      <td>533.0</td>\n",
       "      <td>4.0</td>\n",
       "      <td>0</td>\n",
       "      <td>0</td>\n",
       "      <td>1</td>\n",
       "    </tr>\n",
       "    <tr>\n",
       "      <th>2</th>\n",
       "      <td>2013</td>\n",
       "      <td>1</td>\n",
       "      <td>1</td>\n",
       "      <td>542.0</td>\n",
       "      <td>2.0</td>\n",
       "      <td>0</td>\n",
       "      <td>1</td>\n",
       "      <td>0</td>\n",
       "    </tr>\n",
       "    <tr>\n",
       "      <th>3</th>\n",
       "      <td>2013</td>\n",
       "      <td>1</td>\n",
       "      <td>1</td>\n",
       "      <td>544.0</td>\n",
       "      <td>-1.0</td>\n",
       "      <td>0</td>\n",
       "      <td>1</td>\n",
       "      <td>0</td>\n",
       "    </tr>\n",
       "    <tr>\n",
       "      <th>4</th>\n",
       "      <td>2013</td>\n",
       "      <td>1</td>\n",
       "      <td>1</td>\n",
       "      <td>554.0</td>\n",
       "      <td>-6.0</td>\n",
       "      <td>0</td>\n",
       "      <td>0</td>\n",
       "      <td>1</td>\n",
       "    </tr>\n",
       "  </tbody>\n",
       "</table>\n",
       "</div>"
      ],
      "text/plain": [
       "   year  month  day  dep_time  dep_delay  origin_EWR  origin_JFK  origin_LGA\n",
       "0  2013      1    1     517.0        2.0           1           0           0\n",
       "1  2013      1    1     533.0        4.0           0           0           1\n",
       "2  2013      1    1     542.0        2.0           0           1           0\n",
       "3  2013      1    1     544.0       -1.0           0           1           0\n",
       "4  2013      1    1     554.0       -6.0           0           0           1"
      ]
     },
     "execution_count": 75,
     "metadata": {},
     "output_type": "execute_result"
    }
   ],
   "source": [
    "# Create dummy variables for the origin column\n",
    "flights_dummies = pd.get_dummies(flights_sub)\n",
    "\n",
    "flights_dummies.head()"
   ]
  }
 ],
 "metadata": {
  "kernelspec": {
   "display_name": "Python 3 (ipykernel)",
   "language": "python",
   "name": "python3"
  },
  "language_info": {
   "codemirror_mode": {
    "name": "ipython",
    "version": 3
   },
   "file_extension": ".py",
   "mimetype": "text/x-python",
   "name": "python",
   "nbconvert_exporter": "python",
   "pygments_lexer": "ipython3",
   "version": "3.9.7"
  }
 },
 "nbformat": 4,
 "nbformat_minor": 5
}
